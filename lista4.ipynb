{
 "cells": [
  {
   "cell_type": "markdown",
   "id": "b23bda77",
   "metadata": {},
   "source": [
    "### Lista de Exercícios 5\n",
    "#### Nome: Ciro B Rosa\n",
    "#### N° USP: 2320769"
   ]
  },
  {
   "cell_type": "markdown",
   "id": "a7a1eed3",
   "metadata": {},
   "source": [
    "#### Exercício 4.11"
   ]
  },
  {
   "cell_type": "code",
   "execution_count": null,
   "id": "d453ecbb",
   "metadata": {},
   "outputs": [],
   "source": [
    "# importa dependências da tarefa\n",
    "import math\n",
    "import numpy as np\n",
    "import matplotlib.pyplot as plt\n",
    "from scipy.fft import fft, ifft\n",
    "from scipy.linalg import circulant"
   ]
  },
  {
   "cell_type": "code",
   "execution_count": null,
   "id": "8b873fed",
   "metadata": {},
   "outputs": [],
   "source": [
    "# versão amostrada da função f\n",
    "N = 256\n",
    "ks = np.arange(N)\n",
    "ts = [k / N for k in ks]\n",
    "f  = np.zeros(N)\n",
    "\n",
    "n1 = int(N/2)\n",
    "f[:n1] = [ np.sin(10 * math.pi * t) for t in ts[:n1] ]\n",
    "f[n1:] = [ 1/2 for t in ts[n1:] ]\n"
   ]
  },
  {
   "cell_type": "code",
   "execution_count": null,
   "id": "04040036",
   "metadata": {
    "scrolled": false
   },
   "outputs": [],
   "source": [
    "Ms = np.array((256, 100, 50, 20, 10, 5, 1))\n",
    "\n",
    "for M in Ms:\n",
    "    # calcular filtro de convolução\n",
    "    v = np.zeros(N)\n",
    "    v[:M] = [ 1/M for k in ks[:M] ]\n",
    "    \n",
    "    # calcular convolução\n",
    "    y = np.real( ifft( fft(f) * fft(v) ) )\n",
    "\n",
    "    # plotar gráficos\n",
    "    fig, ax = plt.subplots(1,3,figsize=(20,5))\n",
    "\n",
    "    ax[0].set_title(\"Sinal Original\", fontsize = 18)\n",
    "    ax[0].set_xlabel(\"tempo\")\n",
    "    ax[0].set_ylabel(\"amplitude\")\n",
    "    ax[0].plot(ts, f, color = \"steelblue\")\n",
    "\n",
    "    ax[1].set_title(\"Filtro M = \" + str(M), fontsize = 18)\n",
    "    ax[1].set_xlabel(\"tempo\")\n",
    "    ax[1].set_ylabel(\"amplitude\")\n",
    "    ax[1].plot(ts, v, color = \"green\")\n",
    "\n",
    "    ax[2].set_title(\"Sinal Filtrado\", fontsize = 18)\n",
    "    ax[2].set_xlabel(\"tempo\")\n",
    "    ax[2].set_ylabel(\"amplitude\")\n",
    "    ax[2].plot(ts, y, color = \"red\")\n",
    "\n",
    "    plt.show()"
   ]
  },
  {
   "cell_type": "markdown",
   "id": "40198a27",
   "metadata": {},
   "source": [
    "#### Discussão sobre o exercício:\n",
    "\n",
    "Como a convolução é uma operação comutativa, este aluno entende ser mais conveniente interpretar os resultados ao serem invertidos os papéis de sinal e filtro, ou seja: a análise a seguir toma como \"sinal\" os pulsos quadrados e como \"filtros\" as formas de onda \"parcialmente senoidais\".\n",
    "\n",
    "Para M=1, temos um sinal de impulso. Conforme a teoria, a resposta ao impulso é dada pela resposta em frequência do próprio filtro/sistema. Por este motivo, a saída apresenta a mesma forma \"parcialmente senoidal\" sem distorção visível.\n",
    "\n",
    "À medida que M cresce, o impulso dá lugar a um pulso retangular de duração finita. Para M pequeno, a forma de onda parcialmente senoidal é preservada em sua grande parte, com leves distorções. Este efeito é observado para M entre 5 e 20.\n",
    "\n",
    "Para Ms a partir de 50, a frequência fundamental do sinal senoidal não é mais reconhecida visualmente. Para Ms iguais a 50 e 100, vale notar que a largura de pulso equivale a, respectivamente, um e dois períodos senoidais.\n",
    "\n",
    "Para M=256, o sinal original é completamente perdido."
   ]
  },
  {
   "cell_type": "markdown",
   "id": "0946e58b",
   "metadata": {},
   "source": [
    "#### Exercício 4.13"
   ]
  },
  {
   "cell_type": "code",
   "execution_count": null,
   "id": "5aed4c7d",
   "metadata": {},
   "outputs": [],
   "source": [
    "N = 4\n",
    "\n",
    "h = np.array((1, 2-1j, -1j, -1+2j))\n",
    "print(\"Vetor não trivial h:\", h)\n",
    "\n",
    "H = fft(h)\n",
    "print(\"\\nDFT de h...........:\", H)\n",
    "\n",
    "Mh = circulant(h)\n",
    "print(\"\\nMatriz circulante Mh:\\n\", Mh)\n",
    "\n",
    "evl, evc = np.linalg.eig(Mh)\n",
    "print(\"\\nAutovalores de Mh:\\n\", evl)\n",
    "print(\"\\nAutovetores de Mh:\\n\", evc)\n"
   ]
  },
  {
   "cell_type": "markdown",
   "id": "37f2690b",
   "metadata": {},
   "source": [
    "#### Discussão de resultados:\n",
    "\n",
    "Por inspeção, verifica-se que os autovalores de Mh e a DFT de h (= H) acima, são vetores idênticos a menos de sua ordenação e precisão do zero (1e-16).\n",
    "\n",
    "A verificação da paridade entre autovalores e autovetores pode ser feita através da verificação da igualdade matricial $M_h.E_{N,k} = H_k.E_{N,k}$ para o range de frequências k onde $ 0 \\le k < N $. Esta verificação é feita a seguir."
   ]
  },
  {
   "cell_type": "code",
   "execution_count": null,
   "id": "e3099047",
   "metadata": {},
   "outputs": [],
   "source": [
    "ks = np.arange(N)\n",
    "ms = np.arange(N)\n",
    "\n",
    "for k in ks:\n",
    "    E = [ (np.exp(1j * 2 * math.pi * k * m/N) ) for m in ms ]\n",
    "    E = np.array(E)\n",
    "    \n",
    "    l = np.dot(Mh, E)\n",
    "    r = H[k] * E\n",
    "    assert np.linalg.norm(l-r) < 1e-12\n",
    "    \n",
    "    print(\"Verificado para a frequência k =\", k)"
   ]
  }
 ],
 "metadata": {
  "kernelspec": {
   "display_name": "Python 3 (ipykernel)",
   "language": "python",
   "name": "python3"
  },
  "language_info": {
   "codemirror_mode": {
    "name": "ipython",
    "version": 3
   },
   "file_extension": ".py",
   "mimetype": "text/x-python",
   "name": "python",
   "nbconvert_exporter": "python",
   "pygments_lexer": "ipython3",
   "version": "3.9.6"
  }
 },
 "nbformat": 4,
 "nbformat_minor": 5
}
