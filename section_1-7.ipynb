{
 "cells": [
  {
   "cell_type": "markdown",
   "metadata": {
    "slideshow": {
     "slide_type": "slide"
    }
   },
   "source": [
    "## MAC0317/MAC5920\n",
    "## Introdução ao Processamento de Sinais Digitais\n",
    "### Seção 1.7: Formas de onda básicas (caso discreto)"
   ]
  },
  {
   "cell_type": "code",
   "execution_count": null,
   "metadata": {
    "slideshow": {
     "slide_type": "skip"
    }
   },
   "outputs": [],
   "source": [
    "import math as m\n",
    "import numpy as np\n",
    "%matplotlib inline\n",
    "import matplotlib.pyplot as plt\n",
    "import matplotlib.animation as anim\n",
    "from mpl_toolkits.mplot3d import Axes3D\n",
    "from IPython.display import HTML\n",
    "from IPython.display import Math\n",
    "from ipywidgets import Dropdown, Label, FloatSlider, IntSlider, Layout, ToggleButton, ToggleButtons, interactive, VBox, HBox, AppLayout"
   ]
  },
  {
   "cell_type": "markdown",
   "metadata": {
    "slideshow": {
     "slide_type": "slide"
    }
   },
   "source": [
    "### Formas de onda básicas em $\\mathbb{C}^N$:\n",
    "\n",
    "$E_k$ é o vetor em $\\mathbb{C}^N$ que corresponde à amostragem da função\n",
    "\n",
    "$$\\varepsilon_k(t) = e^{i2\\pi kt}$$\n",
    "\n",
    "com $N$ pontos equiespaçados no intervalo $t\\in[0,1)$. O intervalo de amostragem é $\\Delta_t=\\frac{1}{N}$ e o vetor $E_k$ é definido como\n",
    "\n",
    "$$E_k = \\left[\\begin{array}{c}e^{i2\\pi k\\frac{0}{N}}\\\\ e^{i2\\pi k\\frac{1}{N}}\\\\ e^{i2\\pi k\\frac{2}{N}}\\\\ \\vdots\\\\ e^{i2\\pi k\\frac{N-1}{N}}\\end{array}\\right].$$"
   ]
  },
  {
   "cell_type": "code",
   "execution_count": null,
   "metadata": {
    "slideshow": {
     "slide_type": "skip"
    }
   },
   "outputs": [],
   "source": [
    "N = IntSlider(8, min=1, max=16, step=1, description='N', \n",
    "                 continuous_update=False, style={'description_width': 'initial'},\n",
    "                 layout=Layout(width='50%'))\n",
    "def pltimage(N):\n",
    "    w = np.linspace(0,2*np.pi,100)\n",
    "    circ = np.exp(1j*w)\n",
    "    plt.figure(figsize=(5, 5))\n",
    "    plt.title(r'Componentes das formas básicas de onda com N={}'.format(N),fontdict = {'fontsize' : 16})\n",
    "    plt.plot(circ.real,circ.imag,'b')\n",
    "    plt.axis('square')\n",
    "    plt.gca().spines[:].set_position('center')\n",
    "    plt.tick_params(axis='both',colors='w')\n",
    "    for i in range(N):\n",
    "        z = np.exp(1j*2*np.pi*i/N)\n",
    "        plt.plot(z.real,z.imag,\"*r\",ms=15)\n",
    "    z = np.exp(1j*2*np.pi/N)\n",
    "    plt.annotate(\"$e^{i2\\pi\\\\frac{1}{N}}$\",(z.real+0.1,z.imag),size=20)\n",
    "    plt.annotate(\"$e^{-i2\\pi\\\\frac{1}{N}}=e^{i2\\pi\\ \\\\frac{N-1}{N}}$\",(z.real+0.1,-z.imag-0.1),size=20)\n",
    "    plt.show()"
   ]
  },
  {
   "cell_type": "code",
   "execution_count": null,
   "metadata": {
    "slideshow": {
     "slide_type": "subslide"
    }
   },
   "outputs": [],
   "source": [
    "w = interactive(pltimage, N=N)\n",
    "w.update()\n",
    "AppLayout(\n",
    "    footer=HBox([w.children[0]], layout=Layout(justify_content='center')),\n",
    "    center=HBox([w.children[1]], layout=Layout(justify_content='center'))\n",
    ")"
   ]
  },
  {
   "cell_type": "markdown",
   "metadata": {
    "slideshow": {
     "slide_type": "subslide"
    }
   },
   "source": [
    "### Exemplo de formas de onda básicas com $N=4$, para $k=-2,\\ldots,4$:"
   ]
  },
  {
   "cell_type": "code",
   "execution_count": null,
   "metadata": {
    "slideshow": {
     "slide_type": "skip"
    }
   },
   "outputs": [],
   "source": [
    "N = 4\n",
    "ind = range(-2,N+1)\n",
    "t = np.arange(0,1,1/N)\n",
    "form = r''\n",
    "E = [ m.e**(1j*2*m.pi*k*t) for k in range(N)]\n",
    "for k in ind:\n",
    "    form += r'E_{{{}}} = \\left[\\begin{{array}}{{c}}'.format(k)\n",
    "    for j in range(N):\n",
    "        if abs(E[k%N][j].real)<1e-12:\n",
    "            form += r'{0:g}i\\\\ '.format(E[k%N][j].imag)\n",
    "        elif abs(E[k%N][j].imag)<1e-12:\n",
    "            form += r'{0:g}\\\\ '.format(E[k%N][j].real)\n",
    "        else:\n",
    "            form += r'{0:g}+{1:g}\\\\ '.format(E[k%N][j].real,E[k%N][j].imag)\n",
    "    form += r'\\end{array}\\right]\\ '"
   ]
  },
  {
   "cell_type": "code",
   "execution_count": null,
   "metadata": {
    "scrolled": true,
    "slideshow": {
     "slide_type": "fragment"
    }
   },
   "outputs": [],
   "source": [
    "display(Math(form))"
   ]
  },
  {
   "cell_type": "code",
   "execution_count": null,
   "metadata": {
    "scrolled": true,
    "slideshow": {
     "slide_type": "subslide"
    }
   },
   "outputs": [],
   "source": [
    "fig, ax = plt.subplots(1, len(ind), figsize=(15, 4))\n",
    "for i in range(len(ind)):\n",
    "    k = ind[i]\n",
    "    ax[i].plot(t, E[k%N].real, t, E[k%N].imag)\n",
    "    ax[i].set_title(r\"$E_{{{}}}$\".format(k))\n",
    "fig.suptitle(r'Formas de onda básicas para N={}'.format(N), fontsize=16, y=1)\n",
    "plt.show()"
   ]
  },
  {
   "cell_type": "code",
   "execution_count": null,
   "metadata": {
    "scrolled": true,
    "slideshow": {
     "slide_type": "subslide"
    }
   },
   "outputs": [],
   "source": [
    "fig = plt.figure(figsize=(15, 3))\n",
    "tt = np.arange(0,1,1/(10*N))\n",
    "for i in range(len(ind)):\n",
    "    k = ind[i]%N\n",
    "    EE = m.e**(1j*2*m.pi*k*tt)\n",
    "    ax = fig.add_subplot(1, len(ind), i+1, projection='3d')\n",
    "    ax.plot3D(t,E[k].real,E[k].imag);ax.plot3D(tt,EE.real,EE.imag);ax.plot3D(t,E[k].real,E[k].imag,'*')\n",
    "    ax.view_init(20,-70);ax.set_ylim3d(-1,1);ax.set_zlim3d(-1,1)\n",
    "    ax.set_title(r\"$E_{{{}}}$\".format(ind[i]));ax.set_xlabel('n');ax.set_ylabel('real');ax.set_zlabel('imag')\n",
    "    fig.tight_layout()\n",
    "fig.suptitle(r'Visualização das formas de onda básicas com N={} no plano complexo'.format(N), fontsize=16, y=1.1)\n",
    "plt.show()"
   ]
  },
  {
   "cell_type": "code",
   "execution_count": null,
   "metadata": {
    "slideshow": {
     "slide_type": "subslide"
    }
   },
   "outputs": [],
   "source": [
    "fig = plt.figure(figsize=(15, 3))\n",
    "tt = np.arange(0,1,1/(10*N))\n",
    "for i in range(len(ind)):\n",
    "    k = ind[i]%N\n",
    "    EE = m.e**(1j*2*m.pi*k*tt)\n",
    "    ax = fig.add_subplot(1, len(ind), i+1, projection='3d')\n",
    "    ax.plot3D(t,E[k].real,E[k].imag);ax.plot3D(tt,EE.real,EE.imag);ax.plot3D(t,E[k].real,E[k].imag,'*')\n",
    "    ax.view_init(0,0);ax.set_ylim3d(-1,1);ax.set_zlim3d(-1,1)\n",
    "    ax.set_title(r\"$E_{{{}}}$\".format(ind[i]));ax.set_xlabel('n');ax.set_ylabel('real');ax.set_zlabel('imag')\n",
    "    fig.tight_layout()\n",
    "fig.suptitle(r'Visualização frontal: observe a amostragem do círculo em {} partes'.format(N), fontsize=16, y=1.1)\n",
    "plt.show()"
   ]
  },
  {
   "cell_type": "markdown",
   "metadata": {
    "slideshow": {
     "slide_type": "slide"
    }
   },
   "source": [
    "### Relações de rebatimento nas formas de onda básicas\n",
    "\n",
    "Nos exemplos anteriores ficou evidente a repetição dos vetores $E_k$ a cada $N$ índices, ou seja,\n",
    "\n",
    "$$E_{k+N} = E_k,\\ \\forall k\\in\\mathbb{Z}.$$\n",
    "\n",
    "Isso é consequência direta da periodicidade das funções exponenciais:\n",
    "\n",
    "$$\\left(E_{k+N}\\right)_j = e^{i2\\pi(k+N)\\frac{j}{N}} = e^{i2\\pi k\\frac{j}{N}+i2\\pi j} = e^{i2\\pi k\\frac{j}{N}} = \\left(E_k\\right)_j,\\ \\forall k,j\\in\\mathbb{Z}.$$"
   ]
  },
  {
   "cell_type": "markdown",
   "metadata": {
    "slideshow": {
     "slide_type": "subslide"
    }
   },
   "source": [
    "Observe que a última equação vale também para extensões de cada vetor $E_k$ em relação aos índices $j=0,\\ldots,N-1$, ou seja, cada vetor $E_k$ pode ser comprendido como um recorte de um sinal periódico de duração infinita:\n",
    "\n",
    "$$\\left(\\cdots, \\overbrace{e^{i2\\pi k\\frac{0}{N}}, e^{i2\\pi k\\frac{1}{N}}, \\cdots, e^{i2\\pi k\\frac{N-1}{N}}}, \\overbrace{e^{i2\\pi k\\frac{0}{N}}, e^{i2\\pi k\\frac{1}{N}}, \\cdots, e^{i2\\pi k\\frac{N-1}{N}}}, \\cdots \\right)$$"
   ]
  },
  {
   "cell_type": "markdown",
   "metadata": {
    "slideshow": {
     "slide_type": "subslide"
    }
   },
   "source": [
    "Outra relação de rebatimento importante é aquela chamada de *rebatimento conjugado*:\n",
    "\n",
    "$$\\overline{E_k} = E_{N-k},\\ \\forall k\\in\\mathbb{Z},$$\n",
    "\n",
    "cuja verificação é similar à anterior, mas faz uso da propriedade $\\overline{e^{ix}}=e^{-ix}$:\n",
    "\n",
    "$$\\left(E_{N-k}\\right)_j = e^{i2\\pi(N-k)\\frac{j}{N}} = e^{i2\\pi j-i2\\pi k\\frac{j}{N}} = e^{-i2\\pi k\\frac{j}{N}} = \\overline{e^{i2\\pi k\\frac{j}{N}}} = \\overline{\\left(E_k\\right)_j},\\ \\forall k,j\\in\\mathbb{Z}.$$\n",
    "\n",
    "Juntando essa relação com a anterior $\\left(E_k=E_{k+N}\\right)$ podemos concluir também que:\n",
    "\n",
    "$$E_{-k} = \\overline{E_k},\\ \\forall k\\in\\mathbb{Z}.$$"
   ]
  },
  {
   "cell_type": "markdown",
   "metadata": {
    "slideshow": {
     "slide_type": "slide"
    }
   },
   "source": [
    "### Formas de onda básicas para imagens (em $\\mathbb{C}^{M\\times N}$):\n",
    "\n",
    "$E_{k,l}$ é a matriz em $\\mathbb{C}^{M\\times N}$ que corresponde à amostragem da função\n",
    "\n",
    "$$\\varepsilon_{kl}(x,y) = e^{i2\\pi(kx+ly)}$$\n",
    "\n",
    "com $M\\times N$ pontos equiespaçados no retângulo $(x,y)\\in[0,1)\\times[0,1)$. Os intervalos de amostragem são $\\Delta_x=\\frac{1}{M}$ e $\\Delta_y=\\frac{1}{N}$."
   ]
  },
  {
   "cell_type": "markdown",
   "metadata": {
    "slideshow": {
     "slide_type": "subslide"
    }
   },
   "source": [
    "A matriz $E_{k,l}$ é definida como\n",
    "\n",
    "$$E_{k,l} = \\left[\\begin{array}{cccc}\n",
    "e^{i2\\pi 0}&e^{i2\\pi l\\frac{1}{N}}&\\cdots&e^{i2\\pi l\\frac{N-1}{N}}\\\\\n",
    "e^{i2\\pi k\\frac{1}{M}}&e^{i2\\pi \\left(k\\frac{1}{M}+l\\frac{1}{N}\\right)}&\\cdots&e^{i2\\pi \\left(k\\frac{1}{M}+l\\frac{N-1}{N}\\right)}\\\\\n",
    "\\vdots&\\vdots&\\begin{array}{ccc}\\ddots&\\vdots\\\\&e^{i2\\pi \\left(k\\frac{i}{M}+l\\frac{j}{N}\\right)}\\\\&\\vdots&\\ddots\\end{array}&\\vdots\\\\\n",
    "e^{i2\\pi k\\frac{M-1}{M}}&e^{i2\\pi\\left(k\\frac{M-1}{M}+l\\frac{1}{N}\\right)}&\\cdots&e^{i2\\pi\\left(k\\frac{M-1}{M}+l\\frac{N-1}{N}\\right)}\n",
    "\\end{array}\\right].$$\n",
    "\n",
    "**Observe a indexação em função de $(i,j)$:** a frequência $k$ é associada ao índice $i$ das linhas, enquanto a frequência $l$ é associada ao índice $j$ das colunas. Aqui não é feita aquela \"inversão\" do sinal do eixo $y$, mas respeita-se sempre a associação entre $k$ e $i$ (ambos entre $0,\\ldots,M-1$) e entre $l$ e $j$ (ambos entre $0,\\ldots,N-1$)."
   ]
  },
  {
   "cell_type": "code",
   "execution_count": null,
   "metadata": {
    "scrolled": false,
    "slideshow": {
     "slide_type": "slide"
    }
   },
   "outputs": [],
   "source": [
    "M=4;N=4; fig, ax = plt.subplots(M,2*N+1,figsize=(10,5))\n",
    "i = np.arange(0,1,1/M); j = np.arange(0,1,1/N); i, j = np.meshgrid(i,j,indexing='ij')\n",
    "for k in range(M):\n",
    "  for l in range(N):\n",
    "    f =  m.e ** (1j * 2 * m.pi * k * i) * m.e ** (1j * 2 * m.pi * l * j)\n",
    "    ax[k][l].imshow(f.real,cmap='gray',vmin=-1,vmax=+1);ax[k][l].axis(\"off\")\n",
    "    ax[k][l].set_title(r\"$\\Re E_{{{}{}}}$\".format(k,l))\n",
    "    ax[k][l+N+1].imshow(f.imag,cmap='gray',vmin=-1,vmax=+1);ax[k][l+N+1].axis(\"off\")\n",
    "    ax[k][l+N+1].set_title(r\"$\\Im E_{{{}{}}}$\".format(k,l))\n",
    "  ax[k][N].axis(\"off\")\n",
    "fig.suptitle(r'Formas de onda básicas para imagens {}×{}'.format(M,N), fontsize=16, y=1)\n",
    "plt.show()"
   ]
  },
  {
   "cell_type": "markdown",
   "metadata": {
    "slideshow": {
     "slide_type": "slide"
    }
   },
   "source": [
    "### Relação entre formas de onda básicas 1D e 2D\n",
    "\n",
    "$$E_{M,k}\\cdot E_{N,l}^T = \\left[\\begin{array}{c}e^{i2\\pi k\\frac{0}{M}}\\\\ e^{i2\\pi k\\frac{1}{M}}\\\\ e^{i2\\pi k\\frac{2}{M}}\\\\ \\vdots\\\\ e^{i2\\pi k\\frac{M-1}{M}}\\end{array}\\right]\\left[e^{i2\\pi l\\frac{0}{N}}\\quad e^{i2\\pi l\\frac{1}{N}}\\quad e^{i2\\pi l\\frac{2}{N}}\\quad\\cdots\\quad e^{i2\\pi l\\frac{N-1}{N}}\\right] = E_{k,l}$$\n",
    "\n",
    "**Dica da demonstração (exercício 1.17 da lista 1):** expressar formalmente o produto externo acima para mostrar que as duas matrizes são idênticas."
   ]
  },
  {
   "cell_type": "markdown",
   "metadata": {
    "slideshow": {
     "slide_type": "slide"
    }
   },
   "source": [
    "### Relações de rebatimento em imagens\n",
    "\n",
    "Existem muitas relações de rebatimento observáveis nas imagens acima, cujas demonstrações são parecidas com as dos casos unidimensionais, como por exemplo $\\forall k,l$\n",
    "\n",
    "$$E_{k,l} = E_{l,k}^T \\iff \\left(E_{k,l}\\right)_{i,j}=\\left(E_{l,k}\\right)_{j,i}, \\forall i,j$$\n",
    "\n",
    "entre muitas outras (veja o exercício 1.21)."
   ]
  }
 ],
 "metadata": {
  "celltoolbar": "Slideshow",
  "kernelspec": {
   "display_name": "Python 3",
   "language": "python",
   "name": "python3"
  },
  "language_info": {
   "codemirror_mode": {
    "name": "ipython",
    "version": 3
   },
   "file_extension": ".py",
   "mimetype": "text/x-python",
   "name": "python",
   "nbconvert_exporter": "python",
   "pygments_lexer": "ipython3",
   "version": "3.7.11"
  }
 },
 "nbformat": 4,
 "nbformat_minor": 2
}
