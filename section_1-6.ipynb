{
 "cells": [
  {
   "cell_type": "markdown",
   "metadata": {
    "slideshow": {
     "slide_type": "slide"
    }
   },
   "source": [
    "## MAC0317/MAC5920\n",
    "## Introdução ao Processamento de Sinais Digitais\n",
    "### Seção 1.6: Amostragem e aliasing"
   ]
  },
  {
   "cell_type": "code",
   "execution_count": null,
   "metadata": {
    "slideshow": {
     "slide_type": "skip"
    }
   },
   "outputs": [],
   "source": [
    "import math as m\n",
    "import numpy as np\n",
    "%matplotlib inline\n",
    "import matplotlib.pyplot as plt\n",
    "import matplotlib.animation as anim\n",
    "from IPython.display import HTML"
   ]
  },
  {
   "cell_type": "markdown",
   "metadata": {
    "slideshow": {
     "slide_type": "slide"
    }
   },
   "source": [
    "### Dependência do sinal em relação à taxa de amostragem\n",
    "### Figura 1.8: Exemplo simples de sinal 1D amostrado a 20Hz ($\\Delta_t=0.05$)\n",
    "\n",
    "$$f(t) = \\sin(\\omega t)$$"
   ]
  },
  {
   "cell_type": "code",
   "execution_count": null,
   "metadata": {
    "slideshow": {
     "slide_type": "fragment"
    }
   },
   "outputs": [],
   "source": [
    "t = np.linspace(0,1,21)\n",
    "x = np.sin(44*m.pi*t)\n",
    "plt.figure(figsize=(15,5))\n",
    "plt.axhline(y=0.0, color='gray', linestyle='--', ms=1)\n",
    "plt.plot(t,x,\"*\")\n",
    "plt.show()"
   ]
  },
  {
   "cell_type": "markdown",
   "metadata": {
    "slideshow": {
     "slide_type": "subslide"
    }
   },
   "source": [
    "### Figura 1.9: A mesma função anterior, amostrada a 200Hz ($\\Delta_t=0.005$)"
   ]
  },
  {
   "cell_type": "code",
   "execution_count": null,
   "metadata": {
    "scrolled": true,
    "slideshow": {
     "slide_type": "fragment"
    }
   },
   "outputs": [],
   "source": [
    "t = np.linspace(0,1,21)\n",
    "x = np.sin(44*m.pi*t)\n",
    "t2 = np.linspace(0,1,201)\n",
    "x2 = np.sin(44*m.pi*t2)\n",
    "plt.figure(figsize=(15,5))\n",
    "plt.axhline(y=0.0, color='gray', linestyle='--', ms=1)\n",
    "plt.plot(t2,x2, label='amostrado a 200Hz', color='orange')\n",
    "plt.plot(t,x,\"*\", label='amostrado a 20Hz')\n",
    "plt.xlim([0, 1])\n",
    "plt.legend(loc='upper left', bbox_to_anchor=(1, 1))\n",
    "plt.show()"
   ]
  },
  {
   "cell_type": "markdown",
   "metadata": {
    "slideshow": {
     "slide_type": "slide"
    }
   },
   "source": [
    "## Explicação: o fenômeno do rebatimento\n",
    "\n",
    "**O problema:** existem infinitos valores de $f$ e $g$ tais que\n",
    "\n",
    "$$\\sin\\left(2\\pi f\\frac{n}{R}\\right) = \\sin\\left(2\\pi g\\frac{n}{R}\\right), \\forall n\\in\\mathbb{Z}.$$\n",
    "\n",
    "Para essa condição valer, basta que os argumentos das senoides acima correspondam sempre a ângulos equivalentes. Isso ocorre, por exemplo, quando\n",
    "\n",
    "$$2\\pi f\\frac{n}{R} = 2\\pi g\\frac{n}{R} + k*2\\pi*n$$\n",
    "\n",
    "para algum $k\\in\\mathbb{Z}$ e para qualquer $n\\in\\mathbb{Z}$. A condição acima equivale a\n",
    "\n",
    "$$f-g = kR.$$"
   ]
  },
  {
   "cell_type": "markdown",
   "metadata": {
    "slideshow": {
     "slide_type": "subslide"
    }
   },
   "source": [
    "A mesma condição vale para que dois cossenos de frequências $f$ e $g$ produzam a mesma lista de amostras, e analogamente para duas exponenciais complexas de frequências f e g:\n",
    "\n",
    "$$\\begin{array}{c}\n",
    "e^{i2\\pi f\\frac{n}{R}} = e^{i2\\pi g\\frac{n}{R}}, \\forall n\\in\\mathbb{Z}\\\\\n",
    "\\Updownarrow\\\\\n",
    "e^{i2\\pi (f-g)\\frac{n}{R}}=1, \\forall n\\in\\mathbb{Z}\\\\\n",
    "\\Updownarrow\\\\\n",
    "e^{i2\\pi (f-g)\\frac{n}{R}}=e^{i2\\pi n}, \\forall n\\in\\mathbb{Z}\\\\\n",
    "\\Updownarrow\\\\\n",
    "\\forall n\\in\\mathbb{Z}\\quad\\exists k\\in\\mathbb{Z}: 2\\pi (f-g)\\frac{n}{R} = k2\\pi n\\\\\n",
    "\\Updownarrow\\\\\n",
    "\\exists k\\in\\mathbb{Z}: f-g = kR\n",
    "\\end{array}\n",
    "$$\n",
    "\n",
    "Assim, ao utilizarmos uma taxa de amostragem R, todas as senoides e/ou exponenciais com frequências\n",
    "\n",
    "$$g=\\ldots,f-3R,f-2R,f-R,f,f+R,f+2R,f+3R\\ldots$$\n",
    "\n",
    "gerarão a mesma lista de amostras que aquela com frequência $f$."
   ]
  },
  {
   "cell_type": "markdown",
   "metadata": {
    "slideshow": {
     "slide_type": "subslide"
    }
   },
   "source": [
    "### Aliasing traz duas implicações importantes:\n",
    "\n",
    "> - implicação física/perceptual: ao se amostrar um sinal analógico com taxa de amostragem $R$, perde-se a capacidade de discernir frequências separadas por múltiplos de $R$, e em particular os valores que não estão na faixa $-\\frac{R}{2}<f\\le \\frac{R}{2}$ serão representados incorretamente (rebatidos), correspondendo a alguma outra frequência (aparente) que pertence à faixa representável.\n",
    "\n",
    "> - implicação matemática: para se analisar um sinal a $R$ Hz, basta considerar frequências na faixa $-\\frac{R}{2}<f\\le \\frac{R}{2}$.\n",
    "\n",
    "Essas implicações ilustram a condição de Shannon-Nyquist, que afirma que para representar corretamente componentes senoidais de até $F$ Hz é necessário utilizar uma taxa de amostragem $R\\ge 2F$ Hz, e também explicam a necessidade de utilização de filtros passa-baixas na conversão analógico-digital.\n",
    "\n"
   ]
  },
  {
   "cell_type": "markdown",
   "metadata": {
    "slideshow": {
     "slide_type": "slide"
    }
   },
   "source": [
    "### Figura 1.10: Exemplo de aliasing espacial. A mesma função \n",
    "\n",
    "$$f(x,y)=\\sin(2\\pi(50x+70y))$$\n",
    "\n",
    "### é amostrada em grids de 60x60, 100x100, 300x300 e 1000x1000"
   ]
  },
  {
   "cell_type": "code",
   "execution_count": null,
   "metadata": {
    "slideshow": {
     "slide_type": "fragment"
    }
   },
   "outputs": [],
   "source": [
    "N=[60, 100, 300, 1000]\n",
    "g, ax = plt.subplots(1,4,figsize=(18,5))\n",
    "for j in range(4):\n",
    "    R = N[j]; x = np.arange(0,1,1/R); y = np.arange(0,1,1/R)\n",
    "    x, y = np.meshgrid(x,y)\n",
    "    # só de brincadeira, construímos o seno usando a parte imaginária de uma exponencial complexa\n",
    "    f = m.e ** (2 * m.pi * 1j * 70 * y) * m.e ** (2 * m.pi * 1j * 50 * x)\n",
    "    ax[j].imshow(f.imag, origin='lower', cmap='gray', vmin=-1, vmax=1)\n",
    "    ax[j].axis('off')\n",
    "    ax[j].set_title(\"amostragem com {0}x{1} pontos\".format(N[j],N[j]))\n",
    "plt.show()"
   ]
  },
  {
   "cell_type": "markdown",
   "metadata": {
    "slideshow": {
     "slide_type": "slide"
    }
   },
   "source": [
    "### Alternativa: mostra a variação do tamanho do grid de 10 em 10"
   ]
  },
  {
   "cell_type": "code",
   "execution_count": null,
   "metadata": {
    "slideshow": {
     "slide_type": "skip"
    }
   },
   "outputs": [],
   "source": [
    "%%capture\n",
    "plt.ion()\n",
    "fig = plt.figure(figsize=(10,10))\n",
    "plt.gray()\n",
    "density = 500\n",
    "x = np.arange(0,1,1/density)\n",
    "y = np.arange(0,1,1/density)\n",
    "x, y = np.meshgrid(x,y)\n",
    "ims = []\n",
    "for N in np.arange(50,500,10):\n",
    "    f = m.e**(2*m.pi*1j*70*np.round(y*N)/N)*m.e**(2*m.pi*1j*50*np.round(x*N)/N)\n",
    "    im = plt.imshow(f.imag, origin='lower', cmap='gray', vmin=-1, vmax=1)\n",
    "    plt.axis('off')\n",
    "    ims.append([im])\n",
    "    \n",
    "imf = anim.ArtistAnimation(fig, ims, interval=250, blit=True)"
   ]
  },
  {
   "cell_type": "code",
   "execution_count": null,
   "metadata": {
    "slideshow": {
     "slide_type": "fragment"
    }
   },
   "outputs": [],
   "source": [
    "HTML(imf.to_jshtml())"
   ]
  }
 ],
 "metadata": {
  "celltoolbar": "Slideshow",
  "kernelspec": {
   "display_name": "Python 3",
   "language": "python",
   "name": "python3"
  },
  "language_info": {
   "codemirror_mode": {
    "name": "ipython",
    "version": 3
   },
   "file_extension": ".py",
   "mimetype": "text/x-python",
   "name": "python",
   "nbconvert_exporter": "python",
   "pygments_lexer": "ipython3",
   "version": "3.7.11"
  }
 },
 "nbformat": 4,
 "nbformat_minor": 2
}
