{
 "cells": [
  {
   "cell_type": "markdown",
   "metadata": {
    "slideshow": {
     "slide_type": "slide"
    }
   },
   "source": [
    "# MAC0317/MAC5920\n",
    "## Introdução ao Processamento de Sinais Digitais\n",
    "### Seção 3.3: Exemplos iniciais - Limiarização (thresholding)"
   ]
  },
  {
   "cell_type": "code",
   "execution_count": null,
   "metadata": {
    "slideshow": {
     "slide_type": "skip"
    }
   },
   "outputs": [],
   "source": [
    "import math as m\n",
    "import numpy as np\n",
    "import scipy.fftpack as spfft\n",
    "from imageio import imread\n",
    "import matplotlib.pyplot as plt\n",
    "from ipywidgets import FloatLogSlider,Label,Layout, interactive, VBox, AppLayout"
   ]
  },
  {
   "cell_type": "markdown",
   "metadata": {
    "slideshow": {
     "slide_type": "subslide"
    }
   },
   "source": [
    "Consideraremos o esquema de compressão seguinte: dado $x\\in\\mathbb{R}^N$ e um parâmetro de limiarização $c\\in[0,1]$,\n",
    "\n",
    "> 1. $\\mbox{compute}\\ X=DFT(x)$\n",
    "2. $\\mbox{calcule}\\ M=\\max\\{|X_k|,\\ k=0,\\ldots,N-1\\}$\n",
    "3. $\\mbox{defina}\\ \\tilde{X}\\in\\mathbb{C}^N\\ \\mbox{como}$\n",
    "    \n",
    "$$\\tilde{X}_k = \\left\\{\\begin{array}{ll}\n",
    "    X_k&\\mbox{se}\\ |X_k| > cM,\\\\\n",
    "    0&\\mbox{c.c.}\\end{array}\\right.$$\n",
    "\n",
    "e para a descompressão:\n",
    "\n",
    "> 4. $\\mbox{calcule}\\ \\tilde{x} = IDFT(\\tilde{X})$"
   ]
  },
  {
   "cell_type": "markdown",
   "metadata": {
    "slideshow": {
     "slide_type": "subslide"
    }
   },
   "source": [
    "### Duas medidas importantes relativas à compressão\n",
    "\n",
    "**Razão de compressão:** percentual de componentes *preservadas* na limiarização\n",
    "$$P(c) = \\frac{\\#\\tilde{X}}{\\#x} = \\frac{ \\#\\{k: \\text{ } |\\tilde{X}_k| > 0\\}}{N} = \\frac{\\#\\{k: \\text{ } |X_k| > cM\\}}{N}.$$\n",
    "\n",
    "**Perda de qualidade:** distância relativa em energia / variação relativa de energia\n",
    "$$D(c) =  \\frac{\\lVert\\textbf{x} - \\tilde{\\textbf{x}} \\rVert^2}{\\lVert\\textbf{x}\\rVert ^2}.$$ "
   ]
  },
  {
   "cell_type": "markdown",
   "metadata": {
    "slideshow": {
     "slide_type": "slide"
    }
   },
   "source": [
    "### Seção 3.3.1: Exemplo de compressão 1 - uma função contínua\n",
    " Gráfico da função $f(t)=(t-t^2)^2$ e sua DFT"
   ]
  },
  {
   "cell_type": "code",
   "execution_count": null,
   "metadata": {
    "slideshow": {
     "slide_type": "skip"
    }
   },
   "outputs": [],
   "source": [
    "# Função auxiliar para plotar uma função f(t) e seu espectro de energia, centralizado no 0\n",
    "def plot_func_fft(t,f):\n",
    "    N = len(t)\n",
    "    F = np.fft.fft(f)\n",
    "    F_power = 1/N * abs(F)\n",
    "    fig, ax = plt.subplots(1,2,figsize=(15,5))\n",
    "    ax[0].set_title('Sinal f(t)')\n",
    "    ax[0].plot(t,f)\n",
    "    ax[0].set_xlabel('tempo (s)')\n",
    "    ax[0].set_ylabel('amplitude')\n",
    "    ax[1].set_title('Espectro de Magnitude f(t) centrado em 0')\n",
    "    ax[1].plot( np.arange(N) - N//2, np.roll(F_power, N//2))\n",
    "    ax[1].set_xlabel('bins')\n",
    "    ax[1].set_ylabel('Energia')\n",
    "    plt.show()"
   ]
  },
  {
   "cell_type": "code",
   "execution_count": null,
   "metadata": {
    "slideshow": {
     "slide_type": "fragment"
    }
   },
   "outputs": [],
   "source": [
    "t = np.linspace(0, 1, 256)\n",
    "f = (t - t**2)**2\n",
    "plot_func_fft(t,f)"
   ]
  },
  {
   "cell_type": "markdown",
   "metadata": {
    "slideshow": {
     "slide_type": "subslide"
    }
   },
   "source": [
    "### Tabela 3.1: eficiência da compressão e distorção"
   ]
  },
  {
   "cell_type": "code",
   "execution_count": null,
   "metadata": {
    "slideshow": {
     "slide_type": "skip"
    }
   },
   "outputs": [],
   "source": [
    "# várias funções auxiliares...\n",
    "def thresholding(f, c):\n",
    "    F = np.fft.fft(f)\n",
    "    M = max(abs(F))\n",
    "    F_tilde = np.array([F_k if abs(F_k) > c*M else 0.0 for F_k in F])\n",
    "    f_tilde = np.real(np.fft.ifft(F_tilde))\n",
    "    return f_tilde, F_tilde\n",
    "\n",
    "def compression(X_tilde):\n",
    "    return np.count_nonzero(X_tilde)/len(X_tilde)\n",
    "\n",
    "def distortion(f, f_tilde):\n",
    "    return np.linalg.norm(f-f_tilde)**2 / np.linalg.norm(f)**2\n",
    "\n",
    "def comp_dist_list(f,C):\n",
    "    P = []\n",
    "    D = []\n",
    "    for c in C:\n",
    "        f_tilde, F_tilde = thresholding(f, c)\n",
    "        P += [compression(F_tilde)]\n",
    "        D += [distortion(f, f_tilde)]\n",
    "    return P, D\n",
    "\n",
    "def plot_threshold(f, c_max=0.5):\n",
    "    C = np.arange(0,c_max, 1/(100*c_max))\n",
    "    P, D = comp_dist_list(f,C)\n",
    "    fig, ax = plt.subplots(1,2,figsize=(15,5))\n",
    "    ax[0].plot(C, P, label='P(c)')\n",
    "    ax[0].set_title(r\"Compressão dos sinal em função de $c$\")\n",
    "    ax[0].set_xlabel(\"c\")\n",
    "    ax[0].set_ylabel(\"Compressão\")\n",
    "    ax[1].plot(C, D, label='D(c)')\n",
    "    ax[1].set_title(r\"Distorção dos sinal em função de $c$\")\n",
    "    ax[1].set_xlabel(\"c\")\n",
    "    ax[1].set_ylabel(\"Distorção\")\n",
    "    plt.show()"
   ]
  },
  {
   "cell_type": "code",
   "execution_count": null,
   "metadata": {
    "slideshow": {
     "slide_type": "fragment"
    }
   },
   "outputs": [],
   "source": [
    "# C representa o conjunto de limiares para eliminação de coeficientes \"pequenos\" do espectro\n",
    "C = [0.005, 0.01, 0.02, 0.03, 0.1, 0.5]\n",
    "P, D = comp_dist_list(f, C)\n",
    "print(\"c\\tP(c)\\t\\tD(c)\\n--------------------------------\")\n",
    "for i in range( len(C) ):\n",
    "    print(\"%.3f\\t%f\\t%f\" % (C[i], P[i], D[i]))"
   ]
  },
  {
   "cell_type": "code",
   "execution_count": null,
   "metadata": {
    "slideshow": {
     "slide_type": "subslide"
    }
   },
   "outputs": [],
   "source": [
    "plot_threshold(f)"
   ]
  },
  {
   "cell_type": "markdown",
   "metadata": {
    "slideshow": {
     "slide_type": "slide"
    }
   },
   "source": [
    "### Seção 3.3.2: Exemplo de compressão 2 - Função degrau e sua DFT"
   ]
  },
  {
   "cell_type": "code",
   "execution_count": null,
   "metadata": {
    "slideshow": {
     "slide_type": "fragment"
    }
   },
   "outputs": [],
   "source": [
    "N = 256\n",
    "t = np.linspace(0, 1, N)\n",
    "f = np.zeros(N)\n",
    "f[0 : int(np.floor(0.2 * N+1))] += 1\n",
    "plot_func_fft(t,f)"
   ]
  },
  {
   "cell_type": "markdown",
   "metadata": {
    "slideshow": {
     "slide_type": "subslide"
    }
   },
   "source": [
    "### Tabela 3.2: compressão e distorção para o exemplo 2"
   ]
  },
  {
   "cell_type": "code",
   "execution_count": null,
   "metadata": {
    "slideshow": {
     "slide_type": "fragment"
    }
   },
   "outputs": [],
   "source": [
    "C = [0.005, 0.01, 0.02, 0.03, 0.1, 0.5]\n",
    "P, D = comp_dist_list(f, C)\n",
    "print(\"c\\tP(c)\\t\\tD(c)\\n--------------------------------\")\n",
    "for i in range( len(C) ):\n",
    "    print(\"%.3f\\t%f\\t%f\" % (C[i], P[i], D[i]))"
   ]
  },
  {
   "cell_type": "code",
   "execution_count": null,
   "metadata": {
    "slideshow": {
     "slide_type": "subslide"
    }
   },
   "outputs": [],
   "source": [
    "plot_threshold(f, c_max=1.0)"
   ]
  },
  {
   "cell_type": "markdown",
   "metadata": {
    "slideshow": {
     "slide_type": "subslide"
    }
   },
   "source": [
    "## Figura 3.5: Reconstrução da função usando compressão (iterativa)"
   ]
  },
  {
   "cell_type": "code",
   "execution_count": null,
   "metadata": {
    "slideshow": {
     "slide_type": "skip"
    }
   },
   "outputs": [],
   "source": [
    "c = FloatLogSlider(value=-3,base=10, min=-3,max=0,basestep=0.2, continuous_update=False, layout=Layout(width='95%'))\n",
    "def plt_sampled_signal(c):\n",
    "    N = 256\n",
    "    t = np.linspace(0, 1, N)\n",
    "    f = np.zeros(N)\n",
    "    f[0 : int(np.floor(0.2 * N+1))] += 1\n",
    "    f_tilde, F_tilde = thresholding(f, c)\n",
    "    F = np.fft.fft(f)\n",
    "    \n",
    "    #plt.figure(figsize=(15,5))\n",
    "    fig, ax = plt.subplots(1,2,figsize=(15,5))\n",
    "    ax[0].plot(t, f, label='Original')\n",
    "    ax[0].plot(t, f_tilde, label='Comprimido')\n",
    "    ax[0].set_title('Forma de onda quadrada de 1Hz')\n",
    "    ax[0].set_xlabel(f'tempo (s)\\n\\nRazão de Compressão: {compression(F_tilde)*100:.2f}%')\n",
    "    ax[0].set_ylabel('amplitude')\n",
    "    ax[1].plot( np.arange(N) - N//2, np.roll(abs(F)/N, N//2),label='Original')\n",
    "    ax[1].plot(np.arange(N) - N//2, np.roll(abs(F_tilde)/N, N//2), label='Comprimido')\n",
    "    ax[1].set_title('Espectro de magnitude')\n",
    "    ax[1].set_xlabel(f'bins\\n\\nDistorção: {distortion(f,f_tilde)*100:.2f}%')\n",
    "    ax[1].set_ylabel('amplitude')\n",
    "    \n",
    "    plt.legend(loc='upper left', bbox_to_anchor=(1, 1))\n",
    "    plt.show()"
   ]
  },
  {
   "cell_type": "code",
   "execution_count": null,
   "metadata": {
    "slideshow": {
     "slide_type": "fragment"
    }
   },
   "outputs": [],
   "source": [
    "# Cria o ambiente interativo\n",
    "w = interactive(plt_sampled_signal, c=c,)\n",
    "display(VBox([w.children[1],  w.children[0]], layout=Layout(align_items='center')))\n",
    "w.update()"
   ]
  },
  {
   "cell_type": "markdown",
   "metadata": {
    "slideshow": {
     "slide_type": "slide"
    }
   },
   "source": [
    "## Seção 3.3.3: Exemplo de compressão 3 -  função identidade $(\\;f(t)=t\\;)$ e sua DFT"
   ]
  },
  {
   "cell_type": "code",
   "execution_count": null,
   "metadata": {
    "slideshow": {
     "slide_type": "fragment"
    }
   },
   "outputs": [],
   "source": [
    "N = 256;\n",
    "t = np.linspace(0, 1, N)\n",
    "f = t\n",
    "plot_func_fft(t,f)"
   ]
  },
  {
   "cell_type": "markdown",
   "metadata": {
    "slideshow": {
     "slide_type": "subslide"
    }
   },
   "source": [
    "## Tabela 3.3: compressão e distorção para $\\ f(t)=t$"
   ]
  },
  {
   "cell_type": "code",
   "execution_count": null,
   "metadata": {
    "slideshow": {
     "slide_type": "fragment"
    }
   },
   "outputs": [],
   "source": [
    "C = [0.005, 0.01, 0.02, 0.03, 0.1, 0.5]\n",
    "P, D = comp_dist_list(f, C)\n",
    "print(\"c\\tP(c)\\t\\tD(c)\\n--------------------------------\")\n",
    "for i in range( len(C) ):\n",
    "    print(\"%.3f\\t%f\\t%f\" % (C[i], P[i], D[i]))"
   ]
  },
  {
   "cell_type": "code",
   "execution_count": null,
   "metadata": {
    "slideshow": {
     "slide_type": "subslide"
    }
   },
   "outputs": [],
   "source": [
    "plot_threshold(f)"
   ]
  },
  {
   "cell_type": "markdown",
   "metadata": {
    "slideshow": {
     "slide_type": "subslide"
    }
   },
   "source": [
    "## Figura 3.6: Reconstrução da função usando compressão (iterativa)"
   ]
  },
  {
   "cell_type": "code",
   "execution_count": null,
   "metadata": {
    "slideshow": {
     "slide_type": "skip"
    }
   },
   "outputs": [],
   "source": [
    "c = FloatLogSlider(value=-3,base=10, min=-3,max=0,basestep=0.2, continuous_update=False, layout=Layout(width='95%'))\n",
    "def plt_sampled_signal(c):\n",
    "    N = 256\n",
    "    t = np.linspace(0, 1, N)\n",
    "    f = t\n",
    "    f_tilde, F_tilde = thresholding(f, c)\n",
    "    F = np.fft.fft(f)\n",
    "    \n",
    "    #plt.figure(figsize=(15,5))\n",
    "    fig, ax = plt.subplots(1,2,figsize=(15,5))\n",
    "    ax[0].plot(t, f, label='Original')\n",
    "    ax[0].plot(t, f_tilde, label='Comprimido')\n",
    "    ax[0].set_title('Forma de onda')\n",
    "    ax[0].set_ylabel('amplitude')\n",
    "    ax[0].set_xlabel(f'tempo (s)\\n\\nRazão de Compressão: {compression(F_tilde)*100:.2f}%')\n",
    "    ax[0].set_ylabel('amplitude')\n",
    "    ax[1].plot( np.arange(N) - N//2, np.roll(abs(F)/N, N//2),label='Original')\n",
    "    ax[1].plot(np.arange(N) - N//2, np.roll(abs(F_tilde)/N, N//2), label='Comprimido')\n",
    "    ax[1].set_title('Espectro de magnitude')\n",
    "    ax[1].set_xlabel(f'bins\\n\\nDistorção: {distortion(f,f_tilde)*100:.2f}%')\n",
    "    ax[1].set_ylabel('amplitude')\n",
    "    \n",
    "    plt.legend(loc='upper left', bbox_to_anchor=(1, 1))\n",
    "    plt.show()"
   ]
  },
  {
   "cell_type": "code",
   "execution_count": null,
   "metadata": {
    "slideshow": {
     "slide_type": "fragment"
    }
   },
   "outputs": [],
   "source": [
    "# Cria o ambiente interativo\n",
    "w = interactive(plt_sampled_signal, c=c,)\n",
    "display(VBox([w.children[1], w.children[0]], layout=Layout(align_items='center')))\n",
    "w.update()"
   ]
  },
  {
   "cell_type": "markdown",
   "metadata": {
    "slideshow": {
     "slide_type": "subslide"
    }
   },
   "source": [
    "## Figura 3.7: Usa o espectro original para sintetizar 3 períodos da forma de onda\n",
    "\n",
    "Lembre-se que a equação de síntese\n",
    "\n",
    "$$x_n=\\frac{1}{N}\\sum_{k=0}^{N-1}X_ke^{i2\\pi kn/N}$$\n",
    "\n",
    "pode ser usada $\\forall n\\in\\mathbb{Z}$."
   ]
  },
  {
   "cell_type": "code",
   "execution_count": null,
   "metadata": {
    "slideshow": {
     "slide_type": "skip"
    }
   },
   "outputs": [],
   "source": [
    "# a implementação abaixo cria um vetor 3 vezes maior e espaça\n",
    "# os coeficientes do espectro original de 3 em 3,\n",
    "# o que equivale a multiplicar a frequência fundamental por 3.\n",
    "f_tilde, F_tilde = thresholding(f, 2.5e-2)\n",
    "F = np.fft.fft(f)\n",
    "\n",
    "F3_tilde = np.zeros(3 * N, dtype=complex)\n",
    "F3_tilde[0 : 3*N : 3 ] = F_tilde\n",
    "f3_tilde = np.real(np.fft.ifft(F3_tilde))\n",
    "F3 = np.zeros(3 * N, dtype=complex)\n",
    "F3[0 : 3*N : 3 ] = F\n",
    "f3 = np.real(np.fft.ifft(F3))\n",
    "\n",
    "def plota3períodos():\n",
    "    plt.figure(figsize=(15,5))\n",
    "    plt.plot(np.linspace(-1, 2, len(f3)), f3, label=\"Original\")\n",
    "    plt.plot(np.linspace(-1, 2, len(f3_tilde)), f3_tilde, label=\"Comprimido\")\n",
    "    plt.title('3 Períodos da forma de onda dente de serra comprimida')\n",
    "    plt.xlabel('tempo (s)')\n",
    "    plt.ylabel('amplitude')\n",
    "    plt.legend(loc='upper left', bbox_to_anchor=(1, 1))\n",
    "    plt.show()"
   ]
  },
  {
   "cell_type": "code",
   "execution_count": null,
   "metadata": {
    "scrolled": true,
    "slideshow": {
     "slide_type": "subslide"
    }
   },
   "outputs": [],
   "source": [
    "plota3períodos()"
   ]
  },
  {
   "cell_type": "markdown",
   "metadata": {
    "slideshow": {
     "slide_type": "slide"
    }
   },
   "source": [
    "## Motivação para DCT: espelhamento da função original\n",
    "#### essa operação elimina a descontinuidade na fronteira da janela"
   ]
  },
  {
   "cell_type": "code",
   "execution_count": null,
   "metadata": {
    "slideshow": {
     "slide_type": "fragment"
    }
   },
   "outputs": [],
   "source": [
    "tt = np.linspace(0, 2 , 2*N)\n",
    "ff = np.zeros(2*N)\n",
    "ff[0:N] = f\n",
    "ff[N:] = np.flip(f,0)\n",
    "plot_func_fft(tt,ff)"
   ]
  },
  {
   "cell_type": "markdown",
   "metadata": {
    "slideshow": {
     "slide_type": "subslide"
    }
   },
   "source": [
    "## Reconstrução de $\\;f(t)=t\\;$ (espelhada) (versão iterativa)"
   ]
  },
  {
   "cell_type": "code",
   "execution_count": null,
   "metadata": {
    "slideshow": {
     "slide_type": "skip"
    }
   },
   "outputs": [],
   "source": [
    "c = FloatLogSlider(value=-3,base=10, min=-3,max=0,basestep=0.2, continuous_update=False, layout=Layout(width='95%'))\n",
    "def plt_sampled_signal(c):\n",
    "    N = 256\n",
    "    t = np.linspace(0, 1, N)\n",
    "    f = t\n",
    "    f_tilde, F_tilde = thresholding(f, c)\n",
    "    tt = np.linspace(0, 2 , 2*N)\n",
    "    ff = np.zeros(2*N)\n",
    "    ff[0:N] = f\n",
    "    ff[N:] = np.flip(f,0)\n",
    "    ff_tilde, FF_tilde = thresholding(ff, c)\n",
    "    \n",
    "    fig, ax = plt.subplots(1,2,figsize=(15,5))\n",
    "    ax[0].plot(t, f, label='Original')\n",
    "    ax[0].plot(t, f_tilde, label='Comprimido')\n",
    "    ax[0].set_title('Reconstrução da função original')\n",
    "    ax[0].set_ylabel('amplitude')\n",
    "    ax[0].set_xlabel(f'tempo (s)\\n\\nRazão de Compressão (original): {compression(F_tilde)*100:.2f}%\\nDistorção (original): {distortion(f,f_tilde)*100:.2f}%\\n')\n",
    "    ax[0].set_ylabel('amplitude')\n",
    "    ax[1].plot(tt, ff, label='Original')\n",
    "    ax[1].plot(tt, ff_tilde, label='Comprimido')\n",
    "    ax[1].set_title('Reconstrução da função espelhada')\n",
    "    ax[1].set_xlabel(f'bins\\n\\nRazão de Compressão (espelhada): {compression(FF_tilde)*100:.2f}%\\nDistorção (espelhada): {distortion(ff,ff_tilde)*100:.2f}%')\n",
    "    ax[1].set_ylabel('amplitude')\n",
    "    \n",
    "    plt.legend(loc='upper left', bbox_to_anchor=(1, 1))\n",
    "    plt.show()"
   ]
  },
  {
   "cell_type": "code",
   "execution_count": null,
   "metadata": {
    "slideshow": {
     "slide_type": "fragment"
    }
   },
   "outputs": [],
   "source": [
    "# Cria o ambiente interativo\n",
    "w = interactive(plt_sampled_signal, c=c,)\n",
    "display(VBox([w.children[1], w.children[0]], layout=Layout(align_items='center')))\n",
    "w.update()"
   ]
  }
 ],
 "metadata": {
  "celltoolbar": "Slideshow",
  "kernelspec": {
   "display_name": "Python 3",
   "language": "python",
   "name": "python3"
  },
  "language_info": {
   "codemirror_mode": {
    "name": "ipython",
    "version": 3
   },
   "file_extension": ".py",
   "mimetype": "text/x-python",
   "name": "python",
   "nbconvert_exporter": "python",
   "pygments_lexer": "ipython3",
   "version": "3.7.11"
  }
 },
 "nbformat": 4,
 "nbformat_minor": 2
}
