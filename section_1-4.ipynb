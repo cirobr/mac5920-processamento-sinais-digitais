{
 "cells": [
  {
   "cell_type": "markdown",
   "metadata": {
    "slideshow": {
     "slide_type": "slide"
    }
   },
   "source": [
    "# **MAC0317/MAC5920**\n",
    "## Introdução ao Processamento de Sinais Digitais\n",
    "### Seção 1.4: Modelos de espaços vetoriais para sinais e imagens"
   ]
  },
  {
   "cell_type": "code",
   "execution_count": null,
   "metadata": {
    "slideshow": {
     "slide_type": "skip"
    }
   },
   "outputs": [],
   "source": [
    "import math as m\n",
    "import numpy as np\n",
    "import matplotlib.pyplot as plt"
   ]
  },
  {
   "cell_type": "markdown",
   "metadata": {
    "slideshow": {
     "slide_type": "slide"
    }
   },
   "source": [
    "## Definição 1.4.1: espaço vetorial\n",
    "\n",
    "### $V$ é um espaço vetorial sobre $\\mathbb{R}$ (ou $\\mathbb{C}$) se:\n",
    "\n",
    "- $\\forall u,v,\\in V\\quad\\quad u+v\\in V$\n",
    "- $\\forall u\\in V\\quad\\forall\\alpha\\in\\mathbb{R}|\\mathbb{C}\\quad\\quad \\alpha u\\in V$\n",
    "- $\\forall u,v,w\\in V\\quad\\forall\\alpha,\\beta\\in\\mathbb{R}|\\mathbb{C}:$\n",
    "$$\\begin{array}{l}u+v = v+u\\quad\\mbox{(comutatividade)}\\\\(u+v)+w = u+(v+w)\\quad\\mbox{(associatividade)}\\\\\\exists \\mathbf{0}\\in V\\ \\mbox{tal que}\\ u+\\mathbf{0} = \\mathbf{0}+u = u\\quad (\\mbox{el. neutro}\\ +)\\\\1u = u\\quad(\\mbox{el. neutro}\\ \\cdot)\\\\\\forall u\\in V\\ \\exists w\\in V\\ \\mbox{tal que}\\  u+w = \\mathbf{0}\\quad (\\mbox{inv. aditivo:}\\ w=-u)\\\\(\\alpha\\beta)u = \\alpha(\\beta u)\\quad\\mbox{(associatividade)}\\\\(\\alpha+\\beta)u = \\alpha u+\\beta u\\ \\mbox{e}\\ \\alpha(u+v) = \\alpha u+\\alpha v\\quad\\mbox{(distributividade)}\\end{array}$$"
   ]
  },
  {
   "cell_type": "markdown",
   "metadata": {
    "slideshow": {
     "slide_type": "subslide"
    }
   },
   "source": [
    "## Proposição 1.4.1 (exercício 1.12)\n",
    "\n",
    "### Se $V$ é um espaço vetorial sobre $\\mathbb{R}$ ou $\\mathbb{C}$ então\n",
    "\n",
    "> - $\\mathbf{0}$ é único\n",
    "> - $\\forall u\\in V\\quad 0u = \\mathbf{0}$\n",
    "> - $\\forall u\\ \\exists!w:\\ u+w=\\mathbf{0}$ (unicidade do inverso aditivo)"
   ]
  },
  {
   "cell_type": "markdown",
   "metadata": {
    "slideshow": {
     "slide_type": "subslide"
    }
   },
   "source": [
    "### Exemplo 1.1: $\\mathbb{R}^N$ ou $\\mathbb{C}^N$\n",
    "\n",
    "$$\\begin{array}{rcl}\n",
    "x&=&(x_1,x_2,\\ldots,x_n)\\\\\n",
    "y&=&(y_1,y_2,\\ldots,y_n)\\\\\n",
    "x+y& = &(x_1+y_1,x_2+y_2,\\ldots,x_n+y_n)\\\\\n",
    "\\alpha x& = &(\\alpha x_1,\\alpha x_2,\\ldots,\\alpha x_n)\\\\\n",
    "\\mathbf{0}&=&(0,0,\\ldots,0)\\\\\n",
    "-x&=&(-x_1,-x_2,\\ldots,-x_n)\n",
    "\\end{array}$$"
   ]
  },
  {
   "cell_type": "markdown",
   "metadata": {
    "slideshow": {
     "slide_type": "subslide"
    }
   },
   "source": [
    "### Exemplo 1.2: $\\mathbb{R}^{M\\times N}$ ou $\\mathbb{C}^{M\\times N}$\n",
    "\n",
    "$$\\begin{array}{rclcrcl}\n",
    "x&=&\\left[\\begin{array}{ccc}\\ddots&\\vdots&\\\\\\cdots&x_{ij}&\\cdots\\\\&\\vdots&\\ddots\\end{array}\\right]&&\n",
    "y&=&\\left[\\begin{array}{ccc}\\ddots&\\vdots&\\\\\\cdots&y_{ij}&\\cdots\\\\&\\vdots&\\ddots\\end{array}\\right]\\\\\n",
    "x+y& = &\\left[\\begin{array}{ccc}\\ddots&\\vdots&\\\\\\cdots&x_{ij}+y_{ij}&\\cdots\\\\&\\vdots&\\ddots\\end{array}\\right]&&\n",
    "\\alpha x& = &\\left[\\begin{array}{ccc}\\ddots&\\vdots&\\\\\\cdots&\\alpha x_{ij}&\\cdots\\\\&\\vdots&\\ddots\\end{array}\\right]\\\\\n",
    "\\mathbf{0}&=&\\left[\\begin{array}{ccc}\\ddots&\\vdots&\\\\\\cdots&0&\\cdots\\\\&\\vdots&\\ddots\\end{array}\\right]&&\n",
    "-x&=&\\left[\\begin{array}{ccc}\\ddots&\\vdots&\\\\\\cdots&-x_{ij}&\\cdots\\\\&\\vdots&\\ddots\\end{array}\\right]\n",
    "\\end{array}$$"
   ]
  },
  {
   "cell_type": "markdown",
   "metadata": {
    "slideshow": {
     "slide_type": "subslide"
    }
   },
   "source": [
    "### Exemplo 1.3: Sinais infinitos\n",
    "\n",
    "$$\\begin{array}{rcl}\n",
    "x&=&(x_0,x_1,\\ldots)\\\\\n",
    "y&=&(y_0, y_1,\\ldots)\\\\\n",
    "x+y& = &(x_0+y_0,x_1+y_1,\\ldots)\\\\\n",
    "\\alpha x& = &(\\alpha x_0,\\alpha x_1,\\ldots)\\\\\n",
    "\\mathbf{0}&=&(0,0,\\ldots)\\\\\n",
    "-x&=&(-x_0,-x_1,\\ldots)\n",
    "\\end{array}$$"
   ]
  },
  {
   "cell_type": "markdown",
   "metadata": {
    "slideshow": {
     "slide_type": "subslide"
    }
   },
   "source": [
    "### Exemplo 1.3 (cont): Sinais bi-infinitos\n",
    "\n",
    "$$\\begin{array}{rcl}\n",
    "x&=&(\\ldots,x_{-1},x_0,x_1,\\ldots)\\\\\n",
    "y&=&(\\ldots,y_{-1},y_0, y_1,\\ldots)\\\\\n",
    "x+y& = &(\\ldots,x_{-1}+y_{-1},x_0+y_0,x_1+y_1,\\ldots)\\\\\n",
    "\\alpha x& = &(\\ldots,\\alpha x_{-1},\\alpha x_0,\\alpha x_1,\\ldots)\\\\\n",
    "\\mathbf{0}&=&(\\ldots,0,0,0,\\ldots)\\\\\n",
    "-x&=&(\\ldots,-x_{-1},-x_0,-x_1,\\ldots)\n",
    "\\end{array}$$"
   ]
  },
  {
   "cell_type": "markdown",
   "metadata": {
    "slideshow": {
     "slide_type": "subslide"
    }
   },
   "source": [
    "### Exemplo 1.4: Sinais limitados infinitos  ($L^\\infty(\\mathbb{N})$) ou bi-infinitos ($L^\\infty(\\mathbb{Z})$)\n",
    "\n",
    "$$x\\in L^\\infty(\\mathbb{N}|\\mathbb{Z}) \\iff \\exists M_x: \\forall k\\in\\mathbb{N}|\\mathbb{Z}\\quad|x_k|\\le M_x$$"
   ]
  },
  {
   "cell_type": "code",
   "execution_count": null,
   "metadata": {
    "slideshow": {
     "slide_type": "skip"
    }
   },
   "outputs": [],
   "source": [
    "def sinal_limitado():\n",
    "    # cria um sinal \"suave\" de N amostras a partir de M componentes aleatórias de baixa frequência\n",
    "    # não se preocupe: esse código NÃO deve fazer sentido nessa altura do curso\n",
    "    N, M = 1000, 20\n",
    "    x = np.fft.ifft(np.concatenate((np.random.random((M))-0.5,np.zeros((N-M))))).real\n",
    "    Mx = np.max(np.abs(x))\n",
    "    K = Mx*np.ones((N//2))\n",
    "    plt.figure(figsize=(15,5))\n",
    "    plt.plot(x[0:N//2],label='x')\n",
    "    plt.title(f'Sinal limitado ($M_x={Mx:.4f}$)')\n",
    "    plt.plot(K,'-',color='orange')\n",
    "    plt.plot(-K,'-',color='orange')\n",
    "    plt.show()"
   ]
  },
  {
   "cell_type": "code",
   "execution_count": null,
   "metadata": {
    "slideshow": {
     "slide_type": "fragment"
    }
   },
   "outputs": [],
   "source": [
    "sinal_limitado()"
   ]
  },
  {
   "cell_type": "markdown",
   "metadata": {
    "slideshow": {
     "slide_type": "subslide"
    }
   },
   "source": [
    "Note que\n",
    "\n",
    "$$x,y\\in L^\\infty(\\mathbb{N}|\\mathbb{Z}) \\implies x+y\\in L^\\infty(\\mathbb{N}|\\mathbb{Z})$$\n",
    "\n",
    "pois\n",
    "\n",
    "$$|x_k+y_k| \\le |x_k|+|y_k| \\le M_x+M_y\\quad\\mbox{(desigualdade triangular)}$$"
   ]
  },
  {
   "cell_type": "markdown",
   "metadata": {
    "slideshow": {
     "slide_type": "subslide"
    }
   },
   "source": [
    "### Exemplo 1.5: Sinais de energia limitada infinitos  ($L^2(\\mathbb{N})$) ou bi-infinitos ($L^2(\\mathbb{Z})$)\n",
    "\n",
    "$$x\\in L^2(\\mathbb{N}|\\mathbb{Z}) \\iff \\sum_{k\\in\\mathbb{N}|\\mathbb{Z}}|x_k|^2<\\infty$$"
   ]
  },
  {
   "cell_type": "code",
   "execution_count": null,
   "metadata": {
    "slideshow": {
     "slide_type": "skip"
    }
   },
   "outputs": [],
   "source": [
    "def sinal_de_energia_limitada():\n",
    "    N, M = 1000, 20\n",
    "    x = np.fft.ifft(np.concatenate((np.random.random((M))-0.5,np.zeros((N-M))))).real[0:N//2]\n",
    "    Mx = np.max(np.abs(x))\n",
    "    K = np.ones((N//2))\n",
    "    K[N//4:N//2] *= np.power(2,-np.linspace(0,5,N//4, dtype=np.float))\n",
    "    x *= K\n",
    "    plt.figure(figsize=(15,5))\n",
    "    plt.plot(x,label='x')\n",
    "    plt.title(f'Sinal de energia limitada')\n",
    "    plt.plot(Mx*K,'-',color='orange')\n",
    "    plt.plot(-Mx*K,'-',color='orange')\n",
    "    plt.show()"
   ]
  },
  {
   "cell_type": "code",
   "execution_count": null,
   "metadata": {
    "slideshow": {
     "slide_type": "fragment"
    }
   },
   "outputs": [],
   "source": [
    "sinal_de_energia_limitada()"
   ]
  },
  {
   "cell_type": "markdown",
   "metadata": {
    "slideshow": {
     "slide_type": "subslide"
    }
   },
   "source": [
    "É possível provar (exercício 1.1) que\n",
    "\n",
    "$$x,y\\in L^2(\\mathbb{N}|\\mathbb{Z}) \\implies x+y\\in L^2(\\mathbb{N}|\\mathbb{Z})$$"
   ]
  },
  {
   "cell_type": "markdown",
   "metadata": {
    "slideshow": {
     "slide_type": "fragment"
    }
   },
   "source": [
    "### Observação: pularemos a seção 1.4.2 (espaços de funções)\n",
    "### Quem tiver interesse pode ler em casa!"
   ]
  }
 ],
 "metadata": {
  "anaconda-cloud": {},
  "celltoolbar": "Slideshow",
  "kernelspec": {
   "display_name": "Python 3",
   "language": "python",
   "name": "python3"
  },
  "language_info": {
   "codemirror_mode": {
    "name": "ipython",
    "version": 3
   },
   "file_extension": ".py",
   "mimetype": "text/x-python",
   "name": "python",
   "nbconvert_exporter": "python",
   "pygments_lexer": "ipython3",
   "version": "3.7.11"
  }
 },
 "nbformat": 4,
 "nbformat_minor": 1
}
