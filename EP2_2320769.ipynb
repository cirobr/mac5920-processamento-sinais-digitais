{
 "cells": [
  {
   "cell_type": "markdown",
   "metadata": {
    "slideshow": {
     "slide_type": "slide"
    }
   },
   "source": [
    "## Atividade Prática 2: Representações em Espaços Vetoriais\n",
    "\n",
    "### Nome:  Ciro B Rosa\n",
    "\n",
    "### N⁰ USP:  2320769\n",
    "\n",
    "Nessa tarefa exploraremos as transformações resultantes de mudar a base de representação de vetores em um espaço vetorial. "
   ]
  },
  {
   "cell_type": "markdown",
   "metadata": {
    "slideshow": {
     "slide_type": "slide"
    }
   },
   "source": [
    "### Revisão do conceito de base\n",
    "\n",
    "Uma *base* de um espaço vetorial $V$ é um conjunto $S$ em $V$ que tem as duas propriedades a seguir:\n",
    "\n",
    "- $S$ é um *conjunto gerador* para $V$, ou seja, $S$ permite representar qualquer $x\\in V$ através de uma equação\n",
    "$$x=\\sum_{i=0}^{K-1}a_iv_i$$\n",
    "onde $a_i$ são escalares e $v_i\\in S,\\ \\forall i$."
   ]
  },
  {
   "cell_type": "markdown",
   "metadata": {
    "slideshow": {
     "slide_type": "subslide"
    }
   },
   "source": [
    "- $S$ é *linearmente independente*, ou seja, não existem vetores em $S$ \"redundantes\"; em matematiquês isso equivale a dizer que qualquer sistema da forma\n",
    "$$\\sum_{i=0}^{K-1}a_iv_i=0$$\n",
    "com $v_i\\in S$ só admite a solução trivial $a_i=0,\\ \\forall i$.\n",
    "\n",
    "Se $S$ é uma base finita para $V$, o tamanho $N=|S|$ de $S$ é denominado **dimensão** de $V$ (e é possível provar que qualquer outra base de $V$ também possui exatamente $N$ elementos)."
   ]
  },
  {
   "cell_type": "markdown",
   "metadata": {
    "slideshow": {
     "slide_type": "subslide"
    }
   },
   "source": [
    "__Exemplo:__ a base canônica de $\\mathbb{R}^N$ ou $\\mathbb{C}^N$ é formada pelos vetores $e_i=\\left(0,\\ldots,0,\\overbrace{1}^{i},0,\\ldots,0\\right)$, que são geradores desses espaços (por construção), e linearmente independentes, pois $\\displaystyle\\sum_{i=0}^{K-1}a_ie_i=(a_0,a_1,\\ldots,a_{N-1})=(0,0,\\ldots,0)$ implica imediatamente $a_i=0,\\ \\forall i$.\n",
    "\n",
    "Uma propriedade importante dessa base é que ela é *ortogonal*, ou seja, que $(e_i,e_j)=\\sum_{k=0}^{N-1}(e_i)_k(e_j)_k=0,\\ \\forall i\\neq j$."
   ]
  },
  {
   "cell_type": "markdown",
   "metadata": {
    "slideshow": {
     "slide_type": "slide"
    }
   },
   "source": [
    "### Bases e ortogonalidade\n",
    "\n",
    "Em um espaço $N$ dimensional, qualquer conjunto ortogonal de $N$ vetores não-nulos é necessariamente uma base. Isso decorre do fato de que se $S=\\{v_0,v_1,\\ldots,v_{N-1}\\}$ com $v_i\\neq 0,\\ \\forall i$ e $(v_i,v_j)=0,\\ \\forall v_i,v_j\\in S,\\ i\\neq j$, então o sistema\n",
    "$\\displaystyle\\sum_{i=0}^{K-1}a_iv_i=0$ pode ser resolvido fazendo produtos internos com cada $v_j$:\n",
    "$$\\displaystyle\\left(\\sum_{i=0}^{K-1}a_iv_i,v_j\\right) = \\sum_{i=0}^{K-1}a_i(v_i,v_j) = a_j(v_j,v_j) = 0,$$\n",
    "onde o somatório desaparece porque $(v_i,v_j)=0$ para todo $i\\neq j$, e como $(v_j,v_j)=\\|v_j\\|^2\\neq 0$ segue que $a_j=0$ (esse argumento vale $\\forall j$)."
   ]
  },
  {
   "cell_type": "markdown",
   "metadata": {
    "slideshow": {
     "slide_type": "slide"
    }
   },
   "source": [
    "### Mudanças de base\n",
    "\n",
    "Se $S$ é uma base qualquer para $V$, temos uma garantia de que é possível representar qualquer $x\\in V$ como $x=\\displaystyle\\sum_{i=0}^{K-1}a_iv_i$ (Eq. I). Uma pergunta razoável é: \"como encontrar os $a_i$'s?\"."
   ]
  },
  {
   "cell_type": "markdown",
   "metadata": {
    "slideshow": {
     "slide_type": "subslide"
    }
   },
   "source": [
    "Uma solução muito simples existe quando $S$ é uma base ortogonal: nesse caso, podemos proceder outra vez por eliminação, fazendo  produtos internos da Eq. I com cada $v_j$:\n",
    "$$(x,v_j) = \\left(\\sum_{i=0}^{K-1}a_iv_i,v_j\\right) = \\sum_{i=0}^{K-1}a_i(v_i,v_j) = a_j(v_j,v_j),$$\n",
    "de onde segue que\n",
    "$$a_j=\\frac{(x,v_j)}{(v_j,v_j)}$$\n",
    "(observe que como $S$ é base, $0\\not\\in S$ e portanto $(v_j,v_j)=\\|v_j\\|^2\\neq 0,\\ \\forall v_j\\in S$)."
   ]
  },
  {
   "cell_type": "markdown",
   "metadata": {
    "slideshow": {
     "slide_type": "slide"
    }
   },
   "source": [
    "#### Dependências dessa tarefa"
   ]
  },
  {
   "cell_type": "code",
   "execution_count": 1,
   "metadata": {
    "slideshow": {
     "slide_type": "fragment"
    }
   },
   "outputs": [],
   "source": [
    "import math as m\n",
    "import numpy as np"
   ]
  },
  {
   "cell_type": "markdown",
   "metadata": {
    "slideshow": {
     "slide_type": "slide"
    }
   },
   "source": [
    "#### Exercício 1: Considere o conjunto $S=\\{v_1,v_2,v_3\\}\\subset\\mathbb{R}^3$ com $v_1=(1,1,0)$, $v_2=(-1,1,1)$ e $v_3=(1,-1,2)$.\n",
    "\n",
    "(a) Escreva um código que verifique que $S$ é ortogonal com respeito ao produto interno canônico $\\displaystyle(x,y)=\\sum_{i=0}^2x_iy_i$. Como $|S|=3$, isso mostrará que $S$ é uma base para $\\mathbb{R}^3$."
   ]
  },
  {
   "cell_type": "code",
   "execution_count": 2,
   "metadata": {
    "slideshow": {
     "slide_type": "fragment"
    }
   },
   "outputs": [
    {
     "name": "stdout",
     "output_type": "stream",
     "text": [
      "base S: \n",
      " [[ 1.  1.  0.]\n",
      " [-1.  1.  1.]\n",
      " [ 1. -1.  2.]]\n",
      "\n",
      "produtos internos: [0.0, 0.0, 0.0]\n",
      "\n",
      "todos os produtos internos iguais a zero: True\n"
     ]
    }
   ],
   "source": [
    "# Exercício 1(a)\n",
    "# Dicas: use sempre arrays do numpy com valores float,\n",
    "# por exemplo v = np.array([[1.,0.],[0.,1.]]) ou v = np.array([[1,0],[0,1]],dtype=float);\n",
    "# use a função np.inner(x,y) para computar (x,y),\n",
    "# e o comando \"assert np.linalg.norm(z)<1e-12\" para checar se ||z||=0.\n",
    "v1 = np.array((1, 1, 0))\n",
    "v2 = np.array((-1, 1, 1))\n",
    "v3 = np.array((1, -1, 2))\n",
    "\n",
    "S = np.array((v1, v2, v3), dtype = float)\n",
    "nVectors = np.shape(S)[0]\n",
    "print(\"base S: \\n\", S)\n",
    "\n",
    "innerProducts = [np.inner(S[k, :], S[l, :]) for k in range(0, nVectors-1) for l in range(k+1, nVectors)]\n",
    "print(\"\\nprodutos internos:\", innerProducts)\n",
    "\n",
    "# compara se o vetor z é próximo de zero\n",
    "def nearZeroVector(z):\n",
    "    return (np.linalg.norm(z) < 1e-12)\n",
    "\n",
    "print(\"\\ntodos os produtos internos iguais a zero:\", nearZeroVector(innerProducts))\n"
   ]
  },
  {
   "cell_type": "markdown",
   "metadata": {
    "slideshow": {
     "slide_type": "subslide"
    }
   },
   "source": [
    "(b) Escreva um código que compute os coeficientes $a_1,a_2,a_3$ da representação de $x=(3,4,5)$ em relação à base $S$, e que verifique que a expressão $\\displaystyle x=\\sum_{k=1}^3a_kv_k=a_1v_1+a_2v_2+a_3v_3$ de fato é satisfeita."
   ]
  },
  {
   "cell_type": "code",
   "execution_count": 3,
   "metadata": {
    "slideshow": {
     "slide_type": "fragment"
    }
   },
   "outputs": [
    {
     "name": "stdout",
     "output_type": "stream",
     "text": [
      "vetor x:  [3. 4. 5.]\n",
      "coeficientes a:  [3.5 2.  1.5]\n",
      "vetor x_hat é igual ao vetor x:  True\n"
     ]
    }
   ],
   "source": [
    "# Exercício 1(b)\n",
    "x = np.array((3, 4, 5), dtype=float)\n",
    "print(\"vetor x: \", x)\n",
    "\n",
    "num = np.inner(x, S)\n",
    "den = np.diagonal(np.inner(S, S))\n",
    "a = num / den\n",
    "x_hat = np.sum((a * S.T), axis=1)\n",
    "\n",
    "print(\"coeficientes a: \", a)\n",
    "print(\"vetor x_hat é igual ao vetor x: \", nearZeroVector(x - x_hat))\n"
   ]
  },
  {
   "cell_type": "markdown",
   "metadata": {
    "slideshow": {
     "slide_type": "subslide"
    }
   },
   "source": [
    "(c) Escreva um código que compute os vetores *normalizados* $S'=\\{v'_1,v'_2,v'_3\\}$ onde $v'_i=\\frac{v_i}{\\|v_i\\|}$, e depois compute os coeficientes $a'_1,a'_2,a'_3$ da representação de $x=(3,4,5)$ em relação à base $S'$, verificando que a expressão $x=a'_1v'_1+a'_2v'_2+a'_3v'_3$ de fato é satisfeita.\n",
    "\n",
    "(Obs: uma base ortogonal e normalizada é chamada de *base ortonormal*)."
   ]
  },
  {
   "cell_type": "code",
   "execution_count": 4,
   "metadata": {
    "scrolled": true,
    "slideshow": {
     "slide_type": "fragment"
    }
   },
   "outputs": [
    {
     "name": "stdout",
     "output_type": "stream",
     "text": [
      "vetor x:  [3. 4. 5.]\n",
      "\n",
      "base S: \n",
      " [[ 1.  1.  0.]\n",
      " [-1.  1.  1.]\n",
      " [ 1. -1.  2.]]\n",
      "\n",
      "base ortonormal S': \n",
      " [[ 0.70710678  0.70710678  0.        ]\n",
      " [-0.57735027  0.57735027  0.57735027]\n",
      " [ 0.40824829 -0.40824829  0.81649658]]\n",
      "\n",
      "norma unitária para vetores de S':  [1. 1. 1.]\n",
      "\n",
      "coeficientes a':  [4.94974747 3.46410162 3.67423461]\n",
      "vetor x_hat é igual ao vetor x:  True\n"
     ]
    }
   ],
   "source": [
    "# Exercício 1(c)\n",
    "print(\"vetor x: \", x)\n",
    "print(\"\\nbase S: \\n\", S)\n",
    "\n",
    "S_linha = S.T / np.sqrt(np.diagonal(np.inner(S, S)))\n",
    "S_linha = S_linha.T\n",
    "print(\"\\nbase ortonormal S': \\n\", S_linha)\n",
    "print(\"\\nnorma unitária para vetores de S': \", np.linalg.norm(S_linha, axis=1))\n",
    "\n",
    "num = np.inner(x, S_linha)\n",
    "den = np.diagonal(np.inner(S_linha, S_linha))\n",
    "a_linha = num / den\n",
    "x_hat = np.sum((a_linha * S_linha.T), axis=1)\n",
    "\n",
    "print(\"\\ncoeficientes a': \", a_linha)\n",
    "print(\"vetor x_hat é igual ao vetor x: \", nearZeroVector(x - x_hat))\n"
   ]
  },
  {
   "cell_type": "markdown",
   "metadata": {
    "slideshow": {
     "slide_type": "subslide"
    }
   },
   "source": [
    "(d) Escreva um código que verifique que $\\|x\\|^2=\\|a'\\|^2$ (ou equivalentemente $x_1^2+x_2^2+x_3^2=a_1'^2+a_2'^2+a_3'^2$).\n",
    "\n",
    "Esse resultado é conhecido como *Equação de Parseval*, que estabelece que as representações $(x_1,x_2,x_3)$ e $(a'_1,a'_2,a'_3)$ têm o mesmo \"tamanho\" (e assim a transformação $x\\mapsto a'$ é uma *isometria*)."
   ]
  },
  {
   "cell_type": "code",
   "execution_count": 5,
   "metadata": {
    "scrolled": true,
    "slideshow": {
     "slide_type": "fragment"
    }
   },
   "outputs": [
    {
     "name": "stdout",
     "output_type": "stream",
     "text": [
      "50.00000000000001\n",
      "49.99999999999999\n"
     ]
    },
    {
     "data": {
      "text/plain": [
       "True"
      ]
     },
     "execution_count": 5,
     "metadata": {},
     "output_type": "execute_result"
    }
   ],
   "source": [
    "# Exercício 1(d)\n",
    "print(np.square(np.linalg.norm(x)))\n",
    "print(np.square(np.linalg.norm(a_linha)))\n",
    "\n",
    "nearZeroVector(np.square(np.linalg.norm(x)) - np.square(np.linalg.norm(a_linha)))"
   ]
  },
  {
   "cell_type": "markdown",
   "metadata": {
    "slideshow": {
     "slide_type": "slide"
    }
   },
   "source": [
    "#### Exercício 2: Considere o conjunto $S=\\{E_0,E_1,E_2,E_3\\}$ onde $E_k\\in\\mathbb{C}^4$ é o vetor definido por $$(E_k)_n=e^{i2\\pi kn/4},\\ n=0,1,2,3.$$ Veremos que esse conjunto é ortogonal, e portanto $S$ é uma base de $\\mathbb{C}^4$.\n",
    "\n",
    "(a) Use a mesma estratégia do Exercício 1(a) para verificar computacionalmente que esses vetores são de fato ortogonais em relação ao produto interno canônico $\\displaystyle(x,y)=\\sum_{i=0}^3x_i\\overline{y_i}$."
   ]
  },
  {
   "cell_type": "code",
   "execution_count": 6,
   "metadata": {
    "slideshow": {
     "slide_type": "fragment"
    }
   },
   "outputs": [
    {
     "name": "stdout",
     "output_type": "stream",
     "text": [
      "base E: \n",
      " [[ 1.0000000e+00+0.0000000e+00j  1.0000000e+00+0.0000000e+00j\n",
      "   1.0000000e+00+0.0000000e+00j  1.0000000e+00+0.0000000e+00j]\n",
      " [ 1.0000000e+00+0.0000000e+00j  6.1232340e-17+1.0000000e+00j\n",
      "  -1.0000000e+00+1.2246468e-16j -1.8369702e-16-1.0000000e+00j]\n",
      " [ 1.0000000e+00+0.0000000e+00j -1.0000000e+00+1.2246468e-16j\n",
      "   1.0000000e+00-2.4492936e-16j -1.0000000e+00+3.6739404e-16j]\n",
      " [ 1.0000000e+00+0.0000000e+00j -1.8369702e-16-1.0000000e+00j\n",
      "  -1.0000000e+00+3.6739404e-16j  5.5109106e-16+1.0000000e+00j]]\n",
      "\n",
      "produtos internos:\n",
      " [-1.83697020e-16-2.22044605e-16j  0.00000000e+00-2.44929360e-16j\n",
      "  3.29046455e-16-3.33066907e-16j -1.72254642e-16-1.33907057e-16j\n",
      "  0.00000000e+00-2.44929360e-16j -8.41170949e-17-1.99159850e-16j]\n",
      "\n",
      "todos os produtos internos iguais a zero: True\n"
     ]
    }
   ],
   "source": [
    "# Exercício 2(a)\n",
    "# Dica: compute os produtos internos (x,y) como np.inner(x,np.conjugate(y))\n",
    "n = np.arange(0, 4)\n",
    "\n",
    "E0 = np.exp(1j * 2 * m.pi * 0 * n / 4)\n",
    "E1 = np.exp(1j * 2 * m.pi * 1 * n / 4)\n",
    "E2 = np.exp(1j * 2 * m.pi * 2 * n / 4)\n",
    "E3 = np.exp(1j * 2 * m.pi * 3 * n / 4)\n",
    "\n",
    "E = np.array((E0, E1, E2, E3), dtype=complex)\n",
    "nVectors = np.shape(E)[0]\n",
    "print(\"base E: \\n\", E)\n",
    "\n",
    "innerProducts = [np.inner(E[k, :], np.conjugate(E[l, :])) for k in range(0, nVectors-1) for l in range(k+1, nVectors)]\n",
    "innerProducts = np.array(innerProducts)\n",
    "print(\"\\nprodutos internos:\\n\", innerProducts)\n",
    "print(\"\\ntodos os produtos internos iguais a zero:\", nearZeroVector(innerProducts))"
   ]
  },
  {
   "cell_type": "markdown",
   "metadata": {
    "slideshow": {
     "slide_type": "subslide"
    }
   },
   "source": [
    "(b) Use a mesma estratégia do Exercício 1(b) para escrever $v=(1,5,-2,3)$ como combinação linear dos elementos de $S$, ou seja, escreva um código para computar os coeficientes $a_k$ tais que $\\displaystyle v=\\sum_{k=0}^3a_kE_k$ e verificar automaticamente essa equação."
   ]
  },
  {
   "cell_type": "code",
   "execution_count": 7,
   "metadata": {
    "slideshow": {
     "slide_type": "fragment"
    }
   },
   "outputs": [
    {
     "name": "stdout",
     "output_type": "stream",
     "text": [
      "vetor v:  [ 1.+0.j  5.+0.j -2.+0.j  3.+0.j]\n",
      "\n",
      "coeficientes a:  [ 1.75+0.0000000e+00j  0.75-5.0000000e-01j -2.25-5.5109106e-16j\n",
      "  0.75+5.0000000e-01j]\n",
      "\n",
      "vetor v_hat é igual ao vetor v:  True\n"
     ]
    }
   ],
   "source": [
    "# Exercício 2(b)\n",
    "# Dica: use somente vetores numpy complexos, fazendo v = np.array(...,dtype=complex)\n",
    "v = np.array((1, 5, -2, 3), dtype=complex)\n",
    "print(\"vetor v: \", v)\n",
    "\n",
    "num = np.inner(v, np.conjugate(E))\n",
    "den = np.diagonal(np.inner(E, np.conjugate(E)))\n",
    "a = num / den\n",
    "v_hat = np.sum((a * E.T), axis=1)\n",
    "\n",
    "print(\"\\ncoeficientes a: \", a)\n",
    "print(\"\\nvetor v_hat é igual ao vetor v: \", nearZeroVector(v - v_hat))\n"
   ]
  },
  {
   "cell_type": "markdown",
   "metadata": {
    "slideshow": {
     "slide_type": "subslide"
    }
   },
   "source": [
    "(c) Use a mesma estratégia do Exercício 1(c) para normalizar os vetores $E_k$ (obtendo vetores $E'_k$ e uma base ortonormal $S'$) e use-os para escrever $v=(1,5,-2,3)$ como combinação linear dos elementos de $S'$, ou seja, escreva um código para computar os coeficientes $a'_k$ tais que $\\displaystyle v=\\sum_{k=0}^3a'_kE'_k$ e verificar automaticamente essa equação."
   ]
  },
  {
   "cell_type": "code",
   "execution_count": 8,
   "metadata": {
    "slideshow": {
     "slide_type": "fragment"
    }
   },
   "outputs": [
    {
     "name": "stdout",
     "output_type": "stream",
     "text": [
      "vetor v:  [ 1.+0.j  5.+0.j -2.+0.j  3.+0.j]\n",
      "\n",
      "base E: \n",
      " [[ 1.0000000e+00+0.0000000e+00j  1.0000000e+00+0.0000000e+00j\n",
      "   1.0000000e+00+0.0000000e+00j  1.0000000e+00+0.0000000e+00j]\n",
      " [ 1.0000000e+00+0.0000000e+00j  6.1232340e-17+1.0000000e+00j\n",
      "  -1.0000000e+00+1.2246468e-16j -1.8369702e-16-1.0000000e+00j]\n",
      " [ 1.0000000e+00+0.0000000e+00j -1.0000000e+00+1.2246468e-16j\n",
      "   1.0000000e+00-2.4492936e-16j -1.0000000e+00+3.6739404e-16j]\n",
      " [ 1.0000000e+00+0.0000000e+00j -1.8369702e-16-1.0000000e+00j\n",
      "  -1.0000000e+00+3.6739404e-16j  5.5109106e-16+1.0000000e+00j]]\n",
      "\n",
      "base ortonormal E': \n",
      " [[ 5.00000000e-01+0.0000000e+00j  5.00000000e-01+0.0000000e+00j\n",
      "   5.00000000e-01+0.0000000e+00j  5.00000000e-01+0.0000000e+00j]\n",
      " [ 5.00000000e-01+0.0000000e+00j  3.06161700e-17+5.0000000e-01j\n",
      "  -5.00000000e-01+6.1232340e-17j -9.18485099e-17-5.0000000e-01j]\n",
      " [ 5.00000000e-01+0.0000000e+00j -5.00000000e-01+6.1232340e-17j\n",
      "   5.00000000e-01-1.2246468e-16j -5.00000000e-01+1.8369702e-16j]\n",
      " [ 5.00000000e-01+0.0000000e+00j -9.18485099e-17-5.0000000e-01j\n",
      "  -5.00000000e-01+1.8369702e-16j  2.75545530e-16+5.0000000e-01j]]\n",
      "\n",
      "norma unitária para vetores de E':  [1. 1. 1. 1.]\n",
      "\n",
      "coeficientes a':  [ 3.5+0.00000000e+00j  1.5-1.00000000e+00j -4.5-1.10218212e-15j\n",
      "  1.5+1.00000000e+00j]\n",
      "\n",
      "vetor v_hat é igual ao vetor v:  True\n"
     ]
    }
   ],
   "source": [
    "# Exercício 2(c)\n",
    "print(\"vetor v: \", v)\n",
    "print(\"\\nbase E: \\n\", E)\n",
    "\n",
    "E_linha = E.T / np.sqrt(np.diagonal(np.inner(E, np.conjugate(E))))\n",
    "E_linha = E_linha.T\n",
    "print(\"\\nbase ortonormal E': \\n\", E_linha)\n",
    "print(\"\\nnorma unitária para vetores de E': \", np.linalg.norm(E_linha, axis=1))\n",
    "\n",
    "num = np.inner(v, np.conjugate(E_linha))\n",
    "den = np.diagonal(np.inner(E_linha, np.conjugate(E_linha)))\n",
    "a_linha = num / den\n",
    "v_hat = np.sum((a_linha * E_linha.T), axis=1)\n",
    "\n",
    "print(\"\\ncoeficientes a': \", a_linha)\n",
    "print(\"\\nvetor v_hat é igual ao vetor v: \", nearZeroVector(v - v_hat))\n"
   ]
  },
  {
   "cell_type": "markdown",
   "metadata": {
    "slideshow": {
     "slide_type": "subslide"
    }
   },
   "source": [
    "(d) Use a mesma estratégia do Exercício 1(d) para verificar que $\\|v\\|^2=\\|a'\\|^2$."
   ]
  },
  {
   "cell_type": "code",
   "execution_count": 9,
   "metadata": {
    "slideshow": {
     "slide_type": "fragment"
    }
   },
   "outputs": [
    {
     "name": "stdout",
     "output_type": "stream",
     "text": [
      "39.0\n",
      "39.0\n"
     ]
    },
    {
     "data": {
      "text/plain": [
       "True"
      ]
     },
     "execution_count": 9,
     "metadata": {},
     "output_type": "execute_result"
    }
   ],
   "source": [
    "# Exercício 2(d)\n",
    "print(np.square(np.linalg.norm(v)))\n",
    "print(np.square(np.linalg.norm(a_linha)))\n",
    "\n",
    "nearZeroVector(np.square(np.linalg.norm(v)) - np.square(np.linalg.norm(a_linha)))"
   ]
  }
 ],
 "metadata": {
  "celltoolbar": "Slideshow",
  "kernelspec": {
   "display_name": "Python 3 (ipykernel)",
   "language": "python",
   "name": "python3"
  },
  "language_info": {
   "codemirror_mode": {
    "name": "ipython",
    "version": 3
   },
   "file_extension": ".py",
   "mimetype": "text/x-python",
   "name": "python",
   "nbconvert_exporter": "python",
   "pygments_lexer": "ipython3",
   "version": "3.9.6"
  }
 },
 "nbformat": 4,
 "nbformat_minor": 2
}
