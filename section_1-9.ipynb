{
 "cells": [
  {
   "cell_type": "markdown",
   "metadata": {
    "slideshow": {
     "slide_type": "slide"
    }
   },
   "source": [
    "## MAC0317/MAC5920\n",
    "## Introdução ao Processamento de Sinais Digitais\n",
    "### Seção 1.9: Digitalização de sinais e imagens"
   ]
  },
  {
   "cell_type": "code",
   "execution_count": null,
   "metadata": {
    "slideshow": {
     "slide_type": "skip"
    }
   },
   "outputs": [],
   "source": [
    "# Inclui  os módulos utilizados\n",
    "import math as m\n",
    "import numpy as np\n",
    "from matplotlib.colors import LinearSegmentedColormap\n",
    "import matplotlib.pyplot as plt\n",
    "%matplotlib inline\n",
    "from mpl_toolkits.mplot3d import Axes3D\n",
    "from IPython.display import Audio\n",
    "from ipywidgets import Dropdown, Label, FloatSlider, IntSlider, Layout, ToggleButton, ToggleButtons, interactive, VBox, HBox, AppLayout"
   ]
  },
  {
   "cell_type": "markdown",
   "metadata": {
    "slideshow": {
     "slide_type": "slide"
    }
   },
   "source": [
    "### Quantização e dequantização\n",
    "\n",
    "A etapa final da digitalização de um sinal (ADC) consiste em converter (quantizar) cada amostra $x_k\\in\\mathbb{R}$ de um sinal $x$ em um dentre $R$ valores possíveis. Isso corresponde a segmentar a reta real em $R$ segmentos, e associar o valor $x_k$ ao segmento que o contém. Na etapa de decodificação (DAC), é necessário escolher um valor que represente cada segmento, para reconstruir as amostras $\\tilde{x}_k$ do sinal de saída."
   ]
  },
  {
   "cell_type": "markdown",
   "metadata": {
    "slideshow": {
     "slide_type": "subslide"
    }
   },
   "source": [
    "**Exemplo 1.25:** Considere um esquema de quantização de $R=4$ valores (2 bits) que divida a reta real nos segmentos $(-\\infty,-5],(-5,3],(3,7],(7,\\infty)$, designados por $S_0,S_1,S_2,S_3$. Então o mapa de quantização do sinal é a função\n",
    "\n",
    "$$q(z) = k\\ \\mbox{tal que}\\ z\\in S_k.$$\n",
    "\n",
    "Assim, dado por exemplo um sinal $x=(-1.2,2.3,4.4,8.8,-2.8)$, sua versão quantizada será \n",
    "\n",
    "$$q(x) = (1,1,2,3,1).$$"
   ]
  },
  {
   "cell_type": "markdown",
   "metadata": {
    "slideshow": {
     "slide_type": "subslide"
    }
   },
   "source": [
    "Para reconstruir o sinal a partir da versão quantizada, é necessário associar a cada intervalo $S_k$ com $k=0,1,\\ldots,R-1$ um valor representativo $z_k\\in S_k$, e definir o mapa de dequantização como\n",
    "\n",
    "$$\\tilde{q}(k) = z_k.$$\n",
    "\n",
    "Por exemplo, se usarmos $z=(-10,-1,5,10)$, o sinal dequantizado será\n",
    "\n",
    "$$\\tilde{x}=\\tilde{q}(q(x)) = \\tilde{q}(1,1,2,3,1) = (z_1,z_1,z_2,z_3,z_1) = (-1,-1,5,10,-1).$$\n",
    "\n",
    "**É importante observar que esse passo de quantização não é inversível, ou seja, acarreta perdas irreversíveis à representação do sinal.**"
   ]
  },
  {
   "cell_type": "markdown",
   "metadata": {
    "slideshow": {
     "slide_type": "subslide"
    }
   },
   "source": [
    "### Generalização do esquema de quantização\n",
    "\n",
    "Considere $R-1$ pontos $y_1,\\ldots,y_{R-1}$ de divisão da reta real em $R$ segmentos da forma $S_k=(y_k,y_{k+1}],\\ k=0,1,\\ldots,R-1$ (considere $y_0=-\\infty$ e $y_R=+\\infty$).\n",
    "O mapa de quantização então é definido como\n",
    "\n",
    "$$q(z) = k\\ \\mbox{tal que}\\ z\\in S_k.$$"
   ]
  },
  {
   "cell_type": "markdown",
   "metadata": {
    "slideshow": {
     "slide_type": "subslide"
    }
   },
   "source": [
    "Outra maneira de expressar essa função de quantização é como um somatório de \"degraus\", representado pela função de Heaviside\n",
    "\n",
    "$$H(z) = \\left\\{\\begin{array}{ll}0,&x\\le 0\\\\1,&x>0,\\end{array}\\right\\}$$\n",
    "\n",
    "de tal modo que\n",
    "\n",
    "$$q(z) = \\sum_{k=1}^{R-1}H(z-y_k).$$\n",
    "\n",
    "Um sinal $x=(\\ldots,x_k,\\ldots)$ produz como versão quantizada o sinal $q(x)=(\\ldots,q(x_k),\\ldots)$."
   ]
  },
  {
   "cell_type": "code",
   "execution_count": null,
   "metadata": {
    "slideshow": {
     "slide_type": "subslide"
    }
   },
   "outputs": [],
   "source": [
    "# Figura 1.11\n",
    "R = 4; y = np.array([-3,-1.5,1.5,3]);\n",
    "z = np.arange(-5,5,0.1); H = z>0; Q = sum(z-y[k]>0 for k in range(R))\n",
    "fig = plt.figure(figsize=(15, 5))\n",
    "ax = fig.add_subplot(1, 2, 1)\n",
    "ax.plot(z,H)\n",
    "ax.set_title(\"Função de Heaviside\")\n",
    "ax = fig.add_subplot(1, 2, 2)\n",
    "ax.plot(z,Q)\n",
    "ax.set_title(r\"Função de quantização $\\sum_{k=1}^{R-1}H(x-y_k)$ com $y=(-3,-1.5,1.5,3)$\")\n",
    "plt.show()"
   ]
  },
  {
   "cell_type": "code",
   "execution_count": null,
   "metadata": {
    "slideshow": {
     "slide_type": "subslide"
    }
   },
   "outputs": [],
   "source": [
    "# Exemplo adicional\n",
    "t = np.arange(-1,1,1/100); x = 20*(t+0.5)*(t+0.1)*(t-0.6); qx = sum(x-y[k]>0 for k in range(R))\n",
    "fig = plt.figure(figsize=(15, 5))\n",
    "ax = fig.add_subplot(1, 2, 1); ax.plot(t,x)\n",
    "ax.set_title(r\"Sinal original $x(t)=20*(t+0.5)*(t+0.1)*(t-0.6)$\")\n",
    "ax = fig.add_subplot(1, 2, 2); ax.plot(t,qx)\n",
    "ax.set_title(\"Sinal quantizado $q(x)=\\sum_{k=1}^{R-1}H(x(t)-y_k)$ com $y=(-3,-1.5,1.5,3)$\")\n",
    "plt.show()"
   ]
  },
  {
   "cell_type": "markdown",
   "metadata": {
    "slideshow": {
     "slide_type": "subslide"
    }
   },
   "source": [
    "### Generalização do esquema de dequantização\n",
    "\n",
    "Considere $R$ valores (*codewords*) $z_0,z_1,\\ldots,z_{R-1}$ tais que $z_k\\in S_k=(y_k,y_{k+1}]$. Então a função de dequantização é definida por\n",
    "\n",
    "$$\\tilde{q}(k) = z_k,$$\n",
    "\n",
    "e um sinal quantizado $w=(\\ldots,w_j,\\ldots)$ será dequantizado como\n",
    "\n",
    "$$\\tilde{q}(w)=(\\ldots,\\tilde{q}(w_j),\\ldots)=(\\ldots,z_{w_j},\\ldots).$$\n",
    "\n",
    "Um sinal $x=(\\ldots,x_k,\\ldots)$, após a quantização e dequantização, será reconstruído como\n",
    "\n",
    "$$\\tilde{x} = \\tilde{q}(q(x)) = (\\ldots,\\tilde{q}(q(x_k)),\\ldots) = (\\ldots,z_{q(x_k)},\\ldots).$$"
   ]
  },
  {
   "cell_type": "code",
   "execution_count": null,
   "metadata": {
    "slideshow": {
     "slide_type": "subslide"
    }
   },
   "outputs": [],
   "source": [
    "plt.figure(figsize=(15,5))\n",
    "z = np.concatenate([[y[0]-5],0.5*(y[0:R-1]+y[1:R]),[y[R-1]+5]])\n",
    "qqx = z[qx]; plt.plot(t,x,t,qqx)\n",
    "tt = np.arange(-1,1,0.01)\n",
    "for k in range(R+1): plt.plot(tt,0*tt+z[k],\".k\",ms=0.5)\n",
    "plt.title(r\"Sinal original $x(t)=20*(t+0.5)*(t+0.1)*(t-0.6)$ e reconstruído com $z={}$\".format(z))\n",
    "plt.show()"
   ]
  },
  {
   "cell_type": "markdown",
   "metadata": {
    "slideshow": {
     "slide_type": "subslide"
    }
   },
   "source": [
    "### Quantização/dequantização linear\n",
    "\n",
    "Nesse esquema, os vetores $y$ e $z$ são definidos de forma **equiespaçada**. Por exemplo, para sinais entre $[-1,+1]$ e uma quantização de $B$ bits ($2^B$ intervalos de tamanho $\\frac{2}{2^B}$), podemos definir\n",
    "$$\\begin{array}{l}y_0=-1\\\\\\vdots\\\\y_k = -1+k\\frac{2}{2^B}\\\\\\vdots\\\\y_{2^B}=+1\\end{array}\\quad\\quad\n",
    "e\\quad\\quad\n",
    "\\begin{array}{l}z_0 = \\frac{y_0+y_1}{2} = -1+\\frac{1}{2^B}\\\\\\vdots\\\\z_k = \\frac{y_k+y_{k+1}}{2} = -1+\\frac{1}{2^B}+k\\frac{2}{2^B}\\\\\\vdots\\\\ z_{2^B-1}=\\frac{y_{2^B-1}+y_{2^B}}{2}=+1-\\frac{1}{2^B}.\\end{array}$$"
   ]
  },
  {
   "cell_type": "markdown",
   "metadata": {
    "slideshow": {
     "slide_type": "subslide"
    }
   },
   "source": [
    "Um outro mecanismo de quantização linear, mais fácil de implementar, pode ser obtido usando a truncagem para números inteiros. Nesse caso definimos\n",
    "$$q(z) = \\mbox{int}\\left(z\\cdot 2^{B-1}\\right)$$\n",
    "obtendo valores inteiros entre $2^{B-1}$ e $2^{B-1}$. A rigor estaríamos usando $2^B+1$ códigos, mas podemos descartar um dos extremos para usar exatamente $B$ bits. Depois, poderíamos reconstruir o sinal fazendo simplesmente\n",
    "$$\\tilde{q}(k) = \\frac{k}{2^{B-1}}.$$"
   ]
  },
  {
   "cell_type": "markdown",
   "metadata": {
    "slideshow": {
     "slide_type": "subslide"
    }
   },
   "source": [
    "A diferença principal entre os dois esquemas anteriores está no posicionamento dos intervalos:\n",
    "\n",
    "- no primeiro caso, $y_{2^{B-1}}=0$ estaria na fronteira de dois intervalos;\n",
    "\n",
    "- no segundo caso $z=0$ seria o representante no ponto médio do intervalo $\\left[-\\frac{1}{2^{B-1}},+\\frac{1}{2^{B-1}}\\right]$."
   ]
  },
  {
   "cell_type": "markdown",
   "metadata": {
    "slideshow": {
     "slide_type": "slide"
    }
   },
   "source": [
    "### Medidas de erro de quantização em sinais\n",
    "\n",
    "O erro de quantização é definido como a diferença $x-\\tilde{x}$. É comum usarmos a energia do erro $\\|x-\\tilde{x}\\|^2$ como medida da distorção acarretada pelo processo de quantização. Ainda mais útil é considerar a razão entre a energia do erro e a energia do sinal:\n",
    "$$\\frac{\\|x-\\tilde{x}\\|^2}{\\|x\\|^2}\\quad\\quad\\mbox{ou}\\quad\\quad 100\\frac{\\|x-\\tilde{x}\\|^2}{\\|x\\|^2}\\%.$$\n",
    "Através da escolha dos parâmetros da quantização (número de bits e distribuição dos intervalos de quantização) podemos em princípio encontrar mapas $q$ e $\\tilde{q}$ que otimizem a medida de erro acima para um dado sinal $x$."
   ]
  },
  {
   "cell_type": "markdown",
   "metadata": {
    "slideshow": {
     "slide_type": "subslide"
    }
   },
   "source": [
    "### Exemplo 1.26 (adaptado)"
   ]
  },
  {
   "cell_type": "code",
   "execution_count": null,
   "metadata": {
    "slideshow": {
     "slide_type": "skip"
    }
   },
   "outputs": [],
   "source": [
    "analog = ToggleButton(value=True, description='Mostrar Sinal original', layout=Layout(width='auto'))\n",
    "error = ToggleButton(value=False, description='Mostrar Erro de Quantização', layout=Layout(width='auto'))\n",
    "bits = IntSlider(1, min=1, max=8, step=1, description='profundidade de Bits', \n",
    "                 continuous_update=False, style={'description_width': 'initial'},\n",
    "                 layout=Layout(width='50%'))\n",
    "N = 100\n",
    "\n",
    "def pltsubsampledsignal(analog, error, bits):\n",
    "    t = np.arange(0,4 * m.pi, 1/800)\n",
    "    x = 0.75 * np.sin(3 * t) + 0.5 * np.sin(7 * t)\n",
    "    # Normaliza o sinal amostrado entre 0 e 1\n",
    "    lb = min(x)\n",
    "    ub = max(x)\n",
    "    xsnorm = (x - lb) / (ub - lb)\n",
    "    # Quantiza usando 2^bits valores [0...2^(bits-1)]\n",
    "    steps = 2 ** bits\n",
    "    xqnorm = np.floor(steps * xsnorm)\n",
    "    # Coloca de volta na faixa de valores originais [lb...ub], usando como codewords os valores\n",
    "    # médios das 16 faixas entre lb e ub\n",
    "    xq = (ub - lb) * xqnorm / steps + lb + 0.5 * (ub - lb) / steps\n",
    "    # Amostra o sinal quantizado com N amostras\n",
    "    #xqs = [xq[i] if i % int(len(x)/N + 1)== 0 else None for i in range(len(x))]\n",
    "    # Gera o gráfico\n",
    "    plt.figure(figsize=(15,4))\n",
    "    plt.axhline(y=0.0, color='gray', linestyle='--', ms=1)\n",
    "    if analog:\n",
    "        plt.plot(t, x, label='Sinal \"analógico\"')\n",
    "    if error:\n",
    "    #    xqs_err = [xq[i] - x[i] if i % int(len(x)/N + 1)== 0 else None for i in range(len(x))]\n",
    "        plt.plot(t, xq - x, '-', ms=5, label='Erro de quantização', color='green')\n",
    "    plt.plot(t, xq, '-', ms=5, label='Sinal amostrado', color='orange')\n",
    "    plt.ylim([-1.5,1.5])\n",
    "    plt.xlim([0, max(t)])\n",
    "    plt.title(r'Sinal $x(t) =  0.75\\sin(3t)+0.5\\sin(7t)$ quantizado com {0} bits. Erro de quantização = {1:.3f}%'.format(bits,100*np.linalg.norm(x-xq)**2/np.linalg.norm(x)**2),\n",
    "              fontdict = {'fontsize' : 14})\n",
    "    plt.ylabel('amplitude')\n",
    "    plt.xlabel('tempo (s)')\n",
    "    plt.legend(loc='upper left', bbox_to_anchor=(1, 1))\n",
    "    plt.show()"
   ]
  },
  {
   "cell_type": "code",
   "execution_count": null,
   "metadata": {
    "slideshow": {
     "slide_type": "fragment"
    }
   },
   "outputs": [],
   "source": [
    "w = interactive(pltsubsampledsignal, N=N,error=error, analog=analog, bits=bits)\n",
    "display(VBox([w.children[3], w.children[2], HBox(w.children[0:2],\n",
    "                                                 layout=Layout(justify_content='space-around', margin='10px'))]))\n",
    "\n",
    "w.update()"
   ]
  },
  {
   "cell_type": "markdown",
   "metadata": {
    "slideshow": {
     "slide_type": "subslide"
    }
   },
   "source": [
    "### Quantização e medidas de erro de quantização em imagens\n",
    "\n",
    "O processo de quantização em imagens é definido exatamente da mesma maneira que para sinais, afinal a quantização não diz respeito ao domínio do sinal e sim à sua imagem (valores das amostras). Assim, podemos usar os mesmos tipos de mapa de quantização ($q$) e dequantização ($\\tilde{q}$): $A\\longrightarrow q(A)\\longrightarrow \\tilde{A} = \\tilde{q}(q(A))$, onde\n",
    "\n",
    "$$q(A) = \\left(\\begin{array}{ccc}\\ddots&\\vdots&\\\\\\cdots&q(a_{i,j})&\\cdots\\\\&\\vdots&\\ddots\\end{array}\\right)\\quad e\\quad \\tilde{A} = \\left(\\begin{array}{ccc}\\ddots&\\vdots&\\\\\\cdots&z_{q(a_{i,j})}&\\cdots\\\\&\\vdots&\\ddots\\end{array}\\right).$$\n",
    "\n",
    "O erro relativo na quantização em imagens é dado por $\\frac{\\|A-\\tilde{A}\\|^2}{\\|A\\|^2}.$"
   ]
  },
  {
   "cell_type": "markdown",
   "metadata": {
    "slideshow": {
     "slide_type": "subslide"
    }
   },
   "source": [
    "### Exemplo 1.26 adaptado"
   ]
  },
  {
   "cell_type": "code",
   "execution_count": null,
   "metadata": {
    "slideshow": {
     "slide_type": "skip"
    }
   },
   "outputs": [],
   "source": [
    "bits = IntSlider(1, min=1, max=8, step=1, description='profundidade de Bits', \n",
    "                 continuous_update=False, style={'description_width': 'initial'},\n",
    "                 layout=Layout(width='50%'))\n",
    "density = 200;x = np.arange(0, 1, 1 / density);y = np.arange(1, 0, -1 / density);x, y = np.meshgrid(x, y)\n",
    "f = 0.5*np.cos(11*y)+ 0.75*np.sin(8*x)\n",
    "# Normaliza a função para o intervalo [0,1], para representar uma imagem em tons de cinza.\n",
    "lb = np.min(np.min(f)) # lower bound da função\n",
    "ub = np.max(np.max(f)) # upper bound\n",
    "g = (f-lb)/(ub-lb)     # mapeia linearmente em [0, 1]\n",
    "\n",
    "def pltimage(B):\n",
    "    gq = np.floor(2**B*g)/2**B+1/2**(B+1)\n",
    "    plt.figure(figsize=(7, 5))\n",
    "    plt.title(r'Sinal $f(t) =  0.5\\cos(11y)+0.75\\sin(8x)$ quantizado com {0} bits. Erro de quantização = {1:.4f}%'.format(B,100*np.linalg.norm(g-gq)**2/np.linalg.norm(g)**2),\n",
    "              fontdict = {'fontsize' : 16})\n",
    "    \n",
    "    plt.imshow(gq, cmap='binary_r', interpolation='none', vmin=0, vmax=1 )\n",
    "    plt.axis('off')\n",
    "    plt.show()"
   ]
  },
  {
   "cell_type": "code",
   "execution_count": null,
   "metadata": {
    "slideshow": {
     "slide_type": "fragment"
    }
   },
   "outputs": [],
   "source": [
    "w = interactive(pltimage, B=bits)\n",
    "w.update()\n",
    "AppLayout(\n",
    "    footer=HBox([w.children[0]], layout=Layout(justify_content='center')),\n",
    "    center=HBox([w.children[1]], layout=Layout(justify_content='center'))\n",
    ")"
   ]
  },
  {
   "cell_type": "markdown",
   "metadata": {
    "slideshow": {
     "slide_type": "subslide"
    }
   },
   "source": [
    "**Observação:** pularemos a seção 1.10"
   ]
  }
 ],
 "metadata": {
  "celltoolbar": "Slideshow",
  "kernelspec": {
   "display_name": "Python 3",
   "language": "python",
   "name": "python3"
  },
  "language_info": {
   "codemirror_mode": {
    "name": "ipython",
    "version": 3
   },
   "file_extension": ".py",
   "mimetype": "text/x-python",
   "name": "python",
   "nbconvert_exporter": "python",
   "pygments_lexer": "ipython3",
   "version": "3.7.11"
  }
 },
 "nbformat": 4,
 "nbformat_minor": 2
}
