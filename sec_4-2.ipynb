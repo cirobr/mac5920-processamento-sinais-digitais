{
 "cells": [
  {
   "cell_type": "markdown",
   "metadata": {
    "slideshow": {
     "slide_type": "slide"
    }
   },
   "source": [
    "# MAC0317/MAC5920\n",
    "## Introdução ao Processamento de Sinais Digitais\n",
    "## Capítulo 4: Convolução e filtragem\n",
    "### Seção 4.2: Convolução unidimensional"
   ]
  },
  {
   "cell_type": "code",
   "execution_count": null,
   "metadata": {
    "slideshow": {
     "slide_type": "skip"
    }
   },
   "outputs": [],
   "source": [
    "import math as m\n",
    "import time\n",
    "import numpy as np\n",
    "import matplotlib.pyplot as plt\n",
    "from mpl_toolkits.mplot3d import Axes3D"
   ]
  },
  {
   "cell_type": "markdown",
   "metadata": {
    "slideshow": {
     "slide_type": "slide"
    }
   },
   "source": [
    "### Seção 4.2.1: Exemplo de filtragem e remoção de ruído\n",
    "\n",
    "Na seção 2.3 vimos o exemplo de filtragem do sinal $x(t)=2\\cos(2\\pi 5t)+0.8\\sin(2\\pi 12 t)+0.3\\cos(2\\pi 47t)$, onde as componentes de alta frequência foram removidas diretamente do espectro fazendo $X_k\\leftarrow 0,\\ \\forall k\\ge 40$:"
   ]
  },
  {
   "cell_type": "code",
   "execution_count": null,
   "metadata": {
    "slideshow": {
     "slide_type": "skip"
    }
   },
   "outputs": [],
   "source": [
    "T = 1; N = 128; t = np.arange(0, T, 1/N)\n",
    "x = 2*np.cos(2*m.pi*5*t) + 0.8*np.sin(2*m.pi*12*t) + 0.3*np.cos(2*m.pi*47*t)\n",
    "X = np.fft.fft(x); W = X; k0 = 40; W[k0:N-k0:1] *= 0; w = np.real(np.fft.ifft(W))"
   ]
  },
  {
   "cell_type": "code",
   "execution_count": null,
   "metadata": {
    "slideshow": {
     "slide_type": "fragment"
    }
   },
   "outputs": [],
   "source": [
    "f, ax = plt.subplots(1,2,figsize=(15,4))\n",
    "ax[0].set_title(\"Sinal original\");ax[0].plot(t,x)\n",
    "ax[1].set_title(\"Sinal filtrado (frequência de corte=40Hz)\");ax[1].plot(t,w)\n",
    "f.suptitle(\"Figura 2.6 - Sinal ruidoso e sinal filtrado\");plt.show()"
   ]
  },
  {
   "cell_type": "markdown",
   "metadata": {
    "slideshow": {
     "slide_type": "slide"
    }
   },
   "source": [
    "### Métodos de filtragem no domínio do tempo\n",
    "\n",
    "Queremos considerar como esse tipo de operação poderia ser realizada no domínio do tempo, através de manipulações das amostras $x_n$. Considere o seguinte exemplo, chamado de *filtro da média*: dado um sinal $x$, construímos um novo sinal $w$ pela equação\n",
    "\n",
    "$$w_n = \\frac{1}{2}x_n+\\frac{1}{2}x_{n-1},\\ \\forall n$$"
   ]
  },
  {
   "cell_type": "markdown",
   "metadata": {
    "slideshow": {
     "slide_type": "subslide"
    }
   },
   "source": [
    "No caso de um vetor $x\\in\\mathbb{R}^N$, essa equação apresenta uma dificuldade quando $n=0$:\n",
    "\n",
    "$$w_0 = \\frac{1}{2}x_0+\\frac{1}{2}x_{-1}.$$\n",
    "\n",
    "Faremos como Fourier, e consideraremos $x$ um período de um sinal que se repete a cada $N$ amostras, de tal forma que \n",
    "\n",
    "$$x_{-1} = x_{N-1};$$\n",
    "\n",
    "**Observação:** coincidência ou não, Python usa a mesma convenção!"
   ]
  },
  {
   "cell_type": "markdown",
   "metadata": {
    "slideshow": {
     "slide_type": "subslide"
    }
   },
   "source": [
    "### Resposta em frequência do filtro\n",
    "\n",
    "Podemos usar a equação do filtro $w_n = \\frac{1}{2}x_n+\\frac{1}{2}x_{n-1}$ para estimar como o filtro se comporta em relação a entradas simples. Por exemplo, se\n",
    "\n",
    "$$x_n = \\sin(2\\pi qn/N),$$\n",
    "\n",
    "teremos\n",
    "\n",
    "$$w_n = \\frac{1}{2}\\sin(2\\pi qn/N)+\\frac{1}{2}\\sin(2\\pi q(n-1)/N)$$"
   ]
  },
  {
   "cell_type": "markdown",
   "metadata": {
    "slideshow": {
     "slide_type": "subslide"
    }
   },
   "source": [
    "\\begin{align*}\n",
    "\tw_n &= \\frac{1}{2}\\sin(2\\pi qn/N)+\\frac{1}{2}\\sin(2\\pi q(n-1)/N)\\\\\n",
    "    &= \\frac{1}{2}\\sin(2\\pi qn/N)+\\frac{1}{2}\\overbrace{\\sin((2\\pi qn/N)-(2\\pi q/N))}^{\\sin(\\alpha-\\beta)=\\sin\\alpha\\cos\\beta-\\cos\\alpha\\sin\\beta}\\\\\n",
    "     &= \\frac{1}{2}\\sin(2\\pi qn/N)+\\frac{1}{2}\\sin(2\\pi qn/N)\\cos(2\\pi q/N)\\\\\n",
    "     &\\phantom{= \\frac{1}{2}\\sin(2\\pi qn/N)}\\ -\\frac{1}{2}\\cos(2\\pi qn/N)\\sin(2\\pi q/N)\\\\\n",
    "\t&= A\\sin(2\\pi qn/N) - B\\cos(2\\pi qn/N)\n",
    "\\end{align*}\n",
    "\n",
    "onde $A = \\frac{1}{2} + \\frac{1}{2}\\cos(2\\pi q/N)$ e $B = \\frac{1}{2}\\sin(2\\pi q/N)$."
   ]
  },
  {
   "cell_type": "code",
   "execution_count": null,
   "metadata": {
    "slideshow": {
     "slide_type": "skip"
    }
   },
   "outputs": [],
   "source": [
    "def entrada_saida_filtro(q,k,line1,line2,fig):\n",
    "    # x(k) é a q-ésima função \"básica\"\n",
    "    x = np.sin(2*m.pi*q*k/N)\n",
    "    w = 0.5*np.roll(x,1)+0.5*x\n",
    "    # Mostra a saída do filtro para cada função básica.\n",
    "    # Observe como a amplitude diminui e a fase inicial\n",
    "    # também varia.\n",
    "    line1.set_ydata(x)\n",
    "    line2.set_ydata(w)\n",
    "    fig.canvas.draw()\n",
    "    plt.show()\n",
    "    time.sleep(0.25)\n",
    "    # W contém a resposta em magnitude (ou seja, o fator de\n",
    "    # escala) do filtro para as funções \"básicas\".\n",
    "    return np.linalg.norm(w)/np.linalg.norm(x)"
   ]
  },
  {
   "cell_type": "code",
   "execution_count": null,
   "metadata": {
    "slideshow": {
     "slide_type": "subslide"
    }
   },
   "outputs": [],
   "source": [
    "# animação com entradas senoidais e saídas do filtro da média (ver no jupyter)\n",
    "%matplotlib notebook\n",
    "N=100;k=np.arange(0,N);W=[1]+[0]*(N//2)\n",
    "fig , ax = plt.subplots(1,2, figsize=(10,5))\n",
    "ax[0].set_title(\"entrada\");ax[1].set_title(\"saída\")\n",
    "ax[0].set_ylim([-1.2,1.2]);ax[1].set_ylim([-1.2,1.2])\n",
    "w = 0*k;line1, = ax[0].plot(k, w, 'r.');line2, = ax[1].plot(k, w, 'r.')\n",
    "for q in range(1,N//2+1):\n",
    "    W[q] = entrada_saida_filtro(q,k,line1,line2,fig)\n",
    "W[N//2] = 0 # corrige a última magnitude"
   ]
  },
  {
   "cell_type": "code",
   "execution_count": null,
   "metadata": {
    "slideshow": {
     "slide_type": "subslide"
    }
   },
   "outputs": [],
   "source": [
    "%matplotlib inline\n",
    "plt.figure(figsize=(15,5));plt.plot(W);\n",
    "plt.title(\"relação entre frequência de entrada e amplitude de saída\", fontsize=15)\n",
    "plt.show()"
   ]
  },
  {
   "cell_type": "markdown",
   "metadata": {
    "slideshow": {
     "slide_type": "subslide"
    }
   },
   "source": [
    "### Resposta complexa em frequência do filtro\n",
    "\n",
    "Analogamente, podemos usar a equação do filtro\n",
    "\n",
    "$$w_n = \\frac{1}{2}x_n+\\frac{1}{2}x_{n-1}$$\n",
    "\n",
    "para estimar como o filtro se comporta em relação às formas básicas de onda de Fourier\n",
    "\n",
    "$$x_n = e^{i2\\pi qn/N},\\ n = 0, 1, \\dots, N-1,$$\n",
    "\n",
    "onde $q = 0, 1, \\dots, N-1$."
   ]
  },
  {
   "cell_type": "markdown",
   "metadata": {
    "slideshow": {
     "slide_type": "subslide"
    }
   },
   "source": [
    "Nesse caso\n",
    "\n",
    "\\begin{align*}\n",
    "\tw_n & = \\frac{1}{2}x_n+\\frac{1}{2}x_{n-1}\\\\\n",
    "    &= \\frac{1}{2}e^{i2\\pi qn/N} + \\frac{1}{2}e^{i2\\pi q(n-1)/N} \\\\\n",
    "\t&= \\frac{1}{2}e^{i2\\pi q\\left(n-\\frac{1}{2}\\right)/N}\\left[e^{i\\pi q\\frac{1}{N}} + e^{-i\\pi q\\frac{1}{N}}\\right] \\\\\n",
    "\t&= \\underbrace{\\cos\\left(\\pi q\\frac{1}{N}\\right)e^{i2\\pi q\\left(-\\frac{1}{2}\\right)/N}}_{H_q}\\underbrace{e^{i2\\pi qn/N}}_{x_n}\\\\\n",
    "    & = H_qx_n.\n",
    "\\end{align*}"
   ]
  },
  {
   "cell_type": "markdown",
   "metadata": {
    "slideshow": {
     "slide_type": "subslide"
    }
   },
   "source": [
    "**Observe** que o fator $H_q = \\cos\\left(\\pi q\\frac{1}{N}\\right)e^{-i\\pi q/N}$, dependente da frequência $q$, equivale a uma atenuação de amplitude\n",
    "\n",
    "$$|H_q| = \\cos\\left(\\pi q\\frac{1}{N}\\right)$$\n",
    "\n",
    "com característica de passa-baixas e uma mudança de fase \n",
    "\n",
    "$$\\measuredangle H_q = -\\pi q/N$$\n",
    "\n",
    "que corresponde a uma rotação."
   ]
  },
  {
   "cell_type": "code",
   "execution_count": null,
   "metadata": {
    "scrolled": true,
    "slideshow": {
     "slide_type": "subslide"
    }
   },
   "outputs": [],
   "source": [
    "q = np.arange(-N/2+1,+N/2+1);Hq = np.cos(m.pi*q/N)*np.exp(-1j*m.pi*q/N)\n",
    "fig = plt.figure(figsize=(15,5))\n",
    "ax = fig.add_subplot(1, 3, 1);ax.plot(q,np.abs(Hq));ax.set_title(r\"resposta em magnitude $|H_q| = \\cos\\left(\\pi q\\frac{1}{N}\\right)$\")\n",
    "ax = fig.add_subplot(1, 3, 2);ax.plot(q,np.angle(Hq));ax.set_title(r\"resposta em fase $\\measuredangle H_q = e^{-i\\pi q/N}$\")\n",
    "ax = fig.add_subplot(1, 3, 3, projection='3d');ax.plot3D(q,Hq.real,Hq.imag);ax.set_title(r\"resposta complexa $H_q$\")\n",
    "plt.show()"
   ]
  },
  {
   "cell_type": "markdown",
   "metadata": {
    "scrolled": true,
    "slideshow": {
     "slide_type": "slide"
    }
   },
   "source": [
    "### Exemplo 4.1: Aplicando o filtro da média na função do exemplo na seção 2.3."
   ]
  },
  {
   "cell_type": "code",
   "execution_count": null,
   "metadata": {
    "scrolled": true,
    "slideshow": {
     "slide_type": "fragment"
    }
   },
   "outputs": [],
   "source": [
    "T=1;N=128;t=np.linspace(0,T,N);x = 2*np.cos(2*m.pi*5*t) + 0.8*np.sin(2*m.pi*12*t) + 0.3*np.cos(2*m.pi*47*t)\n",
    "w = 0.5*(x+np.roll(x,1)) # saída do filtro da média.\n",
    "fig, ax = plt.subplots(1,2,figsize=(15,5))\n",
    "ax[0].set_title(\"Sinal original\");ax[0].plot(t,x);ax[0].set_xlabel('t [s]');ax[0].set_ylabel('x(t)')\n",
    "ax[1].set_title(\"Sinal filtrado\");ax[1].plot(t,w);ax[1].set_xlabel('t [s]');ax[1].set_ylabel('w(t)')\n",
    "fig.suptitle(\"Figura 4.1 - Sinal ruidoso e sinal filtrado com filtro da média\", fontsize=15)\n",
    "plt.show()"
   ]
  },
  {
   "cell_type": "code",
   "execution_count": null,
   "metadata": {
    "slideshow": {
     "slide_type": "subslide"
    }
   },
   "outputs": [],
   "source": [
    "X = np.fft.fft(x);c = X/N;E = N*abs(c)**2\n",
    "W = np.fft.fft(w);d = W/N;F = N*abs(d)**2\n",
    "fig, ax = plt.subplots(1,2,figsize=(15,5))\n",
    "ax[0].set_title(\"Sinal original\");ax[0].plot(E[:N//2+1]);ax[0].set_xlabel('frequência');ax[0].set_ylabel('energia $(|X_k|^2/N)$')\n",
    "ax[1].set_title(\"Sinal filtrado\");ax[1].plot(F[:N//2+1]);ax[1].set_xlabel('frequência');ax[1].set_ylabel('energia $(|W_k|^2/N)$')\n",
    "fig.suptitle(\"Figura 4.2 - Espectro do sinal ruidoso e sinal filtrado com filtro da média\", fontsize=15)\n",
    "plt.show()"
   ]
  },
  {
   "cell_type": "code",
   "execution_count": null,
   "metadata": {
    "slideshow": {
     "slide_type": "subslide"
    }
   },
   "outputs": [],
   "source": [
    "# Como é difícil observar as diferenças dos espectros,\n",
    "# as 3 figuras a seguir fazem um zoom dos 3 picos dos\n",
    "# espectros de x (sinal original) e w (sinal filtrado)\n",
    "fig, ax = plt.subplots(1, 3, figsize=(15,5))\n",
    "ax[0].plot(np.arange(3,8),E[3:8], label='sinal original');ax[0].plot(np.arange(3,8),F[3:8], label='sinal filtrado')\n",
    "ax[1].plot(np.arange(10,15),E[10:15], label='sinal original');ax[1].plot(np.arange(10,15),F[10:15], label='sinal filtrado')\n",
    "ax[2].plot(np.arange(44,53),E[44:53], label='sinal original');ax[2].plot(np.arange(44,53),F[44:53], label='sinal filtrado')\n",
    "ax[0].set_xlabel('frequência');ax[1].set_xlabel('frequência');ax[2].set_xlabel('frequência')\n",
    "ax[0].set_ylabel('energia');ax[1].set_ylabel('energia');ax[2].set_ylabel('energia')\n",
    "plt.legend(loc='upper left', bbox_to_anchor=(1, 1))\n",
    "plt.show()"
   ]
  },
  {
   "cell_type": "markdown",
   "metadata": {
    "slideshow": {
     "slide_type": "slide"
    }
   },
   "source": [
    "### Formulação matricial do filtro da média\n",
    "\n",
    "Observe que a equação $w_n = \\frac{1}{2}x_n+\\frac{1}{2}x_{n-1},\\ n=0,1,\\ldots,N-1$ também pode ser escrita como\n",
    "\n",
    "\\begin{align*}\n",
    "\t\\begin{pmatrix}\n",
    "\t\tw_0 \\\\ w_1 \\\\ w_2 \\\\ \\vdots \\\\ w_{N-1}\n",
    "\t\\end{pmatrix}\n",
    "\t&= \\frac{1}{2}\\begin{pmatrix}\n",
    "\t\t1 & 0 & \\dots & \\dots & 0 & 1 \\\\\n",
    "\t\t1 & 1 & 0 & \\dots & \\dots & 0 \\\\\n",
    "\t\t0 & 1 & 1 & 0 & \\dots & 0 \\\\\n",
    "\t\t\\vdots & \\vdots & \\ddots & \\ddots & \\ddots & \\vdots \\\\\n",
    "\t\t0 & \\dots & \\dots & 1 & 1 & 0\\\\\n",
    "        0 & \\dots & \\dots & 0 & 1 & 1\n",
    "\t\\end{pmatrix}\\begin{pmatrix}\n",
    "\t\tx_0 \\\\ x_1 \\\\ x_2 \\\\ \\vdots \\\\ x_{N-1}\n",
    "\t\\end{pmatrix}\n",
    "\\end{align*}"
   ]
  },
  {
   "cell_type": "markdown",
   "metadata": {
    "slideshow": {
     "slide_type": "slide"
    }
   },
   "source": [
    "A matriz\n",
    "\n",
    "$$\\frac{1}{2}\\begin{pmatrix}\n",
    "\t\t1 & 0 & \\dots & \\dots & 0 & 1 \\\\\n",
    "\t\t1 & 1 & 0 & \\dots & \\dots & 0 \\\\\n",
    "\t\t0 & 1 & 1 & 0 & \\dots & 0 \\\\\n",
    "\t\t\\vdots & \\vdots & \\ddots & \\ddots & \\ddots & \\vdots \\\\\n",
    "\t\t0 & \\dots & \\dots & 1 & 1 & 0\\\\\n",
    "        0 & \\dots & \\dots & 0 & 1 & 1\n",
    "\t\\end{pmatrix}$$\n",
    "    \n",
    "que aparece na equação anterior é chamada de *matriz circulante* e representa a operação de filtragem e está associada aos coeficientes da equação do filtro."
   ]
  },
  {
   "cell_type": "markdown",
   "metadata": {
    "slideshow": {
     "slide_type": "slide"
    }
   },
   "source": [
    "## Seção 4.2.2: Convolução\n",
    "\n",
    "Nesta seção vamos considerar que todos os vetores estão em $\\mathbb{C}^N$ mas podem ser indexados em qualquer índice inteiro através da extensão periódica:\n",
    "$$x_k = x_{k\\mod N}.$$"
   ]
  },
  {
   "cell_type": "markdown",
   "metadata": {
    "slideshow": {
     "slide_type": "slide"
    }
   },
   "source": [
    "### Observação 4.1\n",
    "\n",
    "Se $x\\in\\mathbb{C}^N$ é estendido periodicamente, então somatórios de $N$ índices seguidos sempre produzirão o mesmo resultado, ou seja, $\\forall m\\in\\mathbb{Z}$:\n",
    "$$\\sum_{k=0}^{N-1} x_k = \\sum_{k=0}^{N-1}x_{k+m} = \\sum_{k=m}^{m+N-1}x_k.$$"
   ]
  },
  {
   "cell_type": "markdown",
   "metadata": {
    "slideshow": {
     "slide_type": "subslide"
    }
   },
   "source": [
    "### Definição de convolução\n",
    "\n",
    "**Def. 4.2.1:** Se $x, y\\in\\mathbb{C}^N$, definimos a convolução circular de $x$ e $y$ como o vetor $w\\in\\mathbb{C}^N$ dado por\n",
    "\n",
    "\\begin{equation*}\n",
    "\tw_n = \\sum\\limits_{k=0}^{N-1}x_ky_{n-k}\n",
    "\\end{equation*}\n",
    "\n",
    "e denotamos essa operação por $w=x*y$."
   ]
  },
  {
   "cell_type": "markdown",
   "metadata": {
    "slideshow": {
     "slide_type": "subslide"
    }
   },
   "source": [
    "Por exemplo:\n",
    "\n",
    "\\begin{align*}\n",
    "\tw_0: &= \\begin{matrix}\n",
    "\t\tx_0 & x_1 & x_2 & \\dots & x_{N-1} \\\\\n",
    "\t\t\\times & \\times & \\times & \\dots & \\times \\\\\n",
    "\t\ty_0 & \\underbrace{y_{-1}}_{y_{N-1}} & \\underbrace{y_{-2}}_{y_{N-2}} & \\dots & \\underbrace{y_{-N+1}}_{y_1} \\\\\n",
    "\t\t\\hline\n",
    "        \\end{matrix}\\\\\n",
    "\t\t&\\quad\\quad x_0y_0+x_1y_{N-1}+\\cdots x_{N-1}y_1\\quad\\quad \\rightarrow w_0\\\\\n",
    "\\end{align*}"
   ]
  },
  {
   "cell_type": "markdown",
   "metadata": {
    "slideshow": {
     "slide_type": "subslide"
    }
   },
   "source": [
    "\\begin{align*}\n",
    "\tw_1: &= \\begin{matrix}\n",
    "\t\tx_0 & x_1 & x_2 & \\dots & x_{N-1} \\\\\n",
    "\t\t\\times & \\times & \\times & \\dots & \\times \\\\\n",
    "\t\ty_1 & y_{0} & \\underbrace{y_{-1}}_{y_{N-1}} & \\dots & \\underbrace{y_{-(N-2)}}_{y_2} \\\\\n",
    "\t\t\\hline\n",
    "        \\end{matrix}\\\\\n",
    "\t\t&\\quad\\quad x_0y_1+x_1y_0+\\cdots x_{N-1}y_2\\quad\\quad \\rightarrow & w_1\n",
    "\\end{align*}"
   ]
  },
  {
   "cell_type": "markdown",
   "metadata": {
    "slideshow": {
     "slide_type": "subslide"
    }
   },
   "source": [
    "em geral\n",
    "\n",
    "\\begin{align*}\n",
    "\tw_n &= \\begin{matrix}\n",
    "\t\tx_0 & x_1 & x_2 & \\dots & x_{N-1} \\\\\n",
    "\t\t\\times & \\times & \\times & \\dots & \\times \\\\\n",
    "\t\ty_n & y_{n-1} & y_{n-2} & \\dots & y_{n-(N-1)} \\\\\\hline\n",
    "        \\end{matrix}\\\\\n",
    "\t\t& \\quad\\quad x_0y_n+x_1y_{n-1}+\\cdots x_{N-1}y_{n-(N-1)} & \\rightarrow & w_n\n",
    "\\end{align*}"
   ]
  },
  {
   "cell_type": "markdown",
   "metadata": {
    "slideshow": {
     "slide_type": "slide"
    }
   },
   "source": [
    "### Formulação matricial da convolução\n",
    "\n",
    "Observe que a equação $w_n = \\sum\\limits_{k=0}^{N-1}x_ky_{n-k},\\ n=0,1,\\ldots,N-1$ pode ser escrita como\n",
    "\n",
    "\\begin{equation*}\n",
    "\tw = \\begin{pmatrix}\n",
    "\t\ty_0 & y_{N-1} & y_{N-2} & \\dots & y_1 \\\\\n",
    "\t\ty_1 & y_0 & y_{N-1} & \\dots & y_2 \\\\\n",
    "\t\ty_2 & y_1 & y_0 & \\dots & y_3 \\\\\n",
    "\t\t\\vdots & \\vdots & \\vdots & \\ddots & \\vdots \\\\\n",
    "\t\ty_{N-1} & y_{N-2} & y_{N-3} & \\dots & y_0 \\\\\n",
    "\t\\end{pmatrix}\\begin{pmatrix}\n",
    "\t\tx_0 \\\\ x_1 \\\\ \\vdots \\\\ x_{N-1}\n",
    "\t\\end{pmatrix}\n",
    "\\end{equation*}"
   ]
  },
  {
   "cell_type": "markdown",
   "metadata": {
    "slideshow": {
     "slide_type": "subslide"
    }
   },
   "source": [
    "A matriz\n",
    "\n",
    "$$M_y = \\begin{pmatrix}\n",
    "\t\ty_0 & y_{N-1} & y_{N-2} & \\dots & y_1 \\\\\n",
    "\t\ty_1 & y_0 & y_{N-1} & \\dots & y_2 \\\\\n",
    "\t\ty_2 & y_1 & y_0 & \\dots & y_3 \\\\\n",
    "\t\t\\vdots & \\vdots & \\vdots & \\ddots & \\vdots \\\\\n",
    "\t\ty_{N-1} & y_{N-2} & y_{N-3} & \\dots & y_0 \\\\\n",
    "\t\\end{pmatrix}$$\n",
    "\n",
    "que aparece na equação $w=M_yx$ é chamada de *matriz circulante para $y$*.\n",
    "\n",
    "**Observe** que\n",
    "$$(M_y)_{k,m} = y_{k-m}.$$"
   ]
  },
  {
   "cell_type": "markdown",
   "metadata": {
    "slideshow": {
     "slide_type": "subslide"
    }
   },
   "source": [
    "### Exemplo 4.2\n",
    "\n",
    "o filtro da média corresponde à equação $w = x*y$ onde $y_0 = \\frac{1}{2}, y_1 = \\frac{1}{2}, y_n = 0, \\forall n\\neq 0, 1$, e\n",
    "$$M_y = \\frac{1}{2}\\begin{pmatrix}\n",
    "\t\t1 & 0 & \\dots & \\dots & 0 & 1 \\\\\n",
    "\t\t1 & 1 & 0 & \\dots & \\dots & 0 \\\\\n",
    "\t\t0 & 1 & 1 & 0 & \\dots & 0 \\\\\n",
    "\t\t\\vdots & \\vdots & \\ddots & \\ddots & \\ddots & \\vdots \\\\\n",
    "\t\t0 & \\dots & \\dots & 1 & 1 & 0\\\\\n",
    "\t\t0 & \\dots & \\dots & 0 & 1 & 1\n",
    "\t\\end{pmatrix}$$\n",
    "como visto anteriormente."
   ]
  },
  {
   "cell_type": "markdown",
   "metadata": {
    "slideshow": {
     "slide_type": "slide"
    }
   },
   "source": [
    "### Propriedades da convolução\n",
    "\n",
    "**Teorema 4.1:** Sejam $x,y,w\\in\\mathbb{C}^N$ e $a,b\\in\\mathbb{C}$. Então\n",
    "\n",
    "\\begin{array}{l}\n",
    "\t\\mbox{1. Linearidade:}\\\\\n",
    "    \\hspace{2cm}x*(ay + bw) = a(x*y) + b(x*w)\\\\\n",
    "\t\\mbox{2. Comutatividade:}\\\\\n",
    "    \\hspace{2cm}x*y = y*x\\\\\n",
    "\\end{array}"
   ]
  },
  {
   "cell_type": "markdown",
   "metadata": {
    "slideshow": {
     "slide_type": "subslide"
    }
   },
   "source": [
    "\\begin{array}{l}\n",
    "\t\\mbox{3. Formulação matricial:}\\\\\n",
    "    \\hspace{2cm}\\mbox{se}\\ w = x*y,\\ \\mbox{então}\\ w = M_yx,\\ \\mbox{onde}\\\\\n",
    "\t\\hspace{2cm}\tM_y = \\begin{pmatrix}\n",
    "\t\t\ty_0 & y_{N-1} & \\dots & y_1 \\\\\n",
    "\t\t\ty_1 & y_0 & \\dots & y_2 \\\\\n",
    "\t\t\t\\vdots & \\vdots & \\ddots & \\vdots \\\\\n",
    "\t\t\ty_{N-1} & y_{N-2} & \\dots & y_0 \\\\\n",
    "\t\t\\end{pmatrix}\\\\\n",
    "\t\\hspace{2cm}\\mbox{e além disso}\\ M_xM_y = M_{x*y}\n",
    "\\end{array}"
   ]
  },
  {
   "cell_type": "markdown",
   "metadata": {
    "slideshow": {
     "slide_type": "subslide"
    }
   },
   "source": [
    "\\begin{array}{l}\n",
    "\t\\mbox{4. Associatividade:}\\\\\n",
    "    \\hspace{2cm}x*(y*w) = (x*y)*w\\\\\n",
    "\t\\mbox{5. Periodicidade:}\\\\\n",
    "    \\hspace{2cm}\\mbox{se}\\ x\\ \\mbox{e}\\ y\\ \\mbox{são tratados por extensão periódica, então}\\\\\n",
    "\t\\hspace{2cm}w_n = \\sum\\limits_{k=0}^{N-1}x_k y_{n-k}\\\\\n",
    "\t\\hspace{2cm}\\mbox{também está definido}\\ \\forall n\\in\\mathbb{Z}\\ \\mbox{e}\\\\\n",
    "\t\\hspace{2cm}w_n = w_{n\\mod N}\n",
    "\\end{array}"
   ]
  },
  {
   "cell_type": "markdown",
   "metadata": {
    "slideshow": {
     "slide_type": "subslide"
    }
   },
   "source": [
    "### Prova:\n",
    "\n",
    "\\begin{array}{ll}\\\\\n",
    "\\mbox{1.}&\\mbox{Exercício 4.5.}\\\\\n",
    "\\mbox{2.}&\\mbox{Seja}\\ w = x*y\\ \\mbox{onde}\\ w_n = \\!\\sum\\limits_{k=0}^{N-1}\\!x_ky_{n-k}.\\ \\mbox{Então}\\\\\n",
    "&w_n = \\!\\sum\\limits_{k=0}^{N-1}\\!x_ky_{n-k} = \\!\\!\\!\\sum\\limits_{l=n}^{n-(N-1)}\\!\\!\\!x_{n-l}y_l \\\\\n",
    "&\\phantom{w_n} \\left(= \\!\\!\\sum\\limits_{l=0}^{-(N-1)}\\!\\!x_{n-l}y_l \n",
    "= \\!\\!\\sum\\limits_{l=N-1}^0\\!\\!x_{n-l}y_l\\right) \n",
    "= \\!\\sum\\limits_{l=0}^{N-1}\\!x_{n-l}y_l\\\\\n",
    "&\\mbox{a última expressão corresponde à definição de}\\ y*x,\\\\\n",
    "&\\mbox{logo}\\ w = x*y = y*x.\n",
    "\\end{array}"
   ]
  },
  {
   "cell_type": "markdown",
   "metadata": {
    "slideshow": {
     "slide_type": "subslide"
    }
   },
   "source": [
    "### Prova (cont):\n",
    "\n",
    "\\begin{array}{ll}\n",
    "\\mbox{3.}&\\mbox{Já mostramos que}\\ x*y=M_yx, \\mbox{falta}\\ M_xM_y = M_{x*y}:\\\\\n",
    "&\\hspace{1cm}(M_xM_y)_{k,m} = \\sum\\limits_{l=0}^{N-1}(M_x)_{k,l}(M_y)_{l,m} \\\\\n",
    "&\\hspace{1cm}\\phantom{(M_xM_y)_{k,m}} = \\sum\\limits_{l=0}^{N-1}x_{k-l}y_{l-m} \n",
    "= \\sum\\limits_{r=0}^{N-1}x_{(k-r-m)}y_r \\\\\n",
    "&\\mbox{e note que}\\ \\sum\\limits_{r=0}^{N-1}x_{(k-m)-r}y_r = \\sum\\limits_{r=0}^{N-1}y_rx_{(k-m)-r} = (y*x)_{k-m}\\\\\n",
    "&\\phantom{\\mbox{e note que}\\ \\sum\\limits_{r=0}^{N-1}x_{(k-m)-r}y_r} = w_{k-m} = (M_w)_{k,m} = (M_{x*y})_{k,m}\\\\\n",
    "&\\mbox{Logo}\\ (M_xM_y)_{k,m} = (M_{x*y})_{k,m}\\implies M_xM_y = M_{x*y}.\n",
    "\\end{array}"
   ]
  },
  {
   "cell_type": "markdown",
   "metadata": {
    "slideshow": {
     "slide_type": "subslide"
    }
   },
   "source": [
    "\\begin{array}{ll}\n",
    "\\mbox{4.}&x\\!*\\!(y\\!*\\!w) = x\\!*\\!(M_yw) = M_x(M_y w)\\\\\n",
    "&\\hspace{1.9cm}= (M_xM_y)w = M_{(x*y)}w\\\\\n",
    "&\\hspace{1.9cm}= (x\\!*\\!y)\\!*\\!w\\\\\n",
    "\\mbox{5.}& \\mbox{Exercício 4.6.}\n",
    "\\end{array}"
   ]
  }
 ],
 "metadata": {
  "celltoolbar": "Slideshow",
  "kernelspec": {
   "display_name": "Python 3 (ipykernel)",
   "language": "python",
   "name": "python3"
  },
  "language_info": {
   "codemirror_mode": {
    "name": "ipython",
    "version": 3
   },
   "file_extension": ".py",
   "mimetype": "text/x-python",
   "name": "python",
   "nbconvert_exporter": "python",
   "pygments_lexer": "ipython3",
   "version": "3.9.6"
  }
 },
 "nbformat": 4,
 "nbformat_minor": 2
}
