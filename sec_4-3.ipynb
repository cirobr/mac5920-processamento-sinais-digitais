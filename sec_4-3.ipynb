{
 "cells": [
  {
   "cell_type": "markdown",
   "metadata": {
    "slideshow": {
     "slide_type": "slide"
    }
   },
   "source": [
    "# MAC0317/MAC5920\n",
    "## Introdução ao Processamento de Sinais Digitais\n",
    "### Seção 4.3: Teorema da convolução e filtragem"
   ]
  },
  {
   "cell_type": "code",
   "execution_count": null,
   "metadata": {
    "slideshow": {
     "slide_type": "skip"
    }
   },
   "outputs": [],
   "source": [
    "import math as m\n",
    "import numpy as np\n",
    "import matplotlib.pyplot as plt"
   ]
  },
  {
   "cell_type": "markdown",
   "metadata": {
    "slideshow": {
     "slide_type": "slide"
    }
   },
   "source": [
    "### Teorema da Convolução\n",
    "\n",
    "Se $x, y, w\\in\\mathbb{C}^N$ onde $w=x*y$, então\n",
    "\n",
    "\\begin{equation*}\n",
    "\tW_k = X_k Y_k,\\quad k= 0, 1, \\dots, N-1\n",
    "\\end{equation*}\n",
    "\n",
    "onde $X, Y, W\\in\\mathbb{C}^N$ são as DFT's de $x, y, w$, respectivamente."
   ]
  },
  {
   "cell_type": "markdown",
   "metadata": {
    "slideshow": {
     "slide_type": "subslide"
    }
   },
   "source": [
    "**Prova:** Basta usar a definição da DFT:\n",
    "\n",
    "\\begin{align*}\n",
    "\tW_k &= \\sum\\limits_{n=0}^{N-1}w_ne^{-i2\\pi kn/N} \\\\\n",
    "\t&= \\sum\\limits_{n=0}^{N-1}\\left(\\sum\\limits_{m=0}^{N-1}x_my_{n-m}\\right)e^{-i2\\pi kn/N} \\\\\n",
    "\t&= \\sum\\limits_{m=0}^{N-1}\\sum\\limits_{r=-m}^{N-1-m}x_my_re^{-i2\\pi k(r+m)/N} \\\\\n",
    "\t&= \\sum\\limits_{m=0}^{N-1}\\sum\\limits_{r=-m}^{N-1-m}x_my_re^{-i2\\pi kr/N}e^{-i2\\pi km/N}\n",
    "\\end{align*}"
   ]
  },
  {
   "cell_type": "markdown",
   "metadata": {
    "slideshow": {
     "slide_type": "subslide"
    }
   },
   "source": [
    "\\begin{align*}\n",
    "\tW_k &= \\sum\\limits_{m=0}^{N-1}\\sum\\limits_{r=-m}^{N-1-m}x_my_re^{-i2\\pi kr/N}e^{-i2\\pi km/N} \\\\\n",
    "\t&= \\left(\\sum\\limits_{m=0}^{N-1}x_me^{-i2\\pi km/N}\\right)\\left(\\sum\\limits_{r=-m}^{N-1-m}y_re^{-i2\\pi kr/N}\\right) \\\\\n",
    "\t&= X_k\\left(\\sum\\limits_{r=0}^{N-1}y_re^{-i2\\pi kr/N}\\right) \\\\\n",
    "\t&= X_kY_k\n",
    "\\end{align*}"
   ]
  },
  {
   "cell_type": "markdown",
   "metadata": {
    "slideshow": {
     "slide_type": "slide"
    }
   },
   "source": [
    "### Ação de um filtro nas componentes do sinal\n",
    "\n",
    "Considere um filtro arbitrário definido por um vetor de coeficientes $h\\in\\mathbb{C}^N$ com saída $y=x*h\\in\\mathbb{C}^N$:\n",
    "\n",
    "$$x\\longrightarrow\\begin{array}{|c|}\\hline h\\\\ \\hline\\end{array}\\longrightarrow y=x*h$$\n",
    "\n",
    "$$$$\n",
    "\n",
    "$$$$\n",
    "\n",
    "$$X\\longrightarrow\\begin{array}{|c|}\\hline H\\\\ \\hline\\end{array}\\longrightarrow Y=XH$$"
   ]
  },
  {
   "cell_type": "markdown",
   "metadata": {
    "slideshow": {
     "slide_type": "subslide"
    }
   },
   "source": [
    "Quando $x=E_{N,k}$, temos $X = (0, 0, \\dots, 0, N, 0, \\dots, 0)'$. Pelo teorema da convolução\n",
    "\n",
    "\\begin{equation*}\n",
    "\tY = XH = (0, 0, \\dots, 0, NH_k, 0, \\dots, 0)'\n",
    "\\end{equation*}\n",
    "\n",
    "Esta saída no domínio do tempo é\n",
    "\n",
    "\\begin{equation*}\n",
    "\ty = \\frac{1}{N}\\sum\\limits_{r=0}^{N-1}Y_r E_{N,r} = H_kE_{N,k}.\n",
    "\\end{equation*}"
   ]
  },
  {
   "cell_type": "markdown",
   "metadata": {
    "slideshow": {
     "slide_type": "subslide"
    }
   },
   "source": [
    "Mas $y = x*h = M_h x = M_hE_{N,k}$, logo\n",
    "\n",
    "\\begin{equation*}\n",
    "\tM_hE_{N,k} = H_kE_{N,k}\n",
    "\\end{equation*}\n",
    "\n",
    "Esta expressão mostra que os vetores $E_{N,k}$ são **autovetores** da matriz $M_h$ associada ao filtro, com correspondentes autovalores dados por $H_k$. "
   ]
  },
  {
   "cell_type": "markdown",
   "metadata": {
    "slideshow": {
     "slide_type": "subslide"
    }
   },
   "source": [
    "Cada componente $E_{N,k}$ de um sinal arbitrário é processada pelo filtro $H$ produzindo a saída\n",
    "\n",
    "\\begin{align*}\n",
    "\ty &= H_kE_{N,k} \\\\\n",
    "\t&= |H_k|e^{i(\\measuredangle H_k)}\\begin{pmatrix}\n",
    "\t\t\\vdots \\\\ e^{i2\\pi kn/N} \\\\ \\vdots\n",
    "\t\\end{pmatrix} \\\\\n",
    "\t&= |H_k|\\begin{pmatrix}\n",
    "\t\t\\vdots \\\\ e^{i(2\\pi kn/N + \\measuredangle H_k)} \\\\ \\vdots\n",
    "\t\\end{pmatrix}\n",
    "\\end{align*}"
   ]
  },
  {
   "cell_type": "markdown",
   "metadata": {
    "slideshow": {
     "slide_type": "subslide"
    }
   },
   "source": [
    "\\begin{align*}\n",
    "\ty &= |H_k|\\begin{pmatrix}\n",
    "\t\t\\vdots \\\\ e^{i2\\pi k\\left(n + \\frac{N\\measuredangle H_k}{2\\pi k}\\right)/N} \\\\ \\vdots\n",
    "\t\\end{pmatrix}\n",
    "\\end{align*}\n",
    "\n",
    "ou seja, a magnitude da componente é multiplicada por $|H_k|$, e sua fase é adicionada de $\\measuredangle H_k$ radianos em cada componente, o que equivale a um *shift* temporal de $\\frac{N\\measuredangle H_k}{2\\pi k}$ amostras em cada componente."
   ]
  },
  {
   "cell_type": "markdown",
   "metadata": {
    "slideshow": {
     "slide_type": "subslide"
    }
   },
   "source": [
    "No caso particular em que $\\measuredangle H_k = \\alpha k$ (resposta linear em fase), teremos\n",
    "\n",
    "\\begin{equation*}\n",
    "\ty = |H_k|\\begin{pmatrix}\n",
    "\t\t\\vdots \\\\ e^{i2\\pi k\\left(n + \\frac{N\\alpha}{2\\pi}\\right)/N} \\\\ \\vdots\n",
    "\t\\end{pmatrix}\n",
    "\\end{equation*}"
   ]
  },
  {
   "cell_type": "markdown",
   "metadata": {
    "slideshow": {
     "slide_type": "subslide"
    }
   },
   "source": [
    "Como $\\frac{N\\alpha}{2\\pi}$ não depende da frequência, um filtro com resposta em fase linear preservará as relações de fase entre componentes senoidais diversas em um sinal de entrada geral. Assim, todas as componentes senoidais sofrem o mesmo *shift* de $$\\frac{N\\alpha}{2\\pi}\\ \\mbox{amostras},$$\n",
    "que é chamado de **atraso de grupo**."
   ]
  },
  {
   "cell_type": "markdown",
   "metadata": {
    "slideshow": {
     "slide_type": "slide"
    }
   },
   "source": [
    "### Exemplo 4.3:\n",
    "\n",
    "O filtro da média $$w_n = \\frac{1}{2}x_n+\\frac{1}{2}x_{n-1}$$ pode ser\n",
    "escrito como $$w = x*h,$$\n",
    "onde os coeficientes do filtro são $h_0=\\frac{1}{2}$ e $h_1=\\frac{1}{2}$, de tal forma que\n",
    "$$\\begin{array}{ll}\n",
    "w_n &= \\sum\\limits_{k=0}^{N-1}x_kh_{n-k} = \\sum\\limits_{k=0}^{N-1}h_kx_{n-k}\\\\\n",
    "&= h_0x_n+h_1x_{n-1} = \\frac{1}{2}x_n+\\frac{1}{2}x_{n-1}.\\end{array}$$\n"
   ]
  },
  {
   "cell_type": "code",
   "execution_count": null,
   "metadata": {
    "slideshow": {
     "slide_type": "subslide"
    }
   },
   "outputs": [],
   "source": [
    "N = 128;h = np.zeros(N);h[0] = h[1] = 0.5;H = np.fft.fft(h)\n",
    "fig, ax = plt.subplots(1,2, figsize=(15,5))\n",
    "ax[0].plot(np.arange(-N//2+1,N//2+1),np.fft.fftshift(np.abs(H)))\n",
    "ax[0].set_title('$|H|$ (espectro de magnitude)');ax[0].set_xlabel('bin da FFT');ax[0].set_ylabel('amplitude')\n",
    "ax[1].plot(np.arange(-N//2+1,N//2+1),np.fft.fftshift(np.angle(H)))\n",
    "ax[1].set_title('$\\measuredangle H$ (espectro de fase)');ax[1].set_xlabel('bin da FFT');ax[1].set_ylabel('fase [rad]')\n",
    "fig.suptitle(\"Figura 4.3\")\n",
    "plt.show()"
   ]
  },
  {
   "cell_type": "markdown",
   "metadata": {
    "slideshow": {
     "slide_type": "subslide"
    }
   },
   "source": [
    "Havíamos calculado a resposta em frequência do filtro da média como\n",
    "\n",
    "$$H_k = \\cos(2\\pi k/N) e^{-i\\pi k/N}$$\n",
    "\n",
    "ou equivalentemente\n",
    "\n",
    "$$M_hE_{N,k} = \\cos(2\\pi k/N) e^{-i\\pi k/N}E_{N,k}$$\n",
    "\n",
    "logo $\\measuredangle H_k = (-\\pi /N)k$ (resposta linear em $k$), com atraso de grupo correspondente a $$\\frac{N\\measuredangle H_k}{2\\pi k} = \\frac{-N\\pi/N}{2\\pi} = -\\frac{1}{2}\\ \\mbox{amostra.}$$"
   ]
  },
  {
   "cell_type": "markdown",
   "metadata": {
    "slideshow": {
     "slide_type": "subslide"
    }
   },
   "source": [
    "Isso é intuitivo ao considerarmos que o sinal de saída é uma média entre o sinal original e o sinal atrasado em 1 amostra:\n",
    "\n",
    "$$y_n = \\frac{1}{2}x_n +\\frac{1}{2}x_{n-1}\\\\ y = \\frac{1}{2}\\left(\\begin{array}{c}(x_0,x_1,\\ldots,x_{N-1})\\\\+\\\\(x_{-1},x_0,\\ldots,x_{N-2})\\end{array}\\right)\\\\ \\phantom{y} = \\left(x_{-\\frac{1}{2}},x_{\\frac{1}{2}},\\ldots,x_{N-1-\\frac{1}{2}}\\right)$$\n",
    "onde os índices fracionários representam a interpolação linear do sinal."
   ]
  },
  {
   "cell_type": "markdown",
   "metadata": {
    "slideshow": {
     "slide_type": "slide"
    }
   },
   "source": [
    "### Resposta ao impulso\n",
    "\n",
    "Considere o vetor $h\\in\\mathbb{C}^N$ associado à equação $y=x*h$, e seja a entrada $x=\\delta$ onde\n",
    "\n",
    "\\begin{equation*}\n",
    "\t\\delta = \\left\\{\\begin{array}{ll}\n",
    "\t\t1 & \\text{ se }n=0 \\\\\n",
    "\t\t0 & \\text{ c.c.} \\\\\n",
    "\t\\end{array}\\right.\n",
    "\\end{equation*}\n",
    "\n",
    "Esse sinal $\\delta$ é chamado de **impulso unitário**."
   ]
  },
  {
   "cell_type": "markdown",
   "metadata": {
    "slideshow": {
     "slide_type": "slide"
    }
   },
   "source": [
    " A resposta do filtro a esse impulso será $y = \\delta*h$, onde\n",
    "\n",
    "\\begin{align*}\n",
    "\ty_n &= \\sum\\limits_{k=0}^{N-1}\\delta_kh_{n-k}\\\\\n",
    "\t&= h_n\n",
    "\\end{align*}\n",
    "\n",
    "Assim, vemos que $\\delta$ é o **elemento neutro** da operação de convolução, e $h$ é denominado **resposta ao impulso** associada ao filtro."
   ]
  },
  {
   "cell_type": "markdown",
   "metadata": {
    "slideshow": {
     "slide_type": "slide"
    }
   },
   "source": [
    "### Resposta em Frequência\n",
    "\n",
    "Denominamos de **resposta em frequência** ao vetor $H = DFT(h)$.\n",
    "\n",
    "Lembre que cada coeficiente $H_k\\in\\mathbb{C}$ modifica a componente de frequência $k$ de um sinal da entrada $x$ de acordo com o teorema da convolução\n",
    "\n",
    "$$y = x*h \\implies Y_k=H_kX_k.$$"
   ]
  },
  {
   "cell_type": "markdown",
   "metadata": {
    "slideshow": {
     "slide_type": "slide"
    }
   },
   "source": [
    "Denominamos de **resposta em magnitude** ao vetor $|H|\\in\\mathbb{R}^N$, e de **resposta em fase** ao vetor $\\measuredangle H\\in\\mathbb{R}^N$, levando em consideração que\n",
    "\n",
    "$$Y_k = H_kX_k = |H_k|e^{i\\measuredangle H_k}|X_k|e^{i\\measuredangle X_k}=|H_k||X_k|e^{i(\\measuredangle H_k+\\measuredangle X_k)},$$\n",
    "\n",
    "ou seja, que as magnitudes das componentes da entrada são multiplicadas por $|H_k|$ e as fases são acrescidas de $\\measuredangle H_k$."
   ]
  },
  {
   "cell_type": "markdown",
   "metadata": {
    "slideshow": {
     "slide_type": "slide"
    }
   },
   "source": [
    "### Desenho de filtros\n",
    "\n",
    "Em princípio, podemos definir arbitrariamente qualquer resposta em frequência $H\\in\\mathbb{C}^N$ desejada, obtendo a resposta ao impulso pela expressão $h = IDFT(H)$, de tal forma que que $y=x*h$ terá espectro $Y_k=H_kX_k$."
   ]
  },
  {
   "cell_type": "markdown",
   "metadata": {
    "slideshow": {
     "slide_type": "slide"
    }
   },
   "source": [
    "Entretanto\n",
    "\n",
    "\\begin{array}{ll}\n",
    "\t1. & \\mbox{Se}\\ H\\ \\mbox{é um vetor qualquer, então}\\ h\\ \\mbox{pode não ser real,}\\\\\n",
    "    & \\mbox{e com isso}\\ x*h\\ \\mbox{também pode não ser real.}\\\\\n",
    "    & \\mbox{Lembrando que}\\ h\\in\\mathbb{R}^N \\Leftrightarrow H_k = \\overline{H_{-k}}\\\\\n",
    "\t& \\mbox{uma solução é definir}\\ H_k\\ \\mbox{arbitrariamente para}\\ k\\le \\frac{N}{2}\\\\\n",
    "    & \\mbox{e depois copiar}\\ H_{N-k} = H_{-k} = \\overline{H_{k}},\\ \\forall k>\\frac{N}{2}.\\\\\n",
    "\t2. & \\mbox{Normalmente o vetor}\\ h = IDFT(H)\\\\\n",
    "    &\\mbox{pode conter muitos coeficientes}\\ \\neq 0,\\\\\n",
    "    & \\mbox{tornando o filtro computacionalmente caro.}\n",
    "\\end{array}"
   ]
  },
  {
   "cell_type": "markdown",
   "metadata": {
    "slideshow": {
     "slide_type": "subslide"
    }
   },
   "source": [
    "### Observação: custo computacional da convolução\n",
    "\n",
    "\\begin{array}{ll}\n",
    "\t\t1. & y_n = \\sum\\limits_{k=0}^{N-1}x_kh_{n-k}, n = 0, \\dots, N-1\\\\\n",
    "        &(\\mbox{custo}\\ \\mathcal{O}(N^2))\\\\\n",
    "\t\t2. & y = IDFT(Y)\\ \\mbox{onde}\\ Y_k = X_kH_k,\\ k = 0, \\dots, N-1\\\\\n",
    "        &(\\mbox{custo}\\ \\mathcal{O}(N\\log N))\\\\\n",
    "\t\t3. & \\mbox{se}\\ \\#h = \\#\\{h_n\\neq 0\\}\\ \\mbox{é pequeno}\\ \\left(\\mathcal{O}(1)\\right),\\ \\mbox{então calcular}\\\\\n",
    "\t\t& y_n = \\sum\\limits_{k=0}^{N-1}x_kh_{n-k} = \\sum\\limits_{k: h_k\\neq 0}h_kx_{n-k}, n = 0, \\dots, N-1\\\\\n",
    "\t\t& \\mbox{tem custo}\\ \\mathcal{O}(N).\n",
    "\\end{array}"
   ]
  },
  {
   "cell_type": "markdown",
   "metadata": {
    "slideshow": {
     "slide_type": "subslide"
    }
   },
   "source": [
    "### Filtros eficientes (com poucos \"taps\")\n",
    "\n",
    "Uma forma metafórica de imaginar o processo de filtragem é pensar no fluxo $x$ como um líquido passando por um cano:\n",
    "$$\\begin{array}{ll}\n",
    "& \\rule{10cm}{0.5pt}\\\\\n",
    "{x\\longrightarrow}\\atop\\ & \\rule{1.75cm}{0.5pt}\\hspace{0.25cm}\\rule{1.75cm}{0.5pt}\\hspace{0.25cm}\\rule{1.75cm}{0.5pt}\\hspace{0.25cm}\\rule{1.75cm}{0.5pt}\\hspace{0.25cm}\\rule{2cm}{0.5pt}\\\\\n",
    "&\\hspace{1.75cm}\\downarrow\\hspace{1.75cm}\\downarrow\\hspace{1.75cm}\\downarrow\\hspace{1.75cm}\\downarrow\\hspace{2cm}\\\\\n",
    "&\\hspace{1.75cm}x^{(-i)}\\hspace{1.2\n",
    "cm}x^{(-j)}\\hspace{1.2cm}x^{(-k)}\\hspace{1.2cm}x^{(-l)}\\hspace{2cm}\\\\\n",
    "&\\hspace{1.75cm}\\cdot h_i\\hspace{1.4\n",
    "cm}\\cdot h_j\\hspace{1.4cm}\\cdot h_k\\hspace{1.4cm}\\cdot h_l\\hspace{2cm}\\longrightarrow y\n",
    "\\end{array}$$\n",
    "sendo que a saída do filtro\n",
    "\n",
    "$$y_n = \\sum\\limits_{k: h_k\\neq 0}h_kx_{n-k}\\quad \\left(\\mbox{alternativamente:}\\ y = \\sum\\limits_{k: h_k\\neq 0}h_kx^{(-k)}\\right)$$\n",
    "\n",
    "poderia ser interpretada como uma mistura das cópias atrasadas ($x_{n-k}$\\ , ou como um sinal $x^{(-k)}$ atrasado como um todo em $k$ amostras) da entrada, que saem por \"torneiras\" (*taps* em inglês) posicionadas a uma distância $k$ da entrada, com \"vazão\" correspondente a $h_k$."
   ]
  },
  {
   "cell_type": "markdown",
   "metadata": {
    "slideshow": {
     "slide_type": "subslide"
    }
   },
   "source": [
    "O termo **tap** se generalizou como referência aos coeficientes não-nulos da resposta ao impulso $h$, sendo que filtros com poucos taps permitem sua implementação com custo $\\mathcal{O}(1)$ por amostra, sendo considerados por isso bastante eficientes e adequados a aplicações computacionalmente intensivas (por exemplo, processamento em tempo-real).\n",
    " \n",
    "Uma estratégia para deixar um filtro mais eficiente é zerar componentes de $h$ que satisfaçam $|h_m| < \\epsilon$ para algum $\\epsilon > 0$ escolhido, como no algoritmo de compressão estudado no capítulo 3. O resultado será um filtro aproximado, cuja distorção pode ser medida a partir das respostas em frequência antes e depois da modificação, como veremos no próximo exemplo."
   ]
  },
  {
   "cell_type": "markdown",
   "metadata": {
    "slideshow": {
     "slide_type": "slide"
    }
   },
   "source": [
    "### Exemplo 4.4: filtro passa-alta projetado a partir de uma resposta em frequência ideal."
   ]
  },
  {
   "cell_type": "code",
   "execution_count": null,
   "metadata": {
    "slideshow": {
     "slide_type": "fragment"
    }
   },
   "outputs": [],
   "source": [
    "N = 128;H = np.concatenate((np.zeros(30),np.ones(69),np.zeros(29)));h = np.real(np.fft.ifft(H))\n",
    "fig, ax = plt.subplots(1,2, figsize=(15,5))\n",
    "ax[0].plot(np.arange(-N//2+1,N//2+1),np.fft.fftshift(H));ax[0].set_title('Resposta em frequência do filtro');ax[0].set_xlabel('bin da FFT');ax[0].set_ylabel('amplitude')\n",
    "ax[1].plot(h);ax[1].set_title('Resposta impulsiva');ax[1].set_xlabel('amostra');ax[1].set_ylabel('amplitude')\n",
    "fig.suptitle(\"Figura 4.4\");plt.show()"
   ]
  },
  {
   "cell_type": "markdown",
   "metadata": {
    "slideshow": {
     "slide_type": "subslide"
    }
   },
   "source": [
    "### Versões computacionalmente mais \"baratas\" (com menos \"taps\") do mesmo filtro passa-alta."
   ]
  },
  {
   "cell_type": "code",
   "execution_count": null,
   "metadata": {
    "slideshow": {
     "slide_type": "skip"
    }
   },
   "outputs": [],
   "source": [
    "# Os limiares abaixo são usados para \"cortar\" coeficientes do filtro e com isso diminuir o número de termos na equação de convolução\n",
    "EPSVALS =  [ 0.01, 0.05, 0.1 ]\n",
    "def plota_filtro_com_menos_taps(epsilon,h,ax,k):\n",
    "    mask = (abs(h)>=epsilon) # seleciona os coeficientes acima do limiar\n",
    "    ntaps = sum(mask) # calcula o número de coeficientes do filtro\n",
    "    heps = h*mask # heps é o filtro simplificado com limiar epsilon\n",
    "    # Mostra a resposta impulsiva com os coeficientes eliminados\n",
    "    ax[0,k].plot(heps);ax[0,k].set_title(\"Epsilon = \"+str(epsilon)+\", Filtro com \"+str(ntaps)+\" taps\")\n",
    "    # Compara a resposta do filtro simplificado com a resposta ideal do filtro original (pontilhada)\n",
    "    ax[1,k].plot(np.arange(-N//2+1,N//2+1),np.fft.fftshift(np.real(np.fft.fft(heps))), label='filtro obtido')\n",
    "    ax[1,k].plot(np.arange(-N//2+1,N//2+1),np.fft.fftshift(H),\".\", label='filtro ideal')"
   ]
  },
  {
   "cell_type": "code",
   "execution_count": null,
   "metadata": {
    "slideshow": {
     "slide_type": "fragment"
    }
   },
   "outputs": [],
   "source": [
    "fig, ax = plt.subplots(2,3, figsize=(15,8))\n",
    "for k in range(len(EPSVALS)): plota_filtro_com_menos_taps(EPSVALS[k],h,ax,k)\n",
    "plt.legend(loc='upper left', bbox_to_anchor=(1, 1));plt.show()"
   ]
  },
  {
   "cell_type": "markdown",
   "metadata": {
    "slideshow": {
     "slide_type": "subslide"
    }
   },
   "source": [
    "### Colocando em perspectiva a \"perfeição\" da resposta em frequência do filtro original (com banda de corte nula).\n",
    "\n",
    "Este exemplo (que não está no livro) se contrapõe à idéia de que o filtro desenhado a partir da resposta em frequência H tenha exatamente o comportamento de filtro ideal que o gráfico de H poderia sugerir.\n",
    "\n",
    "Para este exemplo, construiremos \"na mão\" a resposta em magnitude do filtro H para funções \"básicas\" do tipo $\\cos(2\\pi f\\frac{n}{N})$, inicialmente para frequências do tipo $f=0,1,...,N-1$, e posteriormente para outras frequências intermediárias."
   ]
  },
  {
   "cell_type": "markdown",
   "metadata": {
    "slideshow": {
     "slide_type": "subslide"
    }
   },
   "source": [
    "#### Computa a resposta em magnitude para as frequências f=0,1,2,...,N-1"
   ]
  },
  {
   "cell_type": "code",
   "execution_count": null,
   "metadata": {
    "slideshow": {
     "slide_type": "fragment"
    }
   },
   "outputs": [],
   "source": [
    "FREQS = np.arange(-N//2+1,N//2+1,1)\n",
    "R = [ 0 ] * len(FREQS)\n",
    "t = np.arange(N)\n",
    "for k in range(N):\n",
    "    # cria função básica de frequência k\n",
    "    x = np.cos(2*np.pi*FREQS[k]*t/N)\n",
    "    # filtra por h\n",
    "    y = np.real(np.fft.ifft(np.fft.fft(x)*H))\n",
    "    # constrói gráfico de magnitude da resposta\n",
    "    # (fator de escala da saída do filtro)\n",
    "    R[k] = np.linalg.norm(y)/np.linalg.norm(x)"
   ]
  },
  {
   "cell_type": "code",
   "execution_count": null,
   "metadata": {
    "slideshow": {
     "slide_type": "subslide"
    }
   },
   "outputs": [],
   "source": [
    "# Mostra o gráfico da resposta de magnitude.\n",
    "plt.figure(figsize=(15,5));plt.title(\"Resposta em frequência do filtro passa-altas ideal para frequências inteiras\")\n",
    "plt.plot(FREQS,R);plt.xlabel(\"bins\");plt.ylabel('amplitude');plt.show()"
   ]
  },
  {
   "cell_type": "markdown",
   "metadata": {
    "slideshow": {
     "slide_type": "subslide"
    }
   },
   "source": [
    "### Repete a mesma construção com frequências não-inteiras\n",
    "#### Observe que a única diferença do código abaixo é que agora as frequências são f=0,0.1,0.2,...,N-1"
   ]
  },
  {
   "cell_type": "code",
   "execution_count": null,
   "metadata": {
    "slideshow": {
     "slide_type": "fragment"
    }
   },
   "outputs": [],
   "source": [
    "FREQS = np.arange(-N//2+1,N//2+1,0.1)\n",
    "R = [ 0 ] * len(FREQS)\n",
    "t = np.arange(N)\n",
    "for k in range(len(FREQS)):\n",
    "    # cria função básica de frequência k\n",
    "    x = np.cos(2*np.pi*FREQS[k]*t/N)\n",
    "    # filtra por h\n",
    "    y = np.real(np.fft.ifft(np.fft.fft(x)*H))\n",
    "    # constrói gráfico de magnitude da resposta\n",
    "    # (fator de escala da saída do filtro)\n",
    "    R[k] = np.linalg.norm(y)/np.linalg.norm(x)"
   ]
  },
  {
   "cell_type": "code",
   "execution_count": null,
   "metadata": {
    "slideshow": {
     "slide_type": "subslide"
    }
   },
   "outputs": [],
   "source": [
    "# Mostra o gráfico da resposta de magnitude.\n",
    "plt.figure(figsize=(15,5));plt.title(\"Resposta em frequência do filtro passa-altas ideal para frequências racionais\")\n",
    "plt.plot(FREQS,R);plt.xlabel(\"bins\");plt.ylabel('amplitude');plt.show()"
   ]
  }
 ],
 "metadata": {
  "celltoolbar": "Slideshow",
  "kernelspec": {
   "display_name": "Python 3",
   "language": "python",
   "name": "python3"
  },
  "language_info": {
   "codemirror_mode": {
    "name": "ipython",
    "version": 3
   },
   "file_extension": ".py",
   "mimetype": "text/x-python",
   "name": "python",
   "nbconvert_exporter": "python",
   "pygments_lexer": "ipython3",
   "version": "3.7.11"
  }
 },
 "nbformat": 4,
 "nbformat_minor": 2
}
