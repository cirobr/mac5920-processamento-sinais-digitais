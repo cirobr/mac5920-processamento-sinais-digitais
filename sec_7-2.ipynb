{
 "cells": [
  {
   "cell_type": "markdown",
   "metadata": {
    "slideshow": {
     "slide_type": "slide"
    }
   },
   "source": [
    "# MAC0317/MAC5920\n",
    "## Introdução ao Processamento de Sinais Digitais\n",
    "## Capítulo 7: Bancos de Filtros"
   ]
  },
  {
   "cell_type": "code",
   "execution_count": null,
   "metadata": {
    "slideshow": {
     "slide_type": "skip"
    }
   },
   "outputs": [],
   "source": [
    "import math as m\n",
    "import numpy as np\n",
    "import matplotlib.pyplot as plt"
   ]
  },
  {
   "cell_type": "markdown",
   "metadata": {
    "slideshow": {
     "slide_type": "subslide"
    }
   },
   "source": [
    "## Seção 7.1: Visão geral\n",
    "\n",
    "O objetivo deste capítulo é apresentar a teoria de **Wavelets** a partir da perspectiva de bancos de filtros.\n",
    "\n",
    "Alguns pontos em comum com a representação de Fourier:\n",
    "> - a transformada Wavelet também é linear, podendo ser representada por um par de equações\n",
    "$$X = Wx\\quad\\quad\\quad x=W^{-1}X;$$\n",
    "> - os coeficientes $X_k$ também estão associados a uma família de funções básicas (wavelets);\n",
    "> - a teoria pode ser estendida para sinais de duração infinita, bem como para sinais contínuos."
   ]
  },
  {
   "cell_type": "markdown",
   "metadata": {
    "slideshow": {
     "slide_type": "subslide"
    }
   },
   "source": [
    "Algumas diferenças importantes:\n",
    "\n",
    "> - a transformada parte do princípio que o conteúdo espectral do sinal varia no tempo;\n",
    "> - cada wavelet básica (e portanto cada coeficiente $X_k$) possui simultaneamente localização temporal e características frequenciais;\n",
    "> - a transformada possui complexidade computacional *linear* e não $\\mathcal{O}(N\\log N)$."
   ]
  },
  {
   "cell_type": "markdown",
   "metadata": {
    "slideshow": {
     "slide_type": "subslide"
    }
   },
   "source": [
    "A ideia de banco de filtros não é tão distante da realidade de Fourier: cada coeficiente $X_k$ da DFT era definido por uma equação\n",
    "$$X_k = (x,E_k) = \\sum_{n=0}^{N-1}x_ne^{-i2\\pi kn/N} = \\sum_{n=0}^{N-1}x_ne^{i2\\pi k(0-n)/N} = (x*E_k)_0,$$\n",
    "ou seja, o coeficiente $X_k$ pode ser visto como obtido pela *filtragem* do sinal $x$ pelo filtro definido por $h=E_k$, cuja resposta em frequência é\n",
    "$$\\mbox{DFT}(E_k) = (0,\\ldots,0,\\overbrace{N}^{k},0,\\ldots,0).$$\n",
    "\n",
    "Nesse sentido, a transformada de Fourier pode ser vista como um banco de $N$ filtros $E_0,E_1,\\ldots,E_{N-1}$, cada um dos quais \"seleciona\" exatamente o conteúdo de frequência $k$ do sinal $x$:\n",
    "$$x\\longrightarrow\\begin{array}{|lll}\n",
    "\\longrightarrow&\\fbox{$E_0$}&\\longrightarrow\\\\\n",
    "\\longrightarrow&\\fbox{$E_1$}&\\longrightarrow\\\\\n",
    "&\\vdots&\\\\\n",
    "\\longrightarrow&\\fbox{$E_{N-1}$}&\\longrightarrow\\\\\n",
    "\\end{array}\\left[\\begin{array}{c}\n",
    "\\fbox{$X_0$}\\\\\n",
    "\\fbox{$X_1$}\\\\\n",
    "\\vdots\\\\\n",
    "\\fbox{$X_{N-1}$}\\\\\n",
    "\\end{array}\\right]$$"
   ]
  },
  {
   "cell_type": "markdown",
   "metadata": {
    "slideshow": {
     "slide_type": "slide"
    }
   },
   "source": [
    "### Seção 7.2.1: O banco de filtros de Haar de 1 estágio e 2 canais\n",
    "\n",
    "Num primeiro momento, será mais conveniente apresentar a teoria de bancos de filtros sem nos preocuparmos com as \"extremidades\" do vetor, o que se torna muito mais fácil no contexto dos sinais bi-infinitos em $L^2(\\mathbb{Z})$.\n",
    "\n",
    "Consideraremos também bancos de filtros que utilizam apenas dois *canais* de separação em frequências de um sinal $x$, através de um filtro *passa-baixas* (*low-pass*) e outro filtro *passa-altas* (*high-pass*), associados respectivamente a vetores de coeficientes $l,h\\in L^2(\\mathbb{Z})$:\n",
    "\n",
    "$$x\\longrightarrow\\begin{array}{|lll}\n",
    "\\longrightarrow&\\fbox{$\\ \\ l\\ \\ $}&\\longrightarrow\\\\\n",
    "\\longrightarrow&\\fbox{$\\ \\ h\\ \\ $}&\\longrightarrow\n",
    "\\end{array}\\begin{array}{c}\n",
    "\\fbox{$l*x$}\\\\\n",
    "\\fbox{$h*x$}\n",
    "\\end{array}$$"
   ]
  },
  {
   "cell_type": "markdown",
   "metadata": {
    "slideshow": {
     "slide_type": "slide"
    }
   },
   "source": [
    "O banco de filtros de Haar\n",
    "\n",
    "$$x\\longrightarrow\\begin{array}{|lll}\n",
    "\\longrightarrow&\\fbox{$\\ \\ l\\ \\ $}&\\longrightarrow\\\\\n",
    "\\longrightarrow&\\fbox{$\\ \\ h\\ \\ $}&\\longrightarrow\n",
    "\\end{array}\\begin{array}{c}\n",
    "\\fbox{$l*x$}\\\\\n",
    "\\fbox{$h*x$}\n",
    "\\end{array}$$\n",
    "\n",
    "utiliza os filtros passa-baixas e passa-altas associados aos coeficientes\n",
    "\n",
    "$$\\begin{array}{lll}\n",
    "l_0=\\frac{1}{2},&l_1=\\frac{1}{2},&l_r=0,\\quad\\mbox{c.c.}\\\\\n",
    "h_0=\\frac{1}{2},&h_1=-\\frac{1}{2},&l_r=0,\\quad\\mbox{c.c.}\n",
    "\\end{array}$$\n",
    "\n",
    "Esses são nossos velhos conhecidos *filtro da média* e *filtro da diferença normalizada*."
   ]
  },
  {
   "cell_type": "markdown",
   "metadata": {
    "slideshow": {
     "slide_type": "slide"
    }
   },
   "source": [
    "### Exemplo 7.1\n",
    "\n",
    "Considere o sinal definido por\n",
    "\n",
    "$$x(t) = \\frac{1}{2}\\mbox{sen}\\left(2\\pi(3)t\\right)+ \\frac{1}{2}\\mbox{sen}\\left(2\\pi(49)t\\right)$$ \n",
    "\n",
    "amostrado em $t\\in[0,1)$ usando $N=128$ amostras.\n",
    "\n",
    "Vamos observar a seguir os sinais obtidos pela aplicação dos filtros da média e da diferença a esse sinal:\n",
    "\n",
    "$$\\begin{array}{l}\n",
    "(l*x)_k = \\frac{1}{2}x_k+\\frac{1}{2}x_{k-1},\\\\\n",
    "(h*x)_k = \\frac{1}{2}x_k-\\frac{1}{2}x_{k-1}.\\end{array}$$"
   ]
  },
  {
   "cell_type": "code",
   "execution_count": null,
   "metadata": {
    "slideshow": {
     "slide_type": "skip"
    }
   },
   "outputs": [],
   "source": [
    "N = 128\n",
    "k = np.arange(N)\n",
    "x = 0.5 * np.sin(2*m.pi*3*k/N) + 0.5 * np.sin(2*m.pi*49*k/N)\n",
    "# passa-baixas\n",
    "l = [ 0.5, 0.5 ];\n",
    "xl = np.convolve(x,l)[:N] # recorta a convolução linear para manter o tamanho do vetor\n",
    "# passa-altas\n",
    "h = [ 0.5, -0.5 ]\n",
    "xh = np.convolve(x,h)[:N]"
   ]
  },
  {
   "cell_type": "code",
   "execution_count": null,
   "metadata": {
    "slideshow": {
     "slide_type": "subslide"
    }
   },
   "outputs": [],
   "source": [
    "fig, ax = plt.subplots(1,3, figsize=(18,5))\n",
    "ax[0].plot(k,x);ax[0].set_title(\"Sinal original\")\n",
    "ax[1].plot(k,xl);ax[1].set_ylim([-1, 1]);ax[1].set_title(\"Sinal filtrado (frequencias baixas)\")\n",
    "ax[2].plot(k,xh);ax[2].set_ylim([-1, 1]);ax[2].set_title(\"Sinal filtrado (frequencias altas)\")\n",
    "plt.suptitle(r\"Figura 7.1: Observe que $||(x_l+x_h)-x||$ = {0:.2e}\".format(np.linalg.norm(xh+xl-x)),y=0,fontsize=20);plt.show()"
   ]
  },
  {
   "cell_type": "markdown",
   "metadata": {
    "slideshow": {
     "slide_type": "slide"
    }
   },
   "source": [
    "### Princípio da reconstrução perfeita\n",
    "\n",
    "Observe que para os filtros de Haar, a soma das componentes $l*x$ e $h*x$ sempre fornece a reconstrução do sinal original. A propriedade $l*x+h*x=x$ decorre diretamente do fato de que $l+h=\\delta$, onde $\\delta_0=1$ e $\\delta_r=0,\\ \\forall r\\neq 0$, e portanto\n",
    "\n",
    "$$l*x+h*x = (l+h)*x = \\delta*x = x,$$\n",
    "\n",
    "já que $\\delta$ é o elemento neutro da convolução.\n",
    "\n",
    "Gostaríamos de manter esse princípio válido, ou seja, de que é possível reconstruir exatamente o sinal $x$ a partir dos sinais filtrados $l*x$ e $h*x$, e ao mesmo tempo explorar certas redundâncias presentes nestes últimos sinais."
   ]
  },
  {
   "cell_type": "markdown",
   "metadata": {
    "slideshow": {
     "slide_type": "subslide"
    }
   },
   "source": [
    "Considere o sinal original\n",
    "$$x = \\left[\\begin{array}{c}\\vdots\\\\x_{-2}\\\\x_{-1}\\\\\\fbox{$x_0$}\\\\x_1\\\\x_2\\\\\\vdots\\end{array}\\right]$$\n",
    "e os sinais filtrados pelos filtros passa-baixas e passa-altas\n",
    "$$l*x = \\frac{1}{2}\\left[\\begin{array}{c}\\vdots\\\\x_{-2}+x_{-3}\\\\x_{-1}+x_{-2}\\\\\\fbox{$x_0+x_{-1}$}\\\\x_1+x_0\\\\x_2+x_1\\\\\\vdots\\end{array}\\right],\\quad\\quad\\quad h*x = \\frac{1}{2}\\left[\\begin{array}{c}\\vdots\\\\x_{-2}-x_{-3}\\\\x_{-1}-x_{-2}\\\\\\fbox{$x_0-x_{-1}$}\\\\x_1-x_0\\\\x_2-x_1\\\\\\vdots\\end{array}\\right].$$\n",
    "\n",
    "Indicaremos nesses e nos próximos exemplos os índice $n=0$ através de caixas para facilitar o alinhamento dos sinais."
   ]
  },
  {
   "cell_type": "markdown",
   "metadata": {
    "slideshow": {
     "slide_type": "subslide"
    }
   },
   "source": [
    "Há muita redundância nos sinais $l*x$ e $h*x$. Lembrando que\n",
    "\n",
    "$$(l*x)_k = \\frac{1}{2}x_k+\\frac{1}{2}x_{k-1}\\quad\\mbox{e}\\quad\n",
    "(h*x)_k= \\frac{1}{2}x_k-\\frac{1}{2}x_{k-1}$$\n",
    "\n",
    "podemos ver que a partir do conhecimento das duas amostras acima, correspondentes a um único instante $k$, é possível \"reconstruir\" tanto as amostras $x_k$ quanto $x_{k-1}$:\n",
    "\n",
    "$$\\begin{array}{ll}\n",
    "x_k & = (l*x)_k+(h*x)_k\\\\\n",
    "x_{k-1} & = (l*x)_k-(h*x)_k.\n",
    "\\end{array}$$\n",
    "\n",
    "Assim, não seria necessário conhecer $(l*x)_{k-1}$ $(h*x)_{k-1}$ para obter $x_{k-1}$, sendo possível \"descartar\" metade dos vetores $l*x$ e $h*x$ e ainda assim preservar o princípio da reconstrução perfeita."
   ]
  },
  {
   "cell_type": "markdown",
   "metadata": {
    "slideshow": {
     "slide_type": "slide"
    }
   },
   "source": [
    "### Construção dos vetores de aproximação e detalhe\n",
    "\n",
    "Usaremos um operador de *subamostragem* para construir os vetores $X_l$ e $X_h$ que denominaremos de *coeficientes de aproximação e de detalhes*.\n",
    "\n",
    "**Definição 7.2.1:** O operador de subamostragem (*downsampling*) $D:L^2(\\mathbb{Z})\\mapsto L^2(\\mathbb{Z})$ é definido por\n",
    "\n",
    "$$D:(\\ldots,x_{-2},x_{-1},\\fbox{$x_0$},x_1,x_2,\\ldots)\\mapsto(\\ldots,x_{-2},\\fbox{$x_0$},x_2,\\ldots)$$\n",
    "\n",
    "ou equivalentemente por $(D(x))_k = x_{2k}$.\n",
    "\n",
    "Note que esse operador descarta todos os coeficientes ímpares, e corresponde a uma *contração temporal* do sinal.\n",
    "\n",
    "**Observe** também que esse operador é linear, ou seja, satisfaz\n",
    "\n",
    "$$D(x+y)=D(x)+D(y)\\quad\\quad\\mbox{e}\\quad\\quad D(\\alpha x) = \\alpha D(x),$$"
   ]
  },
  {
   "cell_type": "markdown",
   "metadata": {
    "slideshow": {
     "slide_type": "subslide"
    }
   },
   "source": [
    "Os coeficientes de aproximação e detalhes pelo banco de filtros de Haar para um sinal $x$ serão definidos respectivamente por\n",
    "\n",
    "$$X_l=D(l*x) = \\frac{1}{2}\\left[\\begin{array}{c}\\vdots\\\\x_{-2}+x_{-3}\\\\\\fbox{$x_0+x_{-1}$}\\\\x_2+x_1\\\\\\vdots\\end{array}\\right],\\quad\\quad\\quad X_h = D(h*x) = \\frac{1}{2}\\left[\\begin{array}{c}\\vdots\\\\x_{-2}-x_{-3}\\\\\\fbox{$x_0-x_{-1}$}\\\\x_2-x_1\\\\\\vdots\\end{array}\\right].$$\n",
    "\n",
    "Note que $X_l$ é uma versão *suavizada* (através do filtro passa-baixas) e *concentrada* (pelo operador de subamostragem) do sinal original; analogamente, $X_h$ concentra o conteúdo de alta frequência do sinal original."
   ]
  },
  {
   "cell_type": "markdown",
   "metadata": {
    "slideshow": {
     "slide_type": "slide"
    }
   },
   "source": [
    "### A Transformada do banco de filtros de Haar em $L^2(\\mathbb{Z})$\n",
    "\n",
    "O processo descrito até aqui pode ser ilustrado pelo diagrama\n",
    "\n",
    "$$x\\longrightarrow\\begin{array}{|l|}\n",
    "\\longrightarrow\\fbox{$\\ \\ l_a\\,\\ \\ $}\\longrightarrow \\,l_a*x\\longrightarrow\\fbox{$\\ \\ D\\ \\ $}\\longrightarrow \\,D(l_a*x)\\,\\longrightarrow\\\\\n",
    "\\longrightarrow\\fbox{$\\ \\ h_a\\ \\ $}\\longrightarrow h_a*x\\longrightarrow\\fbox{$\\ \\ D\\ \\ $}\\longrightarrow D(h_a*x)\\longrightarrow\n",
    "\\end{array}\\longrightarrow\\left[\\begin{array}{c}\n",
    "\\fbox{$X_l$}\\\\\n",
    "\\fbox{$X_h$}\n",
    "\\end{array}\\right]$$\n",
    "\n",
    "onde os filtros passa-altas e passa-baixas foram renomeados como $l_a$ e $h_a$ para indicar que pertencem à etapa de *análise*.\n",
    "\n",
    "Consideraremos a transformação $W:L^2(\\mathbb{Z})\\mapsto L^2(\\mathbb{Z})\\times L^2(\\mathbb{Z})$ definida por\n",
    "\n",
    "$$W(x)\\mapsto(X_l,X_h)$$\n",
    "\n",
    "como sendo a transformada de Haar em $L^2(\\mathbb{Z})$. Sua *linearidade* segue diretamente das linearidades da convolução e da subamostragem.\n",
    "\n",
    "A figura a seguir ilustra a decomposição do último sinal de exemplo $x$ em $X_l$ e $X_h$."
   ]
  },
  {
   "cell_type": "code",
   "execution_count": null,
   "metadata": {
    "slideshow": {
     "slide_type": "subslide"
    }
   },
   "outputs": [],
   "source": [
    "fig,ax = plt.subplots(1,3, figsize=(18,5))\n",
    "ax[0].plot(k,x);ax[0].set_title(\"Sinal original\")\n",
    "ax[1].plot(xl[0:N:2]);ax[1].set_ylim([-1, 1]);ax[1].set_title(\"Coeficientes de aproximacao\")\n",
    "ax[2].plot(xh[0:N:2]);ax[2].set_ylim([-1, 1]);ax[2].set_title(\"Coeficientes de detalhe\");\n",
    "plt.suptitle(r\"Observe que os dois últimos gráficos possuem metade da duração do primeiro\",y=0,fontsize=16);plt.show()"
   ]
  },
  {
   "cell_type": "markdown",
   "metadata": {
    "slideshow": {
     "slide_type": "slide"
    }
   },
   "source": [
    "### Invertendo a transformada de Haar de 1 estágio\n",
    "\n",
    "O nosso objetivo agora é verificar que ainda é possível reconstruir o sinal original $x$ a partir dos coeficientes de aproximação $X_l$ e de detalhes $X_h$, apesar do descarte promovido pela subamostragem. Essa reconstrução começa restaurando a escala de tempo do sinal original.\n",
    "\n",
    "**Definição 7.2.2:** O operador de superamostragem (*upsampling*) $U:L^2(\\mathbb{Z})\\mapsto L^2(\\mathbb{Z})$ é definido por\n",
    "\n",
    "$$U:(\\ldots,x_{-1},\\fbox{$x_{ 0}$},x_{ 1},\\ldots)\\mapsto(\\ldots,0,x_{-1},0,\\fbox{$x_{ 0}$},0,x_{ 1},0,\\ldots)$$\n",
    "\n",
    "ou equivalentemente por $(U(x))_k = \\left\\{\\begin{array}{ll}x_{k/2},&\\mbox{se $k$ é par,}\\\\0,&\\mbox{se $k$ é ímpar}\\end{array}\\right.$\n",
    "\n",
    "**Observe** também que esse operador também é linear, ou seja, satisfaz $U(x+y)=U(x)+U(y)$ e $U(\\alpha x) = \\alpha U(x)$."
   ]
  },
  {
   "cell_type": "markdown",
   "metadata": {
    "slideshow": {
     "slide_type": "subslide"
    }
   },
   "source": [
    "Aplicando o operador de superamostragem nos vetores $X_l$ e $X_h$ obtemos\n",
    "\n",
    "$$U(X_l) = \\frac{1}{2}\\left[\\begin{array}{c}\\vdots\\\\0\\\\x_{-2}+x_{-3}\\\\0\\\\\\fbox{$x_0+x_{-1}$}\\\\0\\\\x_2+x_1\\\\0\\\\\\vdots\\end{array}\\right],\\quad\\quad\\quad U(X_h) = \\frac{1}{2}\\left[\\begin{array}{c}\\vdots\\\\0\\\\x_{-2}-x_{-3}\\\\0\\\\\\fbox{$x_0-x_{-1}$}\\\\0\\\\x_2-x_1\\\\0\\\\\\vdots\\end{array}\\right].$$\n",
    "\n",
    "Para \"preenchermos\" as lacunas dos vetores $U(X_l)$ e $U(X_h)$ de forma a permitir a reconstrução de $x$, aplicaremos convoluções com novos filtros, também passa-baixas e passa-altas, que sejam apropriados à reconstrução. Os filtros dessa última etapa são chamados de *filtros de síntese*, e denotados por $l_s$ (passa-baixas) e $h_s$ (passa-altas)."
   ]
  },
  {
   "cell_type": "markdown",
   "metadata": {
    "slideshow": {
     "slide_type": "subslide"
    }
   },
   "source": [
    "No banco de filtros de Haar, os filtros de síntese são dados por\n",
    "\n",
    "$$\\begin{array}{lll}\n",
    "(l_s)_{-1}=1,&(l_s)_0=1,&(l_s)_r=0,\\quad\\mbox{c.c.}\\\\\n",
    "(h_s)_{-1}=-1,&(h_s)_0=1,&(l_s)_r=0,\\quad\\mbox{c.c.}\n",
    "\\end{array}$$\n",
    "\n",
    "ou equivalentemente\n",
    "\n",
    "$$\\begin{array}{l}\n",
    "(l_s*x)_k=x_k+x_{k+1}\\\\\n",
    "(h_s*x)_k=x_k-x_{k+1}\n",
    "\\end{array}$$\n",
    "\n",
    "Observe que estes são pequenas variantes dos filtros da média e da diferença originais, porém com escala diferente e \"espelhados\", ou seja, combinam cada amostra com a amostra seguinte, ao invés da anterior (por isso são filtros não-causais)."
   ]
  },
  {
   "cell_type": "markdown",
   "metadata": {
    "slideshow": {
     "slide_type": "subslide"
    }
   },
   "source": [
    "Aplicando os filtros de síntese aos vetores $U(X_l)$ e $U(X_h)$ para produzir $v_l=l_s*U(X_l)$ e $v_h = h_s*U(X_h)$, obtemos\n",
    "\n",
    "$$v_l = \\frac{1}{2}\\left[\\begin{array}{c}\\vdots\\\\x_{-2}+x_{-3}\\\\x_{-2}+x_{-3}\\\\x_0+x_{-1}\\\\\\fbox{$x_0+x_{-1}$}\\\\x_2+x_1\\\\x_2+x_1\\\\x_4+x_3\\\\\\vdots\\end{array}\\right],\\quad\\quad\\quad v_h = \\frac{1}{2}\\left[\\begin{array}{c}\\vdots\\\\-x_{-2}+x_{-3}\\\\x_{-2}-x_{-3}\\\\-x_0+x_{-1}\\\\\\fbox{$x_0-x_{-1}$}\\\\-x_2+x_1\\\\x_2-x_1\\\\-x_4+x_3\\\\\\vdots\\end{array}\\right].$$"
   ]
  },
  {
   "cell_type": "markdown",
   "metadata": {
    "slideshow": {
     "slide_type": "subslide"
    }
   },
   "source": [
    "Em geral, temos\n",
    "\n",
    "$$(v_l)_k=\\left\\{\\begin{array}{ll}\\frac{1}{2}(x_k+x_{k-1}),&\\mbox{se $k$ é par,}\\\\\\frac{1}{2}(x_{k+1}+x_k),&\\mbox{se $k$ é ímpar,}\\end{array}\\right.\\quad\\quad(v_h)_k=\\left\\{\\begin{array}{ll}\\frac{1}{2}(x_k-x_{k-1}),&\\mbox{se $k$ é par,}\\\\\\frac{1}{2}(-x_{k+1}+x_k),&\\mbox{se $k$ é ímpar.}\\end{array}\\right.$$\n",
    "\n",
    "de onde se vê que\n",
    "\n",
    "$$(v_l)_k+(v_h)_k=\\left\\{\\begin{array}{ll}\\frac{1}{2}(x_k+x_{k-1})+\\frac{1}{2}(x_k-x_{k-1}),&\\mbox{se $k$ é par,}\\\\\\frac{1}{2}(x_{k+1}+x_k)+\\frac{1}{2}(-x_{k+1}+x_k),&\\mbox{se $k$ é ímpar,}\\end{array}\\right\\}=x_k.$$"
   ]
  },
  {
   "cell_type": "markdown",
   "metadata": {
    "slideshow": {
     "slide_type": "subslide"
    }
   },
   "source": [
    "Ou ainda:\n",
    "\n",
    "$$v_l+v_h = \\frac{1}{2}\\left[\\begin{array}{c}\\vdots\\\\x_{-2}+x_{-3}\\\\x_{-2}+x_{-3}\\\\x_0+x_{-1}\\\\\\fbox{$x_0+x_{-1}$}\\\\x_2+x_1\\\\x_2+x_1\\\\x_4+x_3\\\\\\vdots\\end{array}\\right]+\\frac{1}{2}\\left[\\begin{array}{c}\\vdots\\\\-x_{-2}+x_{-3}\\\\x_{-2}-x_{-3}\\\\-x_0+x_{-1}\\\\\\fbox{$x_0-x_{-1}$}\\\\-x_2+x_1\\\\x_2-x_1\\\\-x_4+x_3\\\\\\vdots\\end{array}\\right]\n",
    "=\\left[\\begin{array}{c}\\vdots\\\\x_{-3}\\\\x_{-2}\\\\x_{-1}\\\\x_0\\\\x_1\\\\x_2\\\\x_3\\\\\\vdots\\end{array}\\right].$$"
   ]
  },
  {
   "cell_type": "markdown",
   "metadata": {
    "slideshow": {
     "slide_type": "subslide"
    }
   },
   "source": [
    "Esse processo pode ser ilustrado pelo diagrama da transformada de síntese (inversa):\n",
    "\n",
    "$$x\\longleftarrow\\begin{array}{l|}\n",
    "\\quad\\overbrace{\\ \\ v_l\\ \\ }^{\\small=l_s*U(X_l)}\\longleftarrow\\fbox{$\\ \\ l_s\\ \\ $}\\longleftarrow U(X_l)\\longleftarrow\\fbox{$\\ \\ U\\ \\ $}\\longleftarrow\\\\\n",
    "\\quad\\swarrow\\\\\n",
    "\\bigoplus\\\\\n",
    "\\quad\\nwarrow\\\\\n",
    "\\quad\\overbrace{\\ \\ v_s\\ \\ }^{\\small=h_s*U(X_h)}\\longleftarrow\\fbox{$\\ \\ h_s\\ \\ $}\\longleftarrow U(X_h)\\longleftarrow\\fbox{$\\ \\ U\\ \\ $}\\longleftarrow\n",
    "\\end{array}\\longleftarrow\\left[\\begin{array}{c}\n",
    "\\fbox{$X_l$}\\\\\n",
    "\\fbox{$X_h$}\n",
    "\\end{array}\\right]$$\n",
    "\n",
    "Observe a estrutura espelhada em relação ao diagrama da transformada direta (análise)."
   ]
  },
  {
   "cell_type": "markdown",
   "metadata": {
    "slideshow": {
     "slide_type": "slide"
    }
   },
   "source": [
    "### Observação 7.1: Causalidade e atrasos\n",
    "\n",
    "Os filtros de síntese $l_s$ e $h_s$ *não são causais*, o que pode dificultar a aplicação da transformada inversa em certos contextos (por exemplo no processamento em tempo real).\n",
    "\n",
    "Uma alternativa para tornar todos os filtros causais é introduzir atrasos propositais na cadeia de processamento. Considere o operador de *atraso* $S:L^2(\\mathbb{Z})\\mapsto L^2(\\mathbb{Z})$ definido por $(S(x))_k=x_{k-1}$, ou seja,\n",
    "$$\\begin{array}{lllllll}\n",
    "\\cdots&x_{-2}&x_{-1}&\\fbox{$x_0$}&x_1&x_2&\\cdots\\\\\n",
    "&\\downarrow&\\downarrow&\\downarrow&\\downarrow&\\downarrow\\\\\n",
    "\\cdots&x_{-3}&x_{-2}&\\fbox{$x_{-1}$}&x_0&x_1&\\cdots\\end{array}$$\n",
    "\n",
    "Substituindo os filtros não-causais $l_s$ e $h_s$ pelos filtros causais $S(l_s)$ e $S(h_s)$ teremos na saída do processo de síntese o sinal\n",
    "\n",
    "$$S(l_s)*U(X_l)+S(h_s)*U(X_h) = S(l_s*U(X_l)+h_s*U(X_h)) = S(x).$$\n",
    "\n",
    "A propriedade $S(v)*w=S(v*w)$ é um caso particular do exercício 7.7."
   ]
  },
  {
   "cell_type": "markdown",
   "metadata": {
    "slideshow": {
     "slide_type": "slide"
    }
   },
   "source": [
    "### Exemplo 7.2\n",
    "\n",
    "Considere o sinal definido por\n",
    "\n",
    "$$x(t) = \\left\\{\\begin{array}{ll}\n",
    "\\sin(2\\pi 12 t),&0\\le t<t_1\\\\\n",
    "0.8,&t_1\\le t<t_2\\\\\n",
    "0.3,&t_2\\le t<t_3\\\\\n",
    "0,&t_3\\le t<1\n",
    "\\end{array}\\right.$$\n",
    "\n",
    "onde $0<t_1<t_2<t_3<1$ formam uma partição arbitrária do intervalo $[0,1]$.\n",
    "\n",
    "Construiremos a seguir os coeficientes de aproximação e detalhes desse sinal $x$. Observe como os coeficientes de aproximação possuem o mesmo perfil do sinal original, e como os coeficientes de detalhes guardam informações importantes para a reconstrução (por exemplo os pontos de descontinuidade do sinal original)."
   ]
  },
  {
   "cell_type": "code",
   "execution_count": null,
   "metadata": {
    "slideshow": {
     "slide_type": "skip"
    }
   },
   "outputs": [],
   "source": [
    "N = 1024\n",
    "# sinal com vários trechos independentes\n",
    "x = np.zeros(1024)\n",
    "x[0:350] = np.sin(2 * m.pi * 12 *  np.arange(0, 1, 1/N)[:350]) \n",
    "x[350:500] = 0.8 * np.ones(150)\n",
    "x[500:800] = 0.3 * np.ones(300)\n",
    "\n",
    "# passa-baixas\n",
    "l = [0.5, 0.5]\n",
    "xl = np.convolve(x, l)\n",
    "# passa-altas\n",
    "h = [0.5, -0.5]\n",
    "xh = np.convolve(x,h)"
   ]
  },
  {
   "cell_type": "code",
   "execution_count": null,
   "metadata": {
    "slideshow": {
     "slide_type": "subslide"
    }
   },
   "outputs": [],
   "source": [
    "fig, ax = plt.subplots(1,3, figsize=(18,4))\n",
    "ax[0].plot(x);ax[0].set_ylim([-1, 1]);ax[0].set_title(\"Sinal original\")\n",
    "ax[1].plot(xl[0:N:2]);ax[1].set_ylim([-1, 1]);ax[1].set_title(\"Coeficientes de aproximacao\")\n",
    "ax[2].plot(xh[0:N:2]);ax[2].set_ylim([-1, 1]);ax[2].set_title(\"Coeficientes de detalhe\");plt.show()"
   ]
  },
  {
   "cell_type": "markdown",
   "metadata": {
    "slideshow": {
     "slide_type": "subslide"
    }
   },
   "source": [
    "### Continuação do exemplo 7.2: compressão\n",
    "\n",
    "Lembrando que os coeficientes de aproximação $X_l$ da transformada de Haar correspondem a uma versão suavizada e subamostrada do sinal original $x$, podemos obter uma compressão \"fácil\" de 50% simplesmente descartando os coeficientes de detalhes $X_h$ na representação compactada, e ressintetizando o sinal preenchendo os coeficientes de detalhes faltantes com $X_h=0$.\n",
    "\n",
    "Na figura a seguir ilustramos a aplicação dessa compressão ao sinal do exemplo 7.2, contrastando com o resultado de aplicar um princípio similar de compressão à DFT(x), descartando 50% dos coeficientes de menor amplitude.\n",
    "\n",
    "Observe os erros relativos indicados nos gráficos, e compare-os com sua impressão subjetiva da qualidade dos sinais reconstruídos. Note as diferenças entre as imagens na porção senoidal e nos trechos constantes."
   ]
  },
  {
   "cell_type": "code",
   "execution_count": null,
   "metadata": {
    "slideshow": {
     "slide_type": "skip"
    }
   },
   "outputs": [],
   "source": [
    "# Reconstrução usando transformada de Haar, zerando o vetor xh:\n",
    "Uxl = np.zeros(N+1)\n",
    "Uxl[0:N+1:2] = xl[0:N+1:2]\n",
    "vl = np.convolve(Uxl,[ 1, 1 ])[1:N+1]\n",
    "\n",
    "# Reconstrução usando DFT, mantendo 50% dos coeficientes (mais altos)\n",
    "X = np.fft.fft(x[0:N])\n",
    "\n",
    "Xcompactado = np.copy(X)\n",
    "limiar = np.median(abs(X))\n",
    "Xcompactado[abs(Xcompactado) < limiar] = 0\n",
    "xnovo = np.real(np.fft.ifft(Xcompactado))\n",
    "\n",
    "# Calcula erro relativo da reconstrução\n",
    "def distortion(x,l):                                                            \n",
    "    return np.linalg.norm(x-l)/ np.linalg.norm(x)"
   ]
  },
  {
   "cell_type": "code",
   "execution_count": null,
   "metadata": {
    "slideshow": {
     "slide_type": "subslide"
    }
   },
   "outputs": [],
   "source": [
    "fig, ax = plt.subplots(1,2, figsize=(15,5))\n",
    "ax[0].plot(vl);ax[0].set_title(r\"Compactacao usando Haar (erro={0:.4f}%)\".format(100*distortion(x[0:N], vl)))\n",
    "ax[1].plot(xnovo);ax[1].set_title(r\"Compactacao usando DFT (erro={0:.4f}%)\".format(100*distortion(x[0:N], xnovo)))\n",
    "plt.show()"
   ]
  },
  {
   "cell_type": "markdown",
   "metadata": {
    "slideshow": {
     "slide_type": "subslide"
    }
   },
   "source": [
    "### Outro exemplo de compressão do mesmo sinal, mantendo 75% dos coeficientes\n",
    "\n",
    "No caso de Haar, eliminaremos 50% dos coeficientes de $X_h$ (os de menor amplitude), o que corresponde a descartar 25% do vetor $(X_l,X_h)$.\n",
    "\n",
    "No caso da DFT, eliminaremos 25% dos coeficientes da DFT(x) (os de menor amplitude).\n",
    "\n",
    "Pode-se ver que a compressão por Haar nesse caso não acarreta nenhuma perda na reconstrução, provavelmente devido ao fato de que o vetor $X_h$ já possuia muitos zeros, ao passo que a melhora no desempenho da compressão por Fourier não elimina os artefatos nos trechos constantes do sinal."
   ]
  },
  {
   "cell_type": "code",
   "execution_count": null,
   "metadata": {
    "slideshow": {
     "slide_type": "skip"
    }
   },
   "outputs": [],
   "source": [
    "# ao invés de anular o vetor xh,\n",
    "# vamos manter 50% dos coeficientes de xh (os mais altos).\n",
    "# A representação terá no total 75% do tamanho de x\n",
    "# (50% correspondente a xl e 25% correspondente a xh).\n",
    "\n",
    "xhnovo = xh.copy()\n",
    "limiar = np.median(abs(xh))\n",
    "xhnovo[abs(xhnovo) < limiar] = 0\n",
    "Uxh = np.zeros(N+1)\n",
    "Uxh[0:N+1:2] = xhnovo[0:N+1:2]\n",
    "vh = np.convolve(Uxh,[ -1, 1 ])[1:N+1]\n",
    "\n",
    "# Reconstrução por FFT mantendo 75% dos coeficientes (mais altos)\n",
    "limiar = np.percentile(abs(X).T, 25)\n",
    "Xcompactado = X.copy()\n",
    "Xcompactado[abs(Xcompactado) < limiar] = 0\n",
    "xnovo = np.real(np.fft.ifft(Xcompactado))"
   ]
  },
  {
   "cell_type": "code",
   "execution_count": null,
   "metadata": {
    "slideshow": {
     "slide_type": "subslide"
    }
   },
   "outputs": [],
   "source": [
    "fig, ax = plt.subplots(1,2, figsize=(15,5))\n",
    "ax[0].plot(vl+vh);ax[0].set_title(r\"Compactacao usando Haar (erro={0:.4f}%)\".format(100*distortion(x[0:N], vl+vh)))\n",
    "ax[1].plot(xnovo);ax[1].set_title(r\"Compactacao usando DFT (erro={0:.4f}%)\".format(100*distortion(x[0:N], xnovo)))\n",
    "plt.show()"
   ]
  }
 ],
 "metadata": {
  "celltoolbar": "Slideshow",
  "kernelspec": {
   "display_name": "Python 3 (ipykernel)",
   "language": "python",
   "name": "python3"
  },
  "language_info": {
   "codemirror_mode": {
    "name": "ipython",
    "version": 3
   },
   "file_extension": ".py",
   "mimetype": "text/x-python",
   "name": "python",
   "nbconvert_exporter": "python",
   "pygments_lexer": "ipython3",
   "version": "3.9.6"
  }
 },
 "nbformat": 4,
 "nbformat_minor": 2
}
