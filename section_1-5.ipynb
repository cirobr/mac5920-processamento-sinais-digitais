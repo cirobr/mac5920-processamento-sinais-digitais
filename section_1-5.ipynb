{
 "cells": [
  {
   "cell_type": "markdown",
   "metadata": {
    "slideshow": {
     "slide_type": "slide"
    }
   },
   "source": [
    "## MAC0317/MAC5920\n",
    "## Introdução ao Processamento de Sinais Digitais\n",
    "### Seção 1.5: Formas de onda básicas (caso analógico)"
   ]
  },
  {
   "cell_type": "code",
   "execution_count": null,
   "metadata": {
    "slideshow": {
     "slide_type": "skip"
    }
   },
   "outputs": [],
   "source": [
    "import math as m\n",
    "import numpy as np\n",
    "%matplotlib inline\n",
    "import matplotlib.pyplot as plt\n",
    "import matplotlib.animation as anim\n",
    "from mpl_toolkits.mplot3d import Axes3D\n",
    "from IPython.display import HTML"
   ]
  },
  {
   "cell_type": "markdown",
   "metadata": {
    "slideshow": {
     "slide_type": "slide"
    }
   },
   "source": [
    "### Motivação para o estudo das funções exponenciais complexas\n",
    "\n",
    "Pode-se mostrar que qualquer função $x:[-T,T]\\mapsto\\mathbf{R}$ \"razoável\" (limitada e contínua por partes) pode ser escrita como\n",
    "\n",
    "$$x(t) = \\sum_{k=-\\infty}^{\\infty}c_ke^{i\\omega_kt}$$\n",
    "\n",
    "onde $\\omega_k = k\\pi/T$."
   ]
  },
  {
   "cell_type": "markdown",
   "metadata": {
    "slideshow": {
     "slide_type": "slide"
    }
   },
   "source": [
    "### Relação de Euler\n",
    "\n",
    "$$e^{i\\theta} = \\cos(\\theta)+i\\mbox{sen}(\\theta)$$\n",
    "\n",
    "Pensando em $\\theta$ como uma função linear do tempo ($\\theta=\\omega t$) temos:\n",
    "\n",
    "$$e^{i\\omega t} = \\cos(\\omega t)+i\\mbox{sen}(\\omega t)$$"
   ]
  },
  {
   "cell_type": "markdown",
   "metadata": {
    "slideshow": {
     "slide_type": "subslide"
    }
   },
   "source": [
    "### Como verificar a relação de Euler: o caminho de Taylor\n",
    "\n",
    "Podemos representar várias funções $f(x)$ que nos interessam aqui,\n",
    "como senos, cossenos e exponenciais,\n",
    "através da série de Taylor $$f(x)=\\sum_{n=0}^\\infty a_nx^n.$$"
   ]
  },
  {
   "cell_type": "markdown",
   "metadata": {
    "slideshow": {
     "slide_type": "subslide"
    }
   },
   "source": [
    "Quando a representação de Taylor existe, podemos obter os coeficientes\n",
    "$a_n$ calculando a função original e suas derivadas no ponto $x=0$:\n",
    "\n",
    "$$\\begin{array}{l}\n",
    "f(0)=a_0\\\\\n",
    "f'(x)=\\sum_{n=1}^\\infty na_nx^{n-1}\\implies f'(0)=a_1\\\\\n",
    "f''(x)=\\sum_{n=2}^\\infty n(n-1)a_nx^{n-2}\\implies f''(0)=2a_2\\implies a_2=\\frac{f''(0)}{2}\\\\\n",
    "\\vdots\\\\\n",
    "f^{(m)}(x)=\\sum_{n=m}^\\infty n(n-1)\\cdots(n-m+1)a_nx^{n-m}\\\\\n",
    "\\quad\\quad\\implies\n",
    "f^{(m)}(0)=m!a_m\\implies a_m=\\frac{f^{(m)}(0)}{m!}.\\end{array}$$"
   ]
  },
  {
   "cell_type": "markdown",
   "metadata": {
    "slideshow": {
     "slide_type": "subslide"
    }
   },
   "source": [
    "### No caso das funções trigonométricas e exponenciais, temos...\n",
    "\n",
    "$$\\begin{array}{ll}\n",
    "\\mbox{sen}(x)&=\\mbox{sen}(0)+\\cos(0)x-\\frac{\\mbox{sen}(0)}{2}x^2-\\frac{\\cos(0)}{3!}x^3+\\cdots\\\\\n",
    "&=\n",
    "\\sum_{n=0}^\\infty\\frac{(-1)^nx^{2n+1}}{(2n+1)!}\\\\\n",
    "\\cos(x)&=\\cos(0)-\\mbox{sen}(0)x-\\frac{\\cos(0)}{2}x^2+\\frac{\\mbox{sen}(0)}{3!}x^3+\\cdots\\\\\n",
    "&=\n",
    "\\sum_{n=0}^\\infty\\frac{(-1)^nx^{2n}}{(2n)!}\\\\\n",
    "e^x&=e^0+e^0x+\\frac{e^0}{2}x^2+\\frac{e^0}{3!}x^3+\\cdots\\\\\n",
    "&=\\sum_{n=0}^\\infty\\frac{x^n}{n!}\n",
    "\\end{array}$$"
   ]
  },
  {
   "cell_type": "markdown",
   "metadata": {
    "slideshow": {
     "slide_type": "subslide"
    }
   },
   "source": [
    "### Para $x=i\\omega t$, temos:\n",
    "\n",
    "$$e^{i\\omega t}=\\sum_{n=0}^\\infty\\frac{(i\\omega t)^n}{n!}\n",
    "=\\sum_{n=0}^\\infty\\frac{i^n(\\omega t)^n}{n!}$$\n",
    "\n",
    "Observe que para $n$ par temos $i^0,i^2,i^4,i^6,\\ldots=1,-1,1,-1,\\ldots$\n",
    "e para $n$ ímpar temos $i^1,i^3,i^5,i^7,\\ldots=i,-i,i,-i,\\ldots$. Logo\n",
    "\n",
    "$$e^{i\\omega t}=\\sum_{n=0}^\\infty\\frac{(-1)^n(\\omega t)^{2n}}{(2n)!}+i\\sum_{n=0}^\\infty\\frac{(-1)^n(\\omega t)^{2n+1}}{(2n+1)!},$$\n",
    "\n",
    "de onde obtemos a Relação de Euler $e^{i\\omega t} = \\cos(\\omega t)+i\\mbox{sen}(\\omega t)$."
   ]
  },
  {
   "cell_type": "markdown",
   "metadata": {
    "slideshow": {
     "slide_type": "slide"
    }
   },
   "source": [
    "### Conversão entre senos, cossenos e exponenciais complexas\n",
    "\n",
    "Considerando\n",
    "\n",
    "$$e^{i\\omega t} = \\cos(\\omega t)+i\\mbox{sen}(\\omega t)$$\n",
    "\n",
    "$$e^{-i\\omega t} = \\cos(\\omega t)-i\\mbox{sen}(\\omega t)$$\n",
    "\n",
    "podemos concluir que\n",
    "\n",
    "$$\\cos(\\omega t) = \\frac{e^{i\\omega t}+e^{-i\\omega t}}{2} = \\mbox{Re}(e^{i\\omega t})$$\n",
    "\n",
    "$$\\mbox{sen}(\\omega t) = \\frac{e^{i\\omega t}-e^{-i\\omega t}}{2i} = \\mbox{Im}(e^{i\\omega t})$$"
   ]
  },
  {
   "cell_type": "code",
   "execution_count": null,
   "metadata": {
    "slideshow": {
     "slide_type": "skip"
    }
   },
   "outputs": [],
   "source": [
    "def relações_de_Euler():\n",
    "    w = np.linspace(0,2*np.pi,100)\n",
    "    plt.plot(np.cos(w),np.sin(w))\n",
    "    plt.axis('square')\n",
    "    plt.gca().spines[:].set_position('center')\n",
    "    plt.tick_params(axis='both',colors='w')\n",
    "    x,y = np.cos(np.pi/4),np.sin(np.pi/4)\n",
    "    plt.plot(x,y,'*',ms=10,color='b')\n",
    "    plt.annotate(\"$e^{i\\omega t}$\",(x+0.1,y),size=20)\n",
    "    plt.plot(-x,y,'*',ms=10,color='b')\n",
    "    plt.annotate(\"$-e^{-i\\omega t}$\",(-x-0.3,y+0.2),size=20)\n",
    "    plt.plot(x,-y,'*',ms=10,color='b')\n",
    "    plt.annotate(\"$e^{-i\\omega t}$\",(x+0.1,-y-0.2),size=20)\n",
    "    plt.plot(0,y,'*',ms=10,color='r')\n",
    "    plt.annotate(\"$i\\sin(\\omega t)$\",(0.05,y-0.2),size=15)\n",
    "    plt.plot(x,0,'*',ms=10,color='r')\n",
    "    plt.annotate(\"$\\cos(\\omega t)$\",(x-0.3,0.1),size=15)\n",
    "    plt.plot(np.linspace(-x,x,10),np.linspace(y,y,10),\".r\")\n",
    "    plt.plot(np.linspace(x,x,10),np.linspace(-y,y,10),\".r\")\n",
    "    plt.plot(np.linspace(-x,x,10),np.linspace(y,-y,10),\".r\")\n",
    "    plt.annotate(r\"$\\frac{e^{i\\omega t}+(-e^{-i\\omega t})}{2}$\", xy=(0, y), size=20, xytext=(0.5, 1.2), arrowprops=dict(facecolor='black'))\n",
    "    plt.annotate(r\"$\\frac{e^{i\\omega t}+e^{-i\\omega t}}{2}$\", xy=(x, 0), size=20, xytext=(1.2, -0.5), arrowprops=dict(facecolor='black'))\n",
    "    plt.show()"
   ]
  },
  {
   "cell_type": "code",
   "execution_count": null,
   "metadata": {
    "slideshow": {
     "slide_type": "subslide"
    }
   },
   "outputs": [],
   "source": [
    "relações_de_Euler()"
   ]
  },
  {
   "cell_type": "markdown",
   "metadata": {
    "slideshow": {
     "slide_type": "slide"
    }
   },
   "source": [
    "### Frequência angular e período\n",
    "\n",
    "- $\\omega$ (em rad/seg) corresponde ao ângulo em radianos percorrido no intervalo $t\\in[0,1]$\n",
    "\n",
    "- o período $\\lambda$ é o menor valor positivo tal que\n",
    "\n",
    "$$e^{i\\omega(t+\\lambda)}=e^{i\\omega t}\\ \\forall t\\in\\mathbb{R}$$\n",
    "\n",
    "$$\\lambda|\\omega|=2\\pi \\implies \\lambda = \\frac{2\\pi}{|\\omega|}$$"
   ]
  },
  {
   "cell_type": "markdown",
   "metadata": {
    "slideshow": {
     "slide_type": "slide"
    }
   },
   "source": [
    "### Exemplo 1.10\n",
    "\n",
    "Equivalência entre senos e cossenos e exponenciais complexas\n",
    "\n",
    "Define duas funções equivalentes:\n",
    "\n",
    "$$x_1(t) = \\sin(t)+3\\sin(-2t)-2\\cos(-5t)$$\n",
    "\n",
    "$$x_2(t) = \\frac{e^{it}-e^{-it}}{2i}+\n",
    "           \\frac{-3e^{i2t}+3e^{-i2t}}{2i}-\n",
    "           e^{i5t}+e^{-i5t}$$"
   ]
  },
  {
   "cell_type": "code",
   "execution_count": null,
   "metadata": {
    "slideshow": {
     "slide_type": "subslide"
    }
   },
   "outputs": [],
   "source": [
    "rate = 200\n",
    "t = np.arange(0, 2 * m.pi, 1 / rate)\n",
    "x1 = np.sin(t) + 3 * np.sin(-2 * t) - 2 * np.cos(-5 * t)\n",
    "x2 = (m.e ** (1j * t) - m.e ** (-1j * t)) / (2 * 1j) + \\\n",
    "     (-3 * m.e ** (2 * 1j * t) + 3 * m.e ** (-2 * 1j * t)) / (2 * 1j) - \\\n",
    "     (m.e ** (5 * 1j * t) + m.e ** (-5 * 1j * t))\n",
    "\n",
    "f, ax = plt.subplots(1, 3, figsize=(15, 4))\n",
    "x = [x1, x2.real, x2.imag]\n",
    "for i in range(3):\n",
    "    ax[i].plot(t,x[i])\n",
    "    ax[i].set_title([r\"$x_1$(sinal real)\",r\"$Re(x_2)$\",r\"$Im(x_2)$\"][i])\n",
    "plt.show()"
   ]
  },
  {
   "cell_type": "markdown",
   "metadata": {
    "slideshow": {
     "slide_type": "slide"
    }
   },
   "source": [
    "### Figura 1.6: visualizações de uma exponencial complexa\n",
    "\n",
    "Definem-se duas exponenciais complexas com frequências 0.25 Hz e 1 Hz:\n",
    "\n",
    "$$f(t) = e^{i2\\pi\\frac{1}{4}t}$$\n",
    "\n",
    "$$g(t) = e^{i2\\pi t}$$"
   ]
  },
  {
   "cell_type": "code",
   "execution_count": null,
   "metadata": {
    "slideshow": {
     "slide_type": "subslide"
    }
   },
   "outputs": [],
   "source": [
    "dur = 4\n",
    "rate = 200\n",
    "t = np.arange(0, dur, 1/rate)\n",
    "f = [m.e ** (2 * m.pi * 0.25 * 1j * t), m.e ** (2 * m.pi * 1j * t)]\n",
    "\n",
    "fig, ax = plt.subplots(1, 2, figsize=(15, 4))\n",
    "for i in range(2):\n",
    "    ax[i].plot(t, f[i].real, label='real')\n",
    "    ax[i].plot(t, f[i].imag, label='imaginário')\n",
    "    ax[i].set_title([r\"$f(t)$\", r\"$g(t)$\"][i])\n",
    "ax[1].legend(loc='upper left', bbox_to_anchor=(1, 1))\n",
    "plt.show()"
   ]
  },
  {
   "cell_type": "markdown",
   "metadata": {
    "slideshow": {
     "slide_type": "subslide"
    }
   },
   "source": [
    "__Alternativa:__ plota os mesmos gráficos como funções de $\\mathbb{R}$ em $\\mathbb{C}$"
   ]
  },
  {
   "cell_type": "code",
   "execution_count": null,
   "metadata": {
    "slideshow": {
     "slide_type": "fragment"
    }
   },
   "outputs": [],
   "source": [
    "fig = plt.figure(figsize=(15, 5))\n",
    "ax = fig.add_subplot(1, 2, 1, projection='3d')\n",
    "s = ax.plot3D(t,f[0].real,f[0].imag)\n",
    "ax.set_title(\"f(t)\"),ax.set_xlabel('t'),ax.set_ylabel('real(f)'),ax.set_zlabel('imag(f)')\n",
    "ax = fig.add_subplot(1, 2, 2, projection='3d')\n",
    "s2 = ax.plot3D(t,f[1].real,f[1].imag)\n",
    "ax.set_title(\"g(t)\"),ax.set_xlabel('t'),ax.set_ylabel('real(g)'),ax.set_zlabel('imag(g)')\n",
    "fig.tight_layout()\n",
    "plt.show()"
   ]
  },
  {
   "cell_type": "markdown",
   "metadata": {
    "slideshow": {
     "slide_type": "subslide"
    }
   },
   "source": [
    "__Alternativa:__ animação em $\\mathbb{C}$ em função do tempo"
   ]
  },
  {
   "cell_type": "code",
   "execution_count": null,
   "metadata": {
    "slideshow": {
     "slide_type": "skip"
    }
   },
   "outputs": [],
   "source": [
    "%%capture\n",
    "fig = plt.figure();\n",
    "\n",
    "ax = plt.axes(xlim=(-1.1, 1.1), ylim=(-1.1, 1.1))\n",
    "ax.set_xlabel('real')\n",
    "ax.set_ylabel('imag')\n",
    "ax.set_aspect('equal');\n",
    "linef, = ax.plot([], [], 'o-', lw=2)\n",
    "lineg, = ax.plot([], [], 'o-', color='red', lw=2)\n",
    "plt.legend(['$e^{i2\\pi 0.5t}$', '$e^{i2\\pi t}$'], loc='upper left', bbox_to_anchor=(1, 1))\n",
    "\n",
    "# initialização: plota o fundo de cada quadro\n",
    "def init():\n",
    "    linef.set_data([], [])\n",
    "    lineg.set_data([], [])\n",
    "    return linef, lineg\n",
    "\n",
    "# função de animação, chamada sequencialmente (i=índice do quadro)\n",
    "def update(i):\n",
    "    z = [ f[j][int(i*rate/fps)] for j in range(2) ]\n",
    "    x = np.real(z)\n",
    "    y = np.imag(z)\n",
    "    linef.set_data([x[0],0], [y[0],0])\n",
    "    lineg.set_data([x[1],0], [y[1],0])\n",
    "    return linef, lineg\n",
    "\n",
    "# call the animator.  blit=True means only re-draw the parts that have changed.\n",
    "fps = 20\n",
    "imf = anim.FuncAnimation(fig, update, init_func=init,\n",
    "                              frames= dur*fps, interval=1000.0/fps, blit=True);"
   ]
  },
  {
   "cell_type": "code",
   "execution_count": null,
   "metadata": {
    "scrolled": true,
    "slideshow": {
     "slide_type": "fragment"
    }
   },
   "outputs": [],
   "source": [
    "HTML(imf.to_jshtml())\n"
   ]
  },
  {
   "cell_type": "markdown",
   "metadata": {
    "slideshow": {
     "slide_type": "slide"
    }
   },
   "source": [
    "### Novo exemplo: 3 componentes senoidais complexas e sua soma\n",
    "\n",
    "$$e_1(t)=e^{i2\\pi 0.2t}$$\n",
    "\n",
    "$$e_2(t)=\\frac{1}{2}e^{-i2\\pi t}$$\n",
    "\n",
    "$$e_3(t)=\\frac{1}{4}e^{i2\\pi 3.8t}$$\n",
    "\n",
    "$$e_4(t)=\\sum_{i=1}^3 e_i(t)$$\n"
   ]
  },
  {
   "cell_type": "code",
   "execution_count": null,
   "metadata": {
    "slideshow": {
     "slide_type": "skip"
    }
   },
   "outputs": [],
   "source": [
    "rate = 200\n",
    "dur = 10\n",
    "t = np.arange(0,dur,1/rate)\n",
    "e = [m.e**(1j*2*np.pi*0.2*t),\n",
    "     0.5*m.e**(1j*2*np.pi*(-1)*t),\n",
    "     0.25*m.e**(1j*2*np.pi*3.8*t),\n",
    "     m.e**(1j*2*np.pi*0.2*t)+0.5*m.e**(1j*2*np.pi*(-1)*t)+0.25*m.e**(1j*2*np.pi*3.8*t)]\n",
    "l = [\"$e_1(t)=e^{i2\\pi 0.2t}$\",\n",
    "     \"$e_2(t)=0.5e^{-i2\\pi t}$\",\n",
    "     \"$e_3(t)=0.25e^{i2\\pi 3.8t}$\",\n",
    "     \"$e_4(t)=\\sum e_i(t)$\"]"
   ]
  },
  {
   "cell_type": "code",
   "execution_count": null,
   "metadata": {
    "slideshow": {
     "slide_type": "subslide"
    }
   },
   "outputs": [],
   "source": [
    "%matplotlib inline\n",
    "f, ax = plt.subplots(1,4,figsize=(15,4))\n",
    "for i in range(4):\n",
    "    ax[i].plot(t,e[i].real,t,e[i].imag)\n",
    "    ax[i].set_ylim([-1.5,1.5])\n",
    "    ax[i].set_title(l[i])\n",
    "plt.show()"
   ]
  },
  {
   "cell_type": "code",
   "execution_count": null,
   "metadata": {
    "scrolled": true,
    "slideshow": {
     "slide_type": "subslide"
    }
   },
   "outputs": [],
   "source": [
    "fig = plt.figure(figsize=(16, 4))\n",
    "for i in range(4):\n",
    "    ax = fig.add_subplot(1,4,i+1,projection='3d')\n",
    "    s = ax.plot3D(t,e[i].real,e[i].imag)\n",
    "    ax.set_title(l[i]),ax.set_xlabel('t'),ax.set_ylabel('$real(e_'+str(i+1)+')$'),ax.set_ylim3d([-1.5,1.5]),ax.set_zlabel('$imag(e_'+str(i+1)+')$'),ax.set_zlim3d([-1.5,1.5])\n",
    "fig.tight_layout()\n",
    "plt.show()"
   ]
  },
  {
   "cell_type": "markdown",
   "metadata": {
    "slideshow": {
     "slide_type": "subslide"
    }
   },
   "source": [
    "__Alternativa:__ animação em $\\mathbb{C}$ em função do tempo"
   ]
  },
  {
   "cell_type": "code",
   "execution_count": null,
   "metadata": {
    "slideshow": {
     "slide_type": "skip"
    }
   },
   "outputs": [],
   "source": [
    "%%capture\n",
    "fig = plt.figure()\n",
    "ax = plt.axes(xlim=(-2, 2), ylim=(-2, 2))\n",
    "ax.set_aspect('equal')\n",
    "line = [[]]*4\n",
    "for j in range(4):\n",
    "    line[j], = ax.plot([], [], 'o-', lw=2)\n",
    "# initialização: plota o fundo de cada quadro\n",
    "def init():\n",
    "    for j in range(4):\n",
    "        line[j].set_data([], [])\n",
    "    return line\n",
    "# função de animação, chamada sequencialmente (i=índice do quadro)\n",
    "def animate(i):\n",
    "    z = [ e[j][int(i*rate/fps)] for j in range(4) ]\n",
    "    x = np.real(z)\n",
    "    y = np.imag(z)\n",
    "    for j in range(4):\n",
    "        line[j].set_data([x[j],0], [y[j],0])\n",
    "    return line\n",
    "        \n",
    "        \n",
    "# call the animator.  blit=True means only re-draw the parts that have changed.\n",
    "fps = 20\n",
    "imf = anim.FuncAnimation(fig, animate, init_func=init,\n",
    "                               frames=dur*fps, interval=1000.0/fps, blit=True)\n",
    "plt.legend(['$e_1(t)$', '$e_2(t)$', '$e_3(t)$', '$e_4(t)$'], loc='upper left', bbox_to_anchor=(1, 1))\n",
    "# se quiser salvar em arquivo:\n",
    "#imf.save('anim_4exp.mp4', fps=20, extra_args=['-vcodec', 'libx264'])"
   ]
  },
  {
   "cell_type": "code",
   "execution_count": null,
   "metadata": {
    "slideshow": {
     "slide_type": "fragment"
    }
   },
   "outputs": [],
   "source": [
    "HTML(imf.to_jshtml())"
   ]
  },
  {
   "cell_type": "markdown",
   "metadata": {
    "slideshow": {
     "slide_type": "slide"
    }
   },
   "source": [
    "## Funções básicas exponenciais de duas variáveis\n",
    "\n",
    "$$e^{i(\\alpha x+\\beta y)} = \\cos(\\alpha x+\\beta y)+i\\sin(\\alpha x+\\beta y)$$\n",
    "\n",
    "Mas também vale que\n",
    "\n",
    "$$e^{i(\\alpha x+\\beta y)} = e^{i\\alpha x}e^{i\\beta y}$$\n",
    "\n",
    "Logo\n",
    "\n",
    "$$\\begin{array}{rl}\n",
    "e^{i(\\alpha x+\\beta y)} = &\\cos(\\alpha x)\\cos(\\beta y)-\\sin(\\alpha x)\\sin(\\beta y)\\\\\n",
    "&+i(\\cos(\\alpha x)\\sin(\\beta y)+\\sin(\\alpha x)\\cos(\\beta y))\n",
    "\\end{array}$$\n",
    "\n",
    "(Observem como as identidades trigonométricas com somas de ângulos saem trivialmente!)"
   ]
  },
  {
   "cell_type": "markdown",
   "metadata": {
    "slideshow": {
     "slide_type": "slide"
    }
   },
   "source": [
    "## Figura 1.7: Exemplos de exponenciais complexas em 2D\n",
    "\n",
    "$$e^{i(\\alpha x+\\beta y)} = e^{i2\\pi(px+qy)}$$"
   ]
  },
  {
   "cell_type": "code",
   "execution_count": null,
   "metadata": {
    "slideshow": {
     "slide_type": "skip"
    }
   },
   "outputs": [],
   "source": [
    "# Define todos os pares (p,q) ilustrados na figura 1.7\n",
    "PQ = [(10, 0), (0, 10), (30, 8), (5, 10)]\n",
    "# Define domínios espaciais (horizontal e vertical)\n",
    "# usando as frequências p e q (em Hz)\n",
    "density = 200\n",
    "x = np.arange(0,1,1/density)\n",
    "y = np.arange(1,0,-1/density)\n",
    "x, y = np.meshgrid(x,y)"
   ]
  },
  {
   "cell_type": "code",
   "execution_count": null,
   "metadata": {
    "slideshow": {
     "slide_type": "fragment"
    }
   },
   "outputs": [],
   "source": [
    "# Percorre os 4 cenários\n",
    "%matplotlib inline\n",
    "f, ax = plt.subplots(1,4,figsize=(15,4))\n",
    "for j in range(4):\n",
    "    p,q=PQ[j]\n",
    "    # Define a exponencial complexa no plano xy\n",
    "    f = m.e**(2*m.pi*1j*q*y)*m.e**(2*m.pi*1j*p*x)\n",
    "    ax[j].imshow(0.5*(f.real+1), cmap='gray')\n",
    "    ax[j].set_title(\"p={0}, q={1}\".format(p,q))\n",
    "plt.show()"
   ]
  }
 ],
 "metadata": {
  "celltoolbar": "Slideshow",
  "kernelspec": {
   "display_name": "Python 3",
   "language": "python",
   "name": "python3"
  },
  "language_info": {
   "codemirror_mode": {
    "name": "ipython",
    "version": 3
   },
   "file_extension": ".py",
   "mimetype": "text/x-python",
   "name": "python",
   "nbconvert_exporter": "python",
   "pygments_lexer": "ipython3",
   "version": "3.7.11"
  }
 },
 "nbformat": 4,
 "nbformat_minor": 2
}
