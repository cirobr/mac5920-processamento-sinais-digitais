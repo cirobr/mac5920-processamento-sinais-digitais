{
 "cells": [
  {
   "cell_type": "markdown",
   "metadata": {
    "slideshow": {
     "slide_type": "slide"
    }
   },
   "source": [
    "# MAC0317/MAC5920\n",
    "## Introdução ao Processamento de Sinais Digitais\n",
    "### Seção 4.4: Convolução 2D - Filtrando imagens"
   ]
  },
  {
   "cell_type": "code",
   "execution_count": null,
   "metadata": {
    "slideshow": {
     "slide_type": "skip"
    }
   },
   "outputs": [],
   "source": [
    "import math as m\n",
    "import time\n",
    "import numpy as np\n",
    "import scipy.signal as sig\n",
    "from imageio import imread\n",
    "import matplotlib.pyplot as plt\n",
    "from mpl_toolkits.mplot3d import Axes3D\n",
    "from urllib.request import urlopen"
   ]
  },
  {
   "cell_type": "markdown",
   "metadata": {
    "slideshow": {
     "slide_type": "slide"
    }
   },
   "source": [
    "### Revisão: Convolução 1D\n",
    "\n",
    "Vimos que a *filtragem por convolução* corresponde a computar um sinal $y$ a partir de um sinal $x$ através da equação de convolução $y=h*x$, ou seja,\n",
    "$$y_n = \\sum_{m}h_mx_{n-m}.$$\n",
    "\n",
    "Na equação acima, onde os limites do somatório foram propositalmente omitidos, podemos ver que cada amostra $y_n$ é produzida como uma *combinação linear* de amostras de $x$ de forma *invariante no tempo*, ou seja, os coeficientes $h_0,h_1,h_2,\\ldots$ da combinação linear são aplicados respectivamente às amostras da entrada $x_n,x_{n-1},x_{n-2},\\ldots$, de forma fixa em uma relação às posições relativas do sinal no tempo; se $n$ representa o \"tempo atual\", então:\n",
    "$$\\begin{array}{ll}\n",
    "h_0&\\mbox{multiplica a amostra atual}\\\\\n",
    "h_1&\\mbox{multiplica a última amostra}\\\\\n",
    "h_2&\\mbox{multiplica a penúltima amostra}\\\\\n",
    "\\vdots&\\vdots\n",
    "\\end{array}$$"
   ]
  },
  {
   "cell_type": "markdown",
   "metadata": {
    "slideshow": {
     "slide_type": "subslide"
    }
   },
   "source": [
    "Não é difícil provar a partir da equação do filtro por convolução que o mapa $x\\mapsto \\mathcal{H}(x)=h*x$ é\n",
    "\n",
    "1. **linear:**\n",
    "\n",
    "$$\\mathcal{H}(\\alpha x+\\beta w) = \\alpha\\mathcal{H}(x)+\\beta\\mathcal{H}(w)$$\n",
    "\n",
    "2. **invariante no tempo:**\n",
    "\n",
    "$$\\begin{array}{l}\n",
    "\\mbox{se}\\ y=\\mathcal{H}(x)\\ \\mbox{e}\\ w_n=x_{n-\\Delta},\\ \\forall n,\\\\\n",
    "\\mbox{então}\\ z=\\mathcal{H}(w)\\ \\mbox{satisfaz}\\ z_n=y_{n-\\Delta},\\ \\forall n.\\end{array}$$\n",
    "\n",
    "Aqui, como em todo o resto desse capítulo, os índices devem ser interpretados \"mod N\"."
   ]
  },
  {
   "cell_type": "markdown",
   "metadata": {
    "slideshow": {
     "slide_type": "slide"
    }
   },
   "source": [
    "### Convolução 2D\n",
    "\n",
    "Dada uma imagem $x$ queremos calcular a imagem $y$ onde $y_{i,j}$ é uma combinação linear dos pixels de $x$ definida em relação à coordenada $(i,j)$.\n",
    "\n",
    "**Definição 4.4.1:** A convolução de duas imagens $x, h\\in \\mathcal{M}_{M,N}(\\mathbb{C})$ é a imagem $y=h*x\\in\\mathcal{M}_{M,N}(\\mathbb{C})$ dada por \n",
    "\n",
    "\\begin{align*}\n",
    "\ty_{i,j} &= \\sum\\limits_{r=0}^{M-1}\\sum\\limits_{s=0}^{N-1}h_{r,s}x_{i-r,j-s} \\\\\n",
    "\t&= \\sum\\limits_{r=0}^{M-1}\\sum\\limits_{s=0}^{N-1}x_{r,s}h_{i-r,j-s} \\\\\n",
    "\\end{align*}"
   ]
  },
  {
   "cell_type": "markdown",
   "metadata": {
    "slideshow": {
     "slide_type": "slide"
    }
   },
   "source": [
    "**Obs:** considera-se aqui a extensão periódica de todas as imagens, ou seja, $w_{i,j} = w_{i\\ \\mbox{mod}\\ M, j\\ \\mbox{mod}\\ N}\\ \\ $. Pela periodicidade de $x$ e $h$, podemos sempre re-escrever os somatórios de várias maneiras, por exemplo, $\\forall a, b\\in\\mathbb{Z}$:\n",
    "\n",
    "\\begin{equation*}\n",
    "\t\\sum\\limits_{r=0}^{M-1}\\sum\\limits_{s=0}^{N-1} x_{r,s}h_{i-r,j-s} = \\sum\\limits_{r=a}^{a+M-1}\\ \\ \\sum\\limits_{s=b}^{b+N-1} x_{r,s}h_{i-r,j-s} = \\sum\\limits_{r=0}^{M-1}\\sum\\limits_{s=0}^{N-1} x_{r-a,s-b}\\ \\ h_{i-r+a,j-s+b}.\n",
    "\\end{equation*}"
   ]
  },
  {
   "cell_type": "markdown",
   "metadata": {
    "slideshow": {
     "slide_type": "subslide"
    }
   },
   "source": [
    "### Propriedades da convolução 2D\n",
    "\n",
    "1. Linearidade\n",
    "\n",
    "\\begin{equation*}\n",
    "\t\tx*(\\alpha y + \\beta z) = \\alpha x*y + \\beta x*z\n",
    "\\end{equation*}\n",
    "\n",
    "2. Comutatividade\n",
    "\n",
    "\\begin{equation*}\n",
    "\t\tx*y = y*x\n",
    "\\end{equation*}"
   ]
  },
  {
   "cell_type": "markdown",
   "metadata": {
    "slideshow": {
     "slide_type": "subslide"
    }
   },
   "source": [
    "3. Associatividade\n",
    "\n",
    "\\begin{equation*}\n",
    "\t\tx*(y*z) = (x*y)*z\n",
    "\\end{equation*}\n",
    "\n",
    "4. Representação Matricial (Exercício 4.24):\n",
    "\n",
    "\\begin{equation*}\\mbox{Se}\\ h\\in\\mathcal{M}_{M,N}(\\mathbb{C})\\ \\mbox{é da forma}\\ h = lc^T\\\\\n",
    "    \\mbox{com}\\ l\\in\\mathbb{C}^M\\ \\mbox{e}\\ c\\in\\mathbb{C}^N,\\ \\mbox{então}\\ x*h = M_l x M_c^T.\n",
    "\\end{equation*}\n",
    "\n",
    "**Obs:** As provas são análogas ao caso unidimensional, usando duplo somatório."
   ]
  },
  {
   "cell_type": "markdown",
   "metadata": {
    "slideshow": {
     "slide_type": "slide"
    }
   },
   "source": [
    "### Teorema da convolução 2D\n",
    "\n",
    "**Teorema 4.4.1:** Se $x, h, y\\in\\mathcal{M}_{M,N}(\\mathbb{C})$ e $y=x*h$, então\n",
    "\n",
    "\\begin{equation*}\n",
    "\tY_{k,l} = X_{k,l}H_{k,l},\\quad \\forall k=0, 1, \\dots, M-1,\\quad \\forall l = 0, 1, \\dots, N-1\n",
    "\\end{equation*}\n",
    "\n",
    "onde $X, H, Y\\in\\mathcal{M}_{M,N}(\\mathbb{C})$ são as DFT's de $x, h$ e $y$ respectivamente."
   ]
  },
  {
   "cell_type": "markdown",
   "metadata": {
    "slideshow": {
     "slide_type": "subslide"
    }
   },
   "source": [
    "### Ação do filtro 2D\n",
    "\n",
    "Considere um filtro arbitrário definido por uma matriz $h\\in\\mathcal{M}_{M,N}(\\mathbb{C})$ com saída $y=x*h\\in\\mathcal{M}_{M,N}(\\mathbb{C})$:\n",
    "\n",
    "**Domínio espacial:**\n",
    "$$x\\longrightarrow\\begin{array}{|c|}\\hline h\\\\ \\hline\\end{array}\\longrightarrow y=x*h$$\n",
    "\n",
    "$$$$\n",
    "\n",
    "**Domínio da Frequência:**\n",
    "\n",
    "$$X\\longrightarrow\\begin{array}{|c|}\\hline H\\\\ \\hline\\end{array}\\longrightarrow Y=X\\circ H$$\n",
    "\n",
    "**Em outras palavras**, a operação de convolução de matrizes no domínio do espaço equivale ao produto de Hadamard das correspondentes DFTs."
   ]
  },
  {
   "cell_type": "markdown",
   "metadata": {
    "slideshow": {
     "slide_type": "slide"
    }
   },
   "source": [
    "### Efeito de um filtro de convolução em uma exponencial complexa\n",
    "\n",
    "Considere um filtro $h$ aplicado em uma forma de onda básica $x=E_{k,l}$. Por construção,\n",
    "\n",
    "$$X_{k,l} = \\left(x,E_{k,l}\\right) = MN\\quad\\quad\\mbox{e}\\quad\\quad X_{r,s}=0,\\ \\forall(r,s)\\neq(k,l).$$\n",
    "\n",
    "Pelo teorema da convolução, $y=x*h$ satisfaz\n",
    "$$Y_{r,s} = H_{r,s}X_{r,s};$$\n",
    "\n",
    "logo\n",
    "\n",
    "$$Y_{k,l} = MNH_{k,l}\\quad\\quad\\mbox{e}\\quad\\quad Y_{r,s}=0,\\ \\forall(r,s)\\neq(k,l).$$"
   ]
  },
  {
   "cell_type": "markdown",
   "metadata": {
    "slideshow": {
     "slide_type": "subslide"
    }
   },
   "source": [
    "Pela equação de síntese de $y$,\n",
    "\n",
    "\\begin{align*}\n",
    "\ty &= \\frac{1}{MN}\\sum\\limits_{r=0}^{M-1}\\sum\\limits_{s=0}^{N-1} Y_{r,s}E_{r,s} \\\\\n",
    "\t&= \\frac{1}{MN}Y_{k,l}E_{k,l} \\\\\n",
    "\t&= \\frac{1}{MN}(MNH_{k,l})E_{k,l} \\\\\n",
    "    &= H_{k,l}E_{k,l}\\\\\n",
    "\t&= H_{k,l}x\n",
    "\\end{align*}\n",
    "\n",
    "**Em outras palavras**, se a entrada do filtro é uma forma básica de onda de frequência $(k,l)$, a saída é a mesma forma básica de onda multiplicada pelo escalar $H_{k,l}$."
   ]
  },
  {
   "cell_type": "markdown",
   "metadata": {
    "slideshow": {
     "slide_type": "subslide"
    }
   },
   "source": [
    "Se denotamos a convolução $x*h$ como um operador linear\n",
    "\n",
    "\\begin{equation*}\n",
    "\t\\varphi_h: \\mathcal{M}_{M,N}(\\mathbb{C})\\rightarrow\\mathcal{M}_{M,N}(\\mathbb{C})\n",
    "\\end{equation*}\n",
    "\n",
    "definido como $\\varphi_h(x) = x*h$, então a propriedade anterior pode ser expressa como\n",
    "\n",
    "$$\\varphi_h(E_{k,l}) = H_{k,l}E_{k,l},\\ \\forall k,l,$$\n",
    "\n",
    "de onde podemos dizer que\n",
    "\n",
    "\\begin{equation*}\n",
    "\tE_{k,l}\\in\\mathcal{M}_{M,N}(\\mathbb{C})\n",
    "\\end{equation*}\n",
    "\n",
    "são **autovetores** de $\\varphi_h, \\forall k, l$, com respectivos **autovalores** dados por $H_{k,l}$."
   ]
  },
  {
   "cell_type": "markdown",
   "metadata": {
    "slideshow": {
     "slide_type": "slide"
    }
   },
   "source": [
    "### Seção 4.4.2: Aplicações da convolução 2D e filtragem\n",
    "\n",
    "**Exemplo:** filtro da média 2D com 9 \"taps\"\n",
    "\n",
    "\\begin{align*}\n",
    "\ty_{i,j} &= \\frac{1}{9}\\left(x_{i-1,j-1} + x_{i-1,j} + x_{i-1,j+1} + x_{i,j-1} + x_{i,j} + x_{i,j+1} + x_{i+1,j-1} + x_{i+1,j} + x_{i+1,j+1}\\right)\n",
    "\\end{align*}\n",
    "\n",
    "ou equivalentemente\n",
    "\n",
    "\\begin{equation*}\n",
    "\ty = x*h\n",
    "\\end{equation*}\n",
    "\n",
    "onde $$\\begin{pmatrix}\n",
    "    h_{-1,-1}&h_{-1,0}&h_{-1,1}\\\\\n",
    "    h_{0,-1}&h_{0,0}&h_{0,1}\\\\\n",
    "    h_{1,-1}&h_{1,0}&h_{1,1}\\\\\n",
    "    \\end{pmatrix} = \n",
    "    \\begin{pmatrix}\n",
    "    \\frac{1}{9}&\\frac{1}{9}&\\frac{1}{9}\\\\\n",
    "    \\frac{1}{9}&\\frac{1}{9}&\\frac{1}{9}\\\\\n",
    "    \\frac{1}{9}&\\frac{1}{9}&\\frac{1}{9}\\\\\n",
    "    \\end{pmatrix}\\quad\\quad\\mbox{e}\\quad\\quad h_{r,s}=0,\\ \\forall r,s\\neq -1,0,1.$$"
   ]
  },
  {
   "cell_type": "markdown",
   "metadata": {
    "slideshow": {
     "slide_type": "subslide"
    }
   },
   "source": [
    "A DFT de $h$ é\n",
    "\n",
    "\\begin{array}{lll}\n",
    "\tH_{k,l} &= &\\sum\\limits_{r=0}^{M-1}\\sum\\limits_{s=0}^{N-1}h_{r,s}e^{-i2\\pi(kr/M + ls/N)} \\\\\n",
    "\t&= &\\frac{1}{9}\\left(e^{-i2\\pi(-k/M - l/N)} + e^{-i2\\pi(-k/M)} + e^{-i2\\pi(-k/M + l/N)}\\right. \\\\\n",
    "\t&&+ e^{-i2\\pi(-l/N)} + 1 + e^{-i2\\pi(l/N)} \\\\\n",
    "\t&&\\left.+ e^{-i2\\pi(k/M - l/N)} + e^{-i2\\pi k/M} + e^{-i2\\pi(k/M + l/N)}\\right)\n",
    "\\end{array}"
   ]
  },
  {
   "cell_type": "code",
   "execution_count": null,
   "metadata": {
    "slideshow": {
     "slide_type": "skip"
    }
   },
   "outputs": [],
   "source": [
    "M = N = 100\n",
    "h = np.zeros((M,N))\n",
    "# Cria um bloco 3x3 centralizado em (0,0) \n",
    "for j in range(-1,2):\n",
    "    for k in range(-1,2):\n",
    "        h[j%M,k%N] = 1/9\n",
    "# Duas visualizações alternativas para a DFT.\n",
    "H = np.fft.fft2(h)\n",
    "x = np.arange(-M//2+1,M//2+1)\n",
    "y = np.arange(N//2,-N//2,-1)\n",
    "x, y = np.meshgrid(x,y)\n",
    "f = np.abs(np.fft.fftshift(H))"
   ]
  },
  {
   "cell_type": "code",
   "execution_count": null,
   "metadata": {
    "slideshow": {
     "slide_type": "subslide"
    }
   },
   "outputs": [],
   "source": [
    "# Imagem 3D\n",
    "fig = plt.figure(figsize=(20,10));ax = fig.add_subplot(1, 2, 1, projection='3d')\n",
    "s = ax.plot_surface(x,y,f,cmap='binary_r');ax.set_title(\"Gráfico de superfície\");fig.colorbar(s, shrink=1.0, aspect=10)\n",
    "# Imagem 2D\n",
    "ax = fig.add_subplot(1, 2, 2);ax.imshow(abs(np.fft.fftshift(H)),cmap='binary_r');ax.set_title(\"Visão em planta\")\n",
    "fig.suptitle(\"Figura 4.6: Magnitude da resposta em frequência da máscara de suavização de 9 pontos\")\n",
    "plt.show()"
   ]
  },
  {
   "cell_type": "markdown",
   "metadata": {
    "slideshow": {
     "slide_type": "slide"
    }
   },
   "source": [
    "## Figuras 4.7 e 4.8: Uma imagem \"original\", uma versão ruidosa, e duas versões filtradas"
   ]
  },
  {
   "cell_type": "code",
   "execution_count": null,
   "metadata": {
    "slideshow": {
     "slide_type": "skip"
    }
   },
   "outputs": [],
   "source": [
    "# função auxiliar\n",
    "def rgb2gray(rgb):\n",
    "    fil = [0.299, 0.587, 0.144]\n",
    "    return np.dot(rgb, fil)"
   ]
  },
  {
   "cell_type": "code",
   "execution_count": null,
   "metadata": {
    "slideshow": {
     "slide_type": "fragment"
    }
   },
   "outputs": [],
   "source": [
    "# Carrega a imagem da internet e converte para nível de cinza\n",
    "url = \"http://sutherncharm.files.wordpress.com/2009/09/double-ferris.jpg\"\n",
    "M = rgb2gray(imread(urlopen(url).read()));S=M.shape\n",
    "fig, ax = plt.subplots(1, 2, figsize=(20,10));ax[0].imshow(M, cmap='gray');\n",
    "ax[0].set_title(\"Imagem original\");ax[0].axis(\"off\");\n",
    "Mnoisy = M + 20*(np.random.rand(*S)-0.5);ax[1].imshow(Mnoisy, cmap='gray');\n",
    "ax[1].set_title(\"Imagem ruidosa\");ax[1].axis(\"off\");plt.show()"
   ]
  },
  {
   "cell_type": "markdown",
   "metadata": {
    "slideshow": {
     "slide_type": "subslide"
    }
   },
   "source": [
    "### Aplicação da filtragem usando média de 9 pontos na imagem ruidosa\n",
    "\n",
    "Os códigos a seguir pretendem ilustrar:\n",
    "\n",
    "- a aplicação do filtro da média de 9 pontos na imagem ruidosa, para evidenciar seu efeito de redução de ruído;\n",
    "\n",
    "- a aplicação repetida (10x) do mesmo filtro da média, para evidenciar seu efeito de suavização.\n",
    "\n",
    "Essas aplicações são realizadas tanto no domínio original/espacial quanto no domínio da frequência, utilizando o teorema da convolução:\n",
    "\n",
    "$$y=h*x \\iff y = \\mbox{IDFT}\\left(\\mbox{DFT}(h)\\circ\\mbox{DFT}(x)\\right).$$"
   ]
  },
  {
   "cell_type": "markdown",
   "metadata": {
    "slideshow": {
     "slide_type": "subslide"
    }
   },
   "source": [
    "Essas implementações produzem os mesmos resultados, porém com custos computacionais diferentes:\n",
    "\n",
    "- a aplicação do filtro no domínio do tempo se beneficia do fato da equação de convolução ter apenas 9 \"taps\", o que o torna muito mais eficiente do que a aplicação correspondente do filtro no domínio da frequência;\n",
    "\n",
    "- o tempo da aplicação iterada no domínio do tempo cresce linearmente com o número de iterações, porém no domínio da frequência tal iteração pode ser abreviada pelo acúmulo (exponenciação) dos coeficientes do filtro, de acordo com:\n",
    "\n",
    "$$Y_{k,l} = \\overbrace{H_{k,l}\\cdot H_{k,l}\\cdots H_{k,l}}^{L\\ \\mbox{vezes}}\\cdot X_{k,l} = (H_{k,l})^L\\cdot X_{k,l}.$$"
   ]
  },
  {
   "cell_type": "code",
   "execution_count": null,
   "metadata": {
    "slideshow": {
     "slide_type": "subslide"
    }
   },
   "outputs": [],
   "source": [
    "# versão 1: calculando as convoluções no domínio do tempo\n",
    "# Define uma máscara 3x3 contendo apenas os \"taps\" (coeficientes não-nulos) do filtro\n",
    "d = np.zeros((3,3))\n",
    "for j in range(-1,2):\n",
    "    for k in range(-1,2):\n",
    "        d[j,k] = 1/9\n",
    "# O código abaixo faz a filtragem no domínio do tempo.\n",
    "antes = time.perf_counter()\n",
    "Mdenoised = sig.convolve2d(Mnoisy,d,mode='same', boundary='wrap')\n",
    "depois = time.perf_counter()\n",
    "print(\"Tempo da filtragem espacial =\",depois-antes,\"segundos\")\n",
    "# Passa a imagem ruidosa 10 vezes no mesmo filtro.\n",
    "Mdenoised10 = Mnoisy.copy()\n",
    "antes = time.perf_counter()\n",
    "for i in range(10):\n",
    "    Mdenoised10 = sig.convolve2d(Mdenoised10,d,mode='same', boundary='wrap')\n",
    "depois = time.perf_counter()\n",
    "print(\"Tempo de 10 filtragens espaciais =\",depois-antes,\"segundos\")"
   ]
  },
  {
   "cell_type": "code",
   "execution_count": null,
   "metadata": {
    "slideshow": {
     "slide_type": "subslide"
    }
   },
   "outputs": [],
   "source": [
    "fig , ax = plt.subplots(1, 3, figsize=(20,12))\n",
    "ax[0].imshow(Mnoisy, cmap='gray');ax[0].set_title(\"Imagem ruidosa\");ax[0].axis(\"off\")\n",
    "ax[1].imshow(Mdenoised, cmap='gray');ax[1].set_title(\"Imagem com filtragem espacial\");ax[1].axis(\"off\")\n",
    "ax[2].imshow(Mdenoised10, cmap='gray');ax[2].set_title(\"Imagem com 10 filtragens espaciais\");ax[2].axis(\"off\")\n",
    "plt.show()"
   ]
  },
  {
   "cell_type": "code",
   "execution_count": null,
   "metadata": {
    "slideshow": {
     "slide_type": "subslide"
    }
   },
   "outputs": [],
   "source": [
    "# versão 2: calculando as convoluções no domínio da frequência\n",
    "# Define a resposta impulsiva do filtro\n",
    "h = np.zeros(S)\n",
    "for j in range(-1,2):\n",
    "    for k in range(-1,2):\n",
    "        h[j%S[0],k%S[1]] = 1/9\n",
    "# O código abaixo faz a filtragem no domínio da frequência.\n",
    "antes = time.perf_counter()\n",
    "Mdenoised = np.real(np.fft.ifft2(np.fft.fft2(Mnoisy)*np.fft.fft2(h)))\n",
    "depois = time.perf_counter()\n",
    "print(\"Tempo da filtragem espectral =\",depois-antes,\"segundos\")\n",
    "# Passa a imagem ruidosa 10 vezes no mesmo filtro.\n",
    "antes = time.perf_counter()\n",
    "Mdenoised10 = np.real(np.fft.ifft2(np.fft.fft2(Mnoisy)*np.fft.fft2(h)**10))\n",
    "depois = time.perf_counter()\n",
    "print(\"Tempo de 10 filtragens espectrais =\",depois-antes,\"segundos\")"
   ]
  },
  {
   "cell_type": "code",
   "execution_count": null,
   "metadata": {
    "slideshow": {
     "slide_type": "subslide"
    }
   },
   "outputs": [],
   "source": [
    "fig , ax = plt.subplots(1, 3, figsize=(20,12))\n",
    "ax[0].imshow(Mnoisy, cmap='gray');ax[0].set_title(\"Imagem ruidosa\");ax[0].axis(\"off\")\n",
    "ax[1].imshow(Mdenoised, cmap='gray');ax[1].set_title(\"Imagem com filtragem espectral\");ax[1].axis(\"off\")\n",
    "ax[2].imshow(Mdenoised10, cmap='gray');ax[2].set_title(\"Imagem com 10 filtragens espectrais\");ax[2].axis(\"off\");plt.show()"
   ]
  },
  {
   "cell_type": "markdown",
   "metadata": {
    "slideshow": {
     "slide_type": "slide"
    }
   },
   "source": [
    "## Filtro para detecção de bordas\n",
    "\n",
    "Uma borda de objeto contido em uma imagem $f(x,y)$ corresponde a uma posição onde a cor da imagem varia abruptamente. Por isso, o gradiente $$\\nabla f = \\begin{pmatrix}\n",
    "\t\\frac{\\partial f}{\\partial x} \\\\ \\frac{\\partial f}{\\partial y}\n",
    "\\end{pmatrix}$$ pode ser utilizado para calcular bordas como $\\|\\nabla f\\| \\gg 0$."
   ]
  },
  {
   "cell_type": "markdown",
   "metadata": {
    "slideshow": {
     "slide_type": "subslide"
    }
   },
   "source": [
    "Da definição de derivada temos:\n",
    "\n",
    "\\begin{align*}\n",
    "\t\\frac{\\partial f(x,y)}{\\partial x} &= \\lim\\limits_{\\partial\\rightarrow 0}\\frac{f(x+\\partial, y)-f(x,y)}{\\partial} \\\\\n",
    "\t\\frac{\\partial f(x,y)}{\\partial y} &= \\lim\\limits_{\\partial\\rightarrow 0}\\frac{f(x,y+\\partial)-f(x,y)}{\\partial} \\\\\n",
    "\\end{align*}\n",
    "de onde podemos obter aproximações discretas como\n",
    "\\begin{align*}\n",
    "\t\\frac{\\partial f(x,y)}{\\partial x} & \\approx \\frac{f(x+\\Delta_x, y)-f(x,y)}{\\Delta_x} \\\\\n",
    "\t\\frac{\\partial f(x,y)}{\\partial y} & \\approx \\frac{f(x,y+\\Delta_y)-f(x,y)}{\\Delta_y}\n",
    "\\end{align*}\n",
    "onde $\\Delta_x$ é a resolução de amostragem horizontal e $\\Delta_y$ é a resolução de amostragem vertical."
   ]
  },
  {
   "cell_type": "markdown",
   "metadata": {
    "slideshow": {
     "slide_type": "subslide"
    }
   },
   "source": [
    "### Filtros para detecção de bordas horizontais e bordas verticais\n",
    "\n",
    "As aproximações discretas da derivada sugerem os seguintes filtros convolucionais para detecção de bordas em imagens:\n",
    "\n",
    "- **bordas horizontais**\n",
    "\n",
    "$$y_{i,j} = x_{i+1,j}-x_{i,j},\\ \\mbox{ou}\\ y=h*x,\\ \\mbox{onde}\\ h_{0,0}=-1,\\ h_{-1,0}=1,\\ h_{r,s}=0, \\mbox{c.c.}$$\n",
    "\n",
    "- **bordas verticais**\n",
    "\n",
    "$$z_{i,j} = x_{i,j+1}-x_{i,j},\\ \\mbox{ou}\\ y=v*x,\\ \\mbox{onde}\\ v_{0,0}=-1,\\ v_{0,-1}=1,\\ v_{r,s}=0, \\mbox{c.c.}$$\n",
    "\n",
    "Um filtro indicador de bordas \"genérico\" poderia ser construído como\n",
    "\n",
    "\\begin{equation*}\n",
    "\tB_{i,j} = \\sqrt{|y_{i,j}|^2 + |z_{i,j}|^2}\\quad\\quad\\mbox{ou}\\quad\\quad B = \\sqrt{|y*x|^2 + |h*x|^2}\n",
    "\\end{equation*}"
   ]
  },
  {
   "cell_type": "code",
   "execution_count": null,
   "metadata": {
    "slideshow": {
     "slide_type": "subslide"
    }
   },
   "outputs": [],
   "source": [
    "v = np.zeros((1,2));v[0,0], v[0,1] = 1, -1;Mver = np.abs(sig.convolve2d(M,v,mode='same', boundary='wrap'));maximo = np.amax(Mver)\n",
    "fig, ax = plt.subplots(1, 3, figsize=(20,12));ax[0].imshow(M, cmap='gray');ax[0].axis(\"off\")\n",
    "ax[1].imshow(1-Mver/maximo, cmap='gray_r');ax[1].axis(\"off\")\n",
    "ax[2].imshow(1-Mver/maximo, cmap='gray');ax[2].axis(\"off\");ax[1].set_title(\"Filtragem de bordas verticais\");plt.show()"
   ]
  },
  {
   "cell_type": "code",
   "execution_count": null,
   "metadata": {
    "slideshow": {
     "slide_type": "subslide"
    }
   },
   "outputs": [],
   "source": [
    "h = np.zeros((2,1));h[0,0], h[1,0] = 1, -1;Mhor = np.abs(sig.convolve2d(M,h,mode='same', boundary='wrap'))\n",
    "maximo = np.amax(Mhor)\n",
    "fig, ax = plt.subplots(1, 3, figsize=(20,12));ax[0].imshow(M, cmap='gray');ax[0].axis(\"off\")\n",
    "ax[1].imshow(1-Mhor/maximo,cmap='gray_r');ax[1].axis(\"off\")\n",
    "ax[2].imshow(1-Mhor/maximo,cmap='gray');ax[2].axis(\"off\");ax[1].set_title(\"Filtragem de bordas horizontais\");plt.show()"
   ]
  },
  {
   "cell_type": "code",
   "execution_count": null,
   "metadata": {
    "slideshow": {
     "slide_type": "subslide"
    }
   },
   "outputs": [],
   "source": [
    "Mbordas = np.sqrt(Mhor**2+Mver**2);maximo = np.amax(Mbordas)\n",
    "# bordas combinadas\n",
    "fig, ax = plt.subplots(1, 3, figsize=(20,12));ax[0].imshow(M, cmap='gray');ax[0].axis(\"off\")\n",
    "ax[1].imshow(1-Mbordas/maximo, cmap='gray_r');ax[1].axis(\"off\");\n",
    "ax[2].imshow(1-Mbordas/maximo, cmap='gray');ax[2].axis(\"off\");\n",
    "ax[1].set_title(\"Combinação dos resultados da filtragem horizontal e vertical\");plt.show()"
   ]
  }
 ],
 "metadata": {
  "celltoolbar": "Slideshow",
  "kernelspec": {
   "display_name": "Python 3 (ipykernel)",
   "language": "python",
   "name": "python3"
  },
  "language_info": {
   "codemirror_mode": {
    "name": "ipython",
    "version": 3
   },
   "file_extension": ".py",
   "mimetype": "text/x-python",
   "name": "python",
   "nbconvert_exporter": "python",
   "pygments_lexer": "ipython3",
   "version": "3.9.6"
  }
 },
 "nbformat": 4,
 "nbformat_minor": 2
}
