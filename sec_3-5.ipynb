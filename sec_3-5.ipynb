{
 "cells": [
  {
   "cell_type": "markdown",
   "metadata": {
    "slideshow": {
     "slide_type": "slide"
    }
   },
   "source": [
    "# MAC0317/MAC5920\n",
    "## Introdução ao Processamento de Sinais Digitais\n",
    "### Seção 3.5: Propriedades da DCT"
   ]
  },
  {
   "cell_type": "code",
   "execution_count": null,
   "metadata": {
    "slideshow": {
     "slide_type": "skip"
    }
   },
   "outputs": [],
   "source": [
    "import math as m\n",
    "import numpy as np\n",
    "import scipy.fftpack as spfft\n",
    "import matplotlib.pyplot as plt\n",
    "from ipywidgets import FloatLogSlider,Label,Layout, interactive, VBox, AppLayout"
   ]
  },
  {
   "cell_type": "markdown",
   "metadata": {
    "slideshow": {
     "slide_type": "subslide"
    }
   },
   "source": [
    "### Seção 3.5.1: Formas básicas de onda para a DCT\n",
    "\n",
    "Denote por $\\mathcal{C}_{N,j}$ a $j$-ésima linha da matriz $\\mathcal{C}_N$, de tal forma que\n",
    "$$\\mathcal{C}_N\n",
    "= \\begin{pmatrix}\n",
    "\t\\quad\\mathcal{C}_{N,0}^T\\quad\\\\\\hline \\mathcal{C}_{N,1}^T \\\\\\hline \\vdots \\\\\\hline \\mathcal{C}_{N,N-1}^T\n",
    "\\end{pmatrix}\n",
    "\\ \\mbox{e}\\ \n",
    "\\mathcal{C}_N^T = \\left(\\begin{array}{c|c|c|c}\n",
    "\\rule{0mm}{0mm}\\\\\n",
    "\t\\mathcal{C}_{N,0} & \\mathcal{C}_{N,1} & \\cdots & \\mathcal{C}_{N,N-1}\\\\\n",
    "\\rule{0mm}{0mm}\n",
    "\\end{array}\\right)\n",
    "$$"
   ]
  },
  {
   "cell_type": "markdown",
   "metadata": {
    "slideshow": {
     "slide_type": "subslide"
    }
   },
   "source": [
    "Então\n",
    "\n",
    "\\begin{equation*}\n",
    "\tI = \\mathcal{C}_N\\mathcal{C}_N^{-1} = \\mathcal{C}_N\\mathcal{C}_N^T = \\begin{pmatrix}\n",
    "\t\t\\ddots & \\vdots & \\\\\n",
    "\t\t\\dots & \\mathcal{C}_{N,i}^T\\mathcal{C}_{N,j} & \\dots \\\\\n",
    "\t\t& \\vdots & \\ddots\n",
    "\t\\end{pmatrix}\n",
    "\\end{equation*}"
   ]
  },
  {
   "cell_type": "markdown",
   "metadata": {
    "slideshow": {
     "slide_type": "subslide"
    }
   },
   "source": [
    "Logo\n",
    "\n",
    "\\begin{equation*}\n",
    "\t(\\mathcal{C}_{N,i}, \\mathcal{C}_{N,j}) = \\mathcal{C}_{N,i}^T\\mathcal{C}_{N,j} = \\left\\{\\begin{array}{ll}\n",
    "\t\t1 & \\text{ se }i = j \\\\\n",
    "\t\t0 & \\text{ se }i \\neq j\n",
    "\t\\end{array}\\right.\n",
    "\\end{equation*}\n",
    "\n",
    "Ou seja, os vetores $\\mathcal{C}_{N,i}$:\n",
    "\n",
    "- possuem norma unitária, e\n",
    "- são ortogonais dois a dois (e portanto linearmente independentes)."
   ]
  },
  {
   "cell_type": "markdown",
   "metadata": {
    "slideshow": {
     "slide_type": "subslide"
    }
   },
   "source": [
    "Destas propriedades segue que a coleção de vetores $\\{\\mathcal{C}_{N,k}\\}_{k=0, 1, \\dots, N-1}$ onde \n",
    "\n",
    "\\begin{equation*}\n",
    "\t\\mathcal{C}_{N,0} = \\begin{pmatrix}\n",
    "\t\t\t\\sqrt{\\frac{1}{N}} \\\\ \\sqrt{\\frac{1}{N}} \\\\ \\vdots \\\\ \\sqrt{\\frac{1}{N}}\n",
    "\t\t\\end{pmatrix}\n",
    "        \\ \\mbox{e}\\ \n",
    "\t\\mathcal{C}_{N,k} = \\sqrt{\\frac{2}{N}}\\begin{pmatrix}\n",
    "\t\t\t\\cos\\left(\\frac{\\pi k\\left(0 + \\frac{1}{2}\\right)}{N}\\right) \\\\\n",
    "\t\t\t\\cos\\left(\\frac{\\pi k\\left(1 + \\frac{1}{2}\\right)}{N}\\right) \\\\\n",
    "\t\t\t\\vdots \\\\\n",
    "\t\t\t\\cos\\left(\\frac{\\pi k\\left(N-1 + \\frac{1}{2}\\right)}{N}\\right)\n",
    "\t\t\\end{pmatrix},\\ k \\neq 0\n",
    "\\end{equation*}\n",
    "\n",
    "é uma base **ortonormal** tanto para $\\mathbb{C}^N$ quanto para $\\mathbb{R}^N$."
   ]
  },
  {
   "cell_type": "markdown",
   "metadata": {
    "slideshow": {
     "slide_type": "subslide"
    }
   },
   "source": [
    "É importante lembrar que uma base ortonormal $\\{\\mathcal{C}_{N,k}\\}_{k=0, 1, \\dots, N-1}$ de $\\mathbb{C}^N$ permite a representação de um $x\\in\\mathbb{C}^N$ qualquer como\n",
    "\n",
    "\\begin{equation*}\n",
    "\tx = \\sum\\limits_{k=0}^{N-1}\\alpha_k \\mathcal{C}_{N,k}\n",
    "\\end{equation*}\n",
    "\n",
    "onde\n",
    "\n",
    "$$\\alpha_k = (x, \\mathcal{C}_{N,k}).$$"
   ]
  },
  {
   "cell_type": "markdown",
   "metadata": {
    "slideshow": {
     "slide_type": "subslide"
    }
   },
   "source": [
    "Logo,\n",
    "\n",
    "$$\\alpha_k = (x, \\mathcal{C}_{N,k}) = \\left\\{\\begin{array}{ll}\n",
    "\t\\sum\\limits_{m=0}^{N-1} x_m \\sqrt{\\frac{1}{N}} & \\text{ se } k = 0 \\\\\n",
    "\t\\sum\\limits_{m=0}^{N-1} x_m \\sqrt{\\frac{2}{N}}\\cos\\left(\\frac{\\pi k\\left(m + \\frac{1}{2}\\right)}{N}\\right) & \\text{ se } k \\neq 0,\n",
    "\\end{array}\\right.$$\n",
    "\n",
    "ou seja, $\\alpha_k=C_k$ onde $C=DCT(x)$."
   ]
  },
  {
   "cell_type": "markdown",
   "metadata": {
    "slideshow": {
     "slide_type": "subslide"
    }
   },
   "source": [
    "Também segue do fato de $\\{\\mathcal{C}_{N,k}\\}_{k=0, 1, \\dots, N-1}$ ser uma base de $\\mathbb{C}^N$, a observação que a DCT, assim como a DFT, também pode ser aplicada a sinais $x\\in\\mathbb{C}^N$ complexos (produzindo $C\\in\\mathbb{C}^N$). \n",
    "\n",
    "Por outro lado, diferentemente da DFT,\n",
    "\n",
    "$$x\\in\\mathbb{R}^N\\iff C = DCT(x)\\in\\mathbb{R}^N.$$"
   ]
  },
  {
   "cell_type": "markdown",
   "metadata": {
    "slideshow": {
     "slide_type": "slide"
    }
   },
   "source": [
    "### Seção 3.5.2: Domínio da frequência para a DCT\n",
    "\n",
    "As funções básicas $(\\mathcal{C}_{k})_n=\\sqrt{\\frac{\"1\\ \\mbox{ou}\\ 2\"}{N}}\\cos\\left(\\frac{2\\pi\\frac{k}{2}(n+\\frac{1}{2})}{N}\\right)$ são:"
   ]
  },
  {
   "cell_type": "code",
   "execution_count": null,
   "metadata": {
    "slideshow": {
     "slide_type": "skip"
    }
   },
   "outputs": [],
   "source": [
    "def plota_base_DCT(N):\n",
    "    t = np.arange(0.5,N,1); plt.figure(figsize=(15,5))\n",
    "    plt.title(r'Funções básicas da DCT $\\mathcal{C}_{256,k}$ $0\\leq k < 9$')\n",
    "    plt.xlabel('tempo (amostras)'); plt.ylabel('amplitude')\n",
    "    plt.axhline(y=0.0, color='gray', linestyle='--', ms=1)\n",
    "    for k in range(10):\n",
    "        plt.plot(t, m.sqrt((1+(k>0))/N)*np.cos(m.pi*k*t/N), label=r\"$\\mathcal{C}_{%d}$\" % k)\n",
    "    plt.title(\"Figura 3.8: Funções básicas usadas na DCT\")\n",
    "    plt.legend(loc='upper left', bbox_to_anchor=(1, 1))\n",
    "    plt.show()"
   ]
  },
  {
   "cell_type": "code",
   "execution_count": null,
   "metadata": {
    "slideshow": {
     "slide_type": "fragment"
    }
   },
   "outputs": [],
   "source": [
    "plota_base_DCT(256)"
   ]
  },
  {
   "cell_type": "markdown",
   "metadata": {
    "slideshow": {
     "slide_type": "slide"
    }
   },
   "source": [
    "## Seção 3.5.3 -  Repetição dos exemplos de compressão usando DCT ao invés de DFT"
   ]
  },
  {
   "cell_type": "markdown",
   "metadata": {
    "slideshow": {
     "slide_type": "subslide"
    }
   },
   "source": [
    "### Exemplo 1: Função $f(t) = (t-t^2)^2$"
   ]
  },
  {
   "cell_type": "code",
   "execution_count": null,
   "metadata": {
    "slideshow": {
     "slide_type": "skip"
    }
   },
   "outputs": [],
   "source": [
    "# função auxiliar\n",
    "def plot_func_dct(t,f):\n",
    "    N = len(t)\n",
    "    F = spfft.dct(f, norm='ortho')\n",
    "\n",
    "    fig, ax = plt.subplots(1,2,figsize=(15,5))\n",
    "    ax[0].set_title('Sinal f(t)')\n",
    "    ax[0].plot(t,f)\n",
    "    ax[0].set_xlabel('tempo (s)')\n",
    "    ax[0].set_ylabel('amplitude')\n",
    "    ax[1].set_title('Espectro DCT')\n",
    "    ax[1].plot(np.arange(N),F/N)\n",
    "    ax[1].set_xlabel('bins')\n",
    "    ax[1].set_ylabel('amplitude')\n",
    "    plt.show()"
   ]
  },
  {
   "cell_type": "code",
   "execution_count": null,
   "metadata": {
    "slideshow": {
     "slide_type": "fragment"
    }
   },
   "outputs": [],
   "source": [
    "t = np.linspace(0, 1, 256)\n",
    "f = (t - t**2) **2\n",
    "X = plot_func_dct(t,f)"
   ]
  },
  {
   "cell_type": "code",
   "execution_count": null,
   "metadata": {
    "slideshow": {
     "slide_type": "skip"
    }
   },
   "outputs": [],
   "source": [
    "# funções auxiliares\n",
    "def thresholding(f, c, method='fft'):\n",
    "    trans = (lambda x: spfft.dct(x, norm='ortho', type=2)) if method=='dct' else np.fft.fft\n",
    "    itrans = (lambda x: spfft.idct(x,norm='ortho',type=2)) if method=='dct' else np.fft.ifft\n",
    "    F = trans(f)\n",
    "    M = max(abs(F))\n",
    "    F_tilde = np.array([F_k if abs(F_k) > c*M else 0.0 for F_k in F])\n",
    "    f_tilde = np.real(itrans(F_tilde))\n",
    "    return f_tilde, F_tilde\n",
    "\n",
    "def compression(X_tilde):\n",
    "    return np.count_nonzero(X_tilde)/len(X_tilde)\n",
    "\n",
    "def distortion(f, f_tilde):\n",
    "    return np.linalg.norm(f-f_tilde)**2 / np.linalg.norm(f)**2\n",
    "\n",
    "def comp_dist_list(f,C, method='fft'):\n",
    "    P = []\n",
    "    D = []\n",
    "    for c in C:\n",
    "        f_tilde, F_tilde = thresholding(f, c, method=method)\n",
    "        P += [compression(F_tilde)]\n",
    "        D += [distortion(f, f_tilde)]\n",
    "    return P, D\n",
    "\n",
    "def plot_threshold(f, c_min=0.05, c_max=0.5):\n",
    "    C = np.arange(c_min,c_max, 1/(100*c_max))\n",
    "    P, D = comp_dist_list(f,C,method='fft')\n",
    "    PC, DC = comp_dist_list(f,C,method='dct')\n",
    "    fig, ax = plt.subplots(1,2,figsize=(15,5))\n",
    "    ax[0].plot(C, P, label='FFT')\n",
    "    ax[0].plot(C, PC, label='DCT')\n",
    "    ax[0].set_title(\"Compressão do sinal com FFT e DCT\")\n",
    "    ax[0].set_xlabel(\"c\")\n",
    "    ax[0].set_ylabel(\"Compressão\")\n",
    "    ax[1].plot(C, D, label='FFT')\n",
    "    ax[1].plot(C, DC, label='DCT')\n",
    "    ax[1].set_title(\"Distorção do sinal com FFT e DCT\")\n",
    "    ax[1].set_xlabel(\"c\")\n",
    "    ax[1].set_ylabel(\"Distorção\")\n",
    "    \n",
    "    plt.legend(loc='upper left', bbox_to_anchor=(1, 1))\n",
    "    plt.show()"
   ]
  },
  {
   "cell_type": "code",
   "execution_count": null,
   "metadata": {
    "slideshow": {
     "slide_type": "subslide"
    }
   },
   "outputs": [],
   "source": [
    "plot_threshold(f, c_max=0.5)"
   ]
  },
  {
   "cell_type": "markdown",
   "metadata": {
    "slideshow": {
     "slide_type": "slide"
    }
   },
   "source": [
    "## Exemplo 2: Função degrau"
   ]
  },
  {
   "cell_type": "code",
   "execution_count": null,
   "metadata": {
    "slideshow": {
     "slide_type": "fragment"
    }
   },
   "outputs": [],
   "source": [
    "N = 256\n",
    "t = np.linspace(0, 1, N);\n",
    "f = np.zeros(N)\n",
    "f[0 : int(np.floor(0.2 * N+1))] += 1\n",
    "plot_func_dct(t,f)"
   ]
  },
  {
   "cell_type": "code",
   "execution_count": null,
   "metadata": {
    "slideshow": {
     "slide_type": "subslide"
    }
   },
   "outputs": [],
   "source": [
    "plot_threshold(f, c_max=0.5)"
   ]
  },
  {
   "cell_type": "markdown",
   "metadata": {
    "slideshow": {
     "slide_type": "subslide"
    }
   },
   "source": [
    "## Reconstrução da função degrau usando DCT (iterativo)"
   ]
  },
  {
   "cell_type": "code",
   "execution_count": null,
   "metadata": {
    "slideshow": {
     "slide_type": "skip"
    }
   },
   "outputs": [],
   "source": [
    "c = FloatLogSlider(value=-3,base=10, min=-3,max=0,basestep=0.2, continuous_update=False, layout=Layout(width='95%'))\n",
    "def plt_sampled_signal(c):\n",
    "    N = 256\n",
    "    t = np.linspace(0, 1, N);\n",
    "    f = np.zeros(N)\n",
    "    f[0 : int(np.floor(0.2 * N+1))] += 1\n",
    "    f_tilde, F_tilde = thresholding(f, c, method='fft')\n",
    "    fc_tilde, FC_tilde = thresholding(f, c, method='dct')\n",
    "\n",
    "    \n",
    "    fig, ax = plt.subplots(1,2,figsize=(15,5))\n",
    "    ax[0].plot(t, f, label='Original')\n",
    "    ax[0].plot(t, f_tilde, label='Comprimido')\n",
    "    ax[0].set_title('Reconstrução FFT')\n",
    "    ax[0].set_ylabel('amplitude')\n",
    "    ax[0].set_xlabel(f'tempo (s)\\n\\nCompressão(FFT): {compression(F_tilde)*100:.2f}%\\nDistorção(FFT): {distortion(f,f_tilde)*100:.2f}%')\n",
    "    ax[0].set_ylabel('amplitude')\n",
    "    ax[1].plot(t, f, label='Original')\n",
    "    ax[1].plot(t, fc_tilde, label='Comprimido')\n",
    "    ax[1].set_title('Reconstrução DCT')\n",
    "    ax[1].set_xlabel(f'bins\\n\\nCompressão(DCT): {compression(FC_tilde)*100:.2f}%\\nDistorção(DCT): {distortion(f,fc_tilde)*100:.2f}%')\n",
    "    ax[1].set_ylabel('amplitude')\n",
    "    \n",
    "    plt.legend(loc='upper left', bbox_to_anchor=(1, 1))\n",
    "    plt.show()"
   ]
  },
  {
   "cell_type": "code",
   "execution_count": null,
   "metadata": {
    "slideshow": {
     "slide_type": "fragment"
    }
   },
   "outputs": [],
   "source": [
    "# Cria o ambiente interativo\n",
    "w = interactive(plt_sampled_signal, c=c,)\n",
    "display(VBox([w.children[1], w.children[0]], layout=Layout(align_items='center')))\n",
    "w.update()"
   ]
  },
  {
   "cell_type": "markdown",
   "metadata": {
    "slideshow": {
     "slide_type": "slide"
    }
   },
   "source": [
    "## Exemplo 3: Função $\\ f(t) = t$"
   ]
  },
  {
   "cell_type": "code",
   "execution_count": null,
   "metadata": {
    "slideshow": {
     "slide_type": "fragment"
    }
   },
   "outputs": [],
   "source": [
    "N=256;\n",
    "t = np.linspace(0,1,N);\n",
    "f = t;\n",
    "plot_func_dct(t,f)"
   ]
  },
  {
   "cell_type": "markdown",
   "metadata": {
    "slideshow": {
     "slide_type": "subslide"
    }
   },
   "source": [
    "## Gráfico correspondente à Tabela 3.6 para $f(t)=t$"
   ]
  },
  {
   "cell_type": "code",
   "execution_count": null,
   "metadata": {
    "slideshow": {
     "slide_type": "fragment"
    }
   },
   "outputs": [],
   "source": [
    "plot_threshold(f)"
   ]
  },
  {
   "cell_type": "markdown",
   "metadata": {
    "slideshow": {
     "slide_type": "subslide"
    }
   },
   "source": [
    "## Reconstrução da função $\\ f(t)=t$ usando DCT (iterativo)"
   ]
  },
  {
   "cell_type": "code",
   "execution_count": null,
   "metadata": {
    "slideshow": {
     "slide_type": "skip"
    }
   },
   "outputs": [],
   "source": [
    "c = FloatLogSlider(value=-3,base=10, min=-3,max=0,basestep=0.2, continuous_update=False, layout=Layout(width='95%'))\n",
    "def plt_sampled_signal(c):\n",
    "    N = 256\n",
    "    t = np.linspace(0, 1, N);\n",
    "    f = t\n",
    "    f_tilde, F_tilde = thresholding(f, c, method='fft')\n",
    "    fc_tilde, FC_tilde = thresholding(f, c, method='dct')\n",
    "\n",
    "    \n",
    "    fig, ax = plt.subplots(1,2,figsize=(15,5))\n",
    "    ax[0].plot(t, f, label='Original')\n",
    "    ax[0].plot(t, f_tilde, label='Comprimido')\n",
    "    ax[0].set_title('Reconstrução FFT')\n",
    "    ax[0].set_ylabel('amplitude')\n",
    "    ax[0].set_xlabel(f'tempo (s)\\n\\nCompressão(FFT): {compression(F_tilde)*100:.2f}%\\nDistorção(FFT): {distortion(f,f_tilde)*100:.2f}%')\n",
    "    ax[0].set_ylabel('amplitude')\n",
    "    ax[1].plot(t, f, label='Original')\n",
    "    ax[1].plot(t, fc_tilde, label='Comprimido')\n",
    "    ax[1].set_title('Reconstrução DCT')\n",
    "    ax[1].set_xlabel(f'bins\\n\\nCompressão(DCT): {compression(FC_tilde)*100:.2f}%\\nDistorção(DCT): {distortion(f,fc_tilde)*100:.2f}%')\n",
    "    ax[1].set_ylabel('amplitude')\n",
    "    \n",
    "    plt.legend(loc='upper left', bbox_to_anchor=(1, 1))\n",
    "    plt.show()"
   ]
  },
  {
   "cell_type": "code",
   "execution_count": null,
   "metadata": {
    "slideshow": {
     "slide_type": "fragment"
    }
   },
   "outputs": [],
   "source": [
    "# Cria o ambiente interativo\n",
    "w = interactive(plt_sampled_signal, c=c,)\n",
    "display(VBox([w.children[1], w.children[0]], layout=Layout(align_items='center')))\n",
    "w.update()"
   ]
  },
  {
   "cell_type": "code",
   "execution_count": null,
   "metadata": {
    "slideshow": {
     "slide_type": "subslide"
    }
   },
   "outputs": [],
   "source": [
    "X = np.fft.fft(f)\n",
    "C1 = np.linspace(1e-8,10 ** -0.3, 50)\n",
    "P, D = comp_dist_list(f,C1,method='fft')\n",
    "PC, DC = comp_dist_list(f,C1,method='dct')\n",
    "plt.figure(figsize=(15,5));plt.plot(P, D, label='FFT');plt.plot(PC, DC, label='DCT')\n",
    "plt.title(\"$D(c)$ versus $P(c)$ na compressao de $f(t)=t$ usando FFT e DCT\");plt.xlabel(\"P(c)\");plt.ylabel(\"D(c)\");plt.xlim([0,0.5])\n",
    "plt.legend(loc='upper left', bbox_to_anchor=(1, 1));plt.show()"
   ]
  }
 ],
 "metadata": {
  "celltoolbar": "Slideshow",
  "kernelspec": {
   "display_name": "Python 3",
   "language": "python",
   "name": "python3"
  },
  "language_info": {
   "codemirror_mode": {
    "name": "ipython",
    "version": 3
   },
   "file_extension": ".py",
   "mimetype": "text/x-python",
   "name": "python",
   "nbconvert_exporter": "python",
   "pygments_lexer": "ipython3",
   "version": "3.7.11"
  }
 },
 "nbformat": 4,
 "nbformat_minor": 2
}
